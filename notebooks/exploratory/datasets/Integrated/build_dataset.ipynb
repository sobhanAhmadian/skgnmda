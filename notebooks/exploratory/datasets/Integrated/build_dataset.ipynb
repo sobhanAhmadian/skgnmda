{
 "cells": [
  {
   "cell_type": "code",
   "execution_count": 2,
   "id": "initial_id",
   "metadata": {
    "collapsed": true,
    "ExecuteTime": {
     "end_time": "2023-12-18T07:00:21.614323381Z",
     "start_time": "2023-12-18T07:00:21.517614408Z"
    }
   },
   "outputs": [
    {
     "name": "stdout",
     "output_type": "stream",
     "text": [
      "/home/user/Documents/Students/Sobhan Ahmadian/Projects/SKGNMDA\r\n"
     ]
    }
   ],
   "source": [
    "!pwd"
   ]
  },
  {
   "cell_type": "code",
   "execution_count": 1,
   "outputs": [
    {
     "name": "stdout",
     "output_type": "stream",
     "text": [
      "/home/user/Documents/Students/Sobhan Ahmadian/Projects/SKGNMDA\n"
     ]
    },
    {
     "name": "stderr",
     "output_type": "stream",
     "text": [
      "/home/user/Documents/Students/Sobhan Ahmadian/Projects/SKGNMDA/venv/lib/python3.10/site-packages/IPython/core/magics/osm.py:417: UserWarning: using dhist requires you to install the `pickleshare` library.\n",
      "  self.shell.db['dhist'] = compress_dhist(dhist)[-100:]\n"
     ]
    }
   ],
   "source": [
    "cd /home/user/Documents/Students/Sobhan Ahmadian/Projects/SKGNMDA"
   ],
   "metadata": {
    "collapsed": false,
    "ExecuteTime": {
     "end_time": "2023-12-21T17:37:59.701944488Z",
     "start_time": "2023-12-21T17:37:59.701262934Z"
    }
   },
   "id": "fcebda6a357d5e78"
  },
  {
   "cell_type": "markdown",
   "source": [
    "# All Entities"
   ],
   "metadata": {
    "collapsed": false
   },
   "id": "7ad0ea18dd81be9d"
  },
  {
   "cell_type": "code",
   "execution_count": 2,
   "outputs": [],
   "source": [
    "from src.features import clean_entity_files, load_vmh_entities\n",
    "\n",
    "clean_entity_files()\n",
    "load_vmh_entities()"
   ],
   "metadata": {
    "collapsed": false,
    "ExecuteTime": {
     "end_time": "2023-12-21T17:38:06.680019888Z",
     "start_time": "2023-12-21T17:38:01.711859708Z"
    }
   },
   "id": "96d32451cc02493c"
  },
  {
   "cell_type": "markdown",
   "source": [
    "# All Relations"
   ],
   "metadata": {
    "collapsed": false
   },
   "id": "46280df7e8561cb2"
  },
  {
   "cell_type": "code",
   "execution_count": 3,
   "outputs": [],
   "source": [
    "from src.features import clean_relation_files, load_vmh_relations\n",
    "\n",
    "clean_relation_files()\n",
    "load_vmh_relations()"
   ],
   "metadata": {
    "collapsed": false,
    "ExecuteTime": {
     "end_time": "2023-12-21T17:41:47.052372102Z",
     "start_time": "2023-12-21T17:38:09.371928092Z"
    }
   },
   "id": "27f9a13504aab08d"
  },
  {
   "cell_type": "markdown",
   "source": [
    "# Subsystems"
   ],
   "metadata": {
    "collapsed": false
   },
   "id": "9e9478c157c668ba"
  },
  {
   "cell_type": "code",
   "execution_count": 3,
   "outputs": [
    {
     "name": "stdout",
     "output_type": "stream",
     "text": [
      "Expecting value: line 1 column 1 (char 0)\n",
      "Expecting value: line 1 column 1 (char 0)\n",
      "Expecting value: line 1 column 1 (char 0)\n"
     ]
    }
   ],
   "source": [
    "from src.features import load_vmh_subsystems\n",
    "\n",
    "load_vmh_subsystems()"
   ],
   "metadata": {
    "collapsed": false,
    "ExecuteTime": {
     "end_time": "2023-12-18T07:00:44.630354233Z",
     "start_time": "2023-12-18T07:00:43.434141308Z"
    }
   },
   "id": "ab72534d55157c52"
  },
  {
   "cell_type": "markdown",
   "source": [
    "# Reactions"
   ],
   "metadata": {
    "collapsed": false
   },
   "id": "bc1b30e3faf690f0"
  },
  {
   "cell_type": "code",
   "execution_count": 4,
   "outputs": [
    {
     "name": "stdout",
     "output_type": "stream",
     "text": [
      "Expecting value: line 1 column 1 (char 0)\n"
     ]
    }
   ],
   "source": [
    "from src.features import load_vmh_reaction\n",
    "\n",
    "load_vmh_reaction()"
   ],
   "metadata": {
    "collapsed": false,
    "ExecuteTime": {
     "end_time": "2023-12-18T07:20:03.503359230Z",
     "start_time": "2023-12-18T07:01:14.678034612Z"
    }
   },
   "id": "a1a615df18a1be37"
  },
  {
   "cell_type": "markdown",
   "source": [
    "# Microbes"
   ],
   "metadata": {
    "collapsed": false
   },
   "id": "b628c6622a2dd7ed"
  },
  {
   "cell_type": "code",
   "execution_count": 5,
   "outputs": [
    {
     "name": "stdout",
     "output_type": "stream",
     "text": [
      "Expecting value: line 1 column 1 (char 0)\n"
     ]
    }
   ],
   "source": [
    "from src.features import load_vmh_microbes\n",
    "\n",
    "load_vmh_microbes()"
   ],
   "metadata": {
    "collapsed": false,
    "ExecuteTime": {
     "end_time": "2023-12-18T07:21:34.953462522Z",
     "start_time": "2023-12-18T07:20:03.499298364Z"
    }
   },
   "id": "29926124b239741a"
  },
  {
   "cell_type": "markdown",
   "source": [
    "# Body Locations"
   ],
   "metadata": {
    "collapsed": false
   },
   "id": "cbf2e7f725486f56"
  },
  {
   "cell_type": "code",
   "execution_count": 6,
   "outputs": [
    {
     "name": "stdout",
     "output_type": "stream",
     "text": [
      "Expecting value: line 1 column 1 (char 0)\n"
     ]
    }
   ],
   "source": [
    "from src.features import load_vmh_body_location\n",
    "\n",
    "load_vmh_body_location()"
   ],
   "metadata": {
    "collapsed": false,
    "ExecuteTime": {
     "end_time": "2023-12-18T07:21:35.791165256Z",
     "start_time": "2023-12-18T07:21:34.954656008Z"
    }
   },
   "id": "f8aa6de35cbaa523"
  },
  {
   "cell_type": "markdown",
   "source": [
    "# Metabolites"
   ],
   "metadata": {
    "collapsed": false
   },
   "id": "30eaa2c16305a339"
  },
  {
   "cell_type": "code",
   "execution_count": 7,
   "outputs": [
    {
     "name": "stdout",
     "output_type": "stream",
     "text": [
      "Expecting value: line 1 column 1 (char 0)\n"
     ]
    }
   ],
   "source": [
    "from src.features import load_vmh_metabolites\n",
    "\n",
    "load_vmh_metabolites()"
   ],
   "metadata": {
    "collapsed": false,
    "ExecuteTime": {
     "end_time": "2023-12-18T07:34:04.455379817Z",
     "start_time": "2023-12-18T07:21:35.793710131Z"
    }
   },
   "id": "8b70dc3df349df61"
  },
  {
   "cell_type": "markdown",
   "source": [
    "# Diseases"
   ],
   "metadata": {
    "collapsed": false
   },
   "id": "ab071b92c24ed7d6"
  },
  {
   "cell_type": "code",
   "execution_count": 8,
   "outputs": [
    {
     "name": "stdout",
     "output_type": "stream",
     "text": [
      "Expecting value: line 1 column 1 (char 0)\n"
     ]
    }
   ],
   "source": [
    "from src.features import load_vmh_diseases\n",
    "\n",
    "load_vmh_diseases()"
   ],
   "metadata": {
    "collapsed": false,
    "ExecuteTime": {
     "end_time": "2023-12-18T07:34:42.204980824Z",
     "start_time": "2023-12-18T07:34:04.431723588Z"
    }
   },
   "id": "53f8058a7f784343"
  },
  {
   "cell_type": "markdown",
   "source": [
    "# Compartments"
   ],
   "metadata": {
    "collapsed": false
   },
   "id": "3d35efbd2ed9b31f"
  },
  {
   "cell_type": "code",
   "execution_count": 9,
   "outputs": [
    {
     "name": "stdout",
     "output_type": "stream",
     "text": [
      "Expecting value: line 1 column 1 (char 0)\n"
     ]
    }
   ],
   "source": [
    "from src.features import load_vmh_compartments\n",
    "\n",
    "load_vmh_compartments()"
   ],
   "metadata": {
    "collapsed": false,
    "ExecuteTime": {
     "end_time": "2023-12-18T07:34:43.413686793Z",
     "start_time": "2023-12-18T07:34:42.208120208Z"
    }
   },
   "id": "f61a68162fe4aad2"
  },
  {
   "cell_type": "markdown",
   "source": [
    "# MicrobeLocated"
   ],
   "metadata": {
    "collapsed": false
   },
   "id": "10e96d984a45f62e"
  },
  {
   "cell_type": "code",
   "execution_count": 2,
   "outputs": [
    {
     "name": "stdout",
     "output_type": "stream",
     "text": [
      "Expecting value: line 1 column 1 (char 0)\n",
      "Expecting value: line 1 column 1 (char 0)\n",
      "Expecting value: line 1 column 1 (char 0)\n"
     ]
    }
   ],
   "source": [
    "from src.features import load_vmh_microbe_located_relations\n",
    "\n",
    "load_vmh_microbe_located_relations()"
   ],
   "metadata": {
    "collapsed": false,
    "ExecuteTime": {
     "end_time": "2023-12-19T12:40:22.511069272Z",
     "start_time": "2023-12-19T12:40:13.913089332Z"
    }
   },
   "id": "1fb27f1e5624682c"
  },
  {
   "cell_type": "markdown",
   "source": [
    "# LocHasMicrobe"
   ],
   "metadata": {
    "collapsed": false
   },
   "id": "860f431829e5a947"
  },
  {
   "cell_type": "code",
   "execution_count": 2,
   "outputs": [],
   "source": [
    "from src.features import load_vmh_loc_has_microbe_relations\n",
    "\n",
    "load_vmh_loc_has_microbe_relations()"
   ],
   "metadata": {
    "collapsed": false,
    "ExecuteTime": {
     "end_time": "2023-12-21T14:50:41.879410454Z",
     "start_time": "2023-12-21T14:50:28.861505991Z"
    }
   },
   "id": "ef4a6b784c5b85af"
  },
  {
   "cell_type": "markdown",
   "source": [
    "# MicrobeHasReact"
   ],
   "metadata": {
    "collapsed": false
   },
   "id": "70511756d3cc113f"
  },
  {
   "cell_type": "code",
   "execution_count": 2,
   "outputs": [],
   "source": [
    "from src.features import load_vmh_microbe_has_react_relations\n",
    "\n",
    "load_vmh_microbe_has_react_relations()"
   ],
   "metadata": {
    "collapsed": false,
    "ExecuteTime": {
     "end_time": "2023-12-21T14:47:08.632809188Z",
     "start_time": "2023-12-21T14:45:56.154701519Z"
    }
   },
   "id": "8aea750cb30c013b"
  },
  {
   "cell_type": "markdown",
   "source": [
    "# ReactInSub"
   ],
   "metadata": {
    "collapsed": false
   },
   "id": "72866cfcfa4eb641"
  },
  {
   "cell_type": "code",
   "execution_count": 3,
   "outputs": [],
   "source": [
    "from src.features import load_vmh_react_in_sub_relations\n",
    "\n",
    "load_vmh_react_in_sub_relations()"
   ],
   "metadata": {
    "collapsed": false,
    "ExecuteTime": {
     "end_time": "2023-12-21T15:44:51.367180738Z",
     "start_time": "2023-12-21T15:44:38.869272987Z"
    }
   },
   "id": "c49fd5f1aec464de"
  },
  {
   "cell_type": "markdown",
   "source": [
    "# SubHasReact"
   ],
   "metadata": {
    "collapsed": false
   },
   "id": "95e42f992b599e1d"
  },
  {
   "cell_type": "code",
   "execution_count": 2,
   "outputs": [],
   "source": [
    "from src.features import load_vmh_sub_has_react_relations\n",
    "\n",
    "load_vmh_sub_has_react_relations()"
   ],
   "metadata": {
    "collapsed": false,
    "ExecuteTime": {
     "end_time": "2023-12-21T15:49:43.411164300Z",
     "start_time": "2023-12-21T15:49:29.869868697Z"
    }
   },
   "id": "eaed2311b903a42a"
  },
  {
   "cell_type": "markdown",
   "source": [
    "# ReactantIn"
   ],
   "metadata": {
    "collapsed": false
   },
   "id": "9552a8501a437c43"
  },
  {
   "cell_type": "code",
   "execution_count": 2,
   "outputs": [],
   "source": [
    "from src.features import load_vmh_reactant_in_relations\n",
    "\n",
    "load_vmh_reactant_in_relations()"
   ],
   "metadata": {
    "collapsed": false,
    "ExecuteTime": {
     "end_time": "2023-12-21T16:36:22.382538618Z",
     "start_time": "2023-12-21T16:36:14.037152318Z"
    }
   },
   "id": "285e9d3cf73967f3"
  },
  {
   "cell_type": "markdown",
   "source": [
    "# ProductIn"
   ],
   "metadata": {
    "collapsed": false
   },
   "id": "98485abc04b542eb"
  },
  {
   "cell_type": "code",
   "execution_count": 3,
   "outputs": [],
   "source": [
    "from src.features import load_vmh_product_in_relations\n",
    "\n",
    "load_vmh_product_in_relations()"
   ],
   "metadata": {
    "collapsed": false,
    "ExecuteTime": {
     "end_time": "2023-12-21T16:37:27.643447872Z",
     "start_time": "2023-12-21T16:37:20.559637502Z"
    }
   },
   "id": "1a0f0ac993a45ee1"
  },
  {
   "cell_type": "markdown",
   "source": [
    "# HasReactant"
   ],
   "metadata": {
    "collapsed": false
   },
   "id": "2578d514641c17b7"
  },
  {
   "cell_type": "code",
   "execution_count": 4,
   "outputs": [],
   "source": [
    "from src.features import load_vmh_has_reactant_relations\n",
    "\n",
    "load_vmh_has_reactant_relations()"
   ],
   "metadata": {
    "collapsed": false,
    "ExecuteTime": {
     "end_time": "2023-12-21T16:37:36.497879302Z",
     "start_time": "2023-12-21T16:37:27.645243766Z"
    }
   },
   "id": "1d4ea64228c6cc0c"
  },
  {
   "cell_type": "markdown",
   "source": [
    "# HasProduct"
   ],
   "metadata": {
    "collapsed": false
   },
   "id": "daa7ecee3ba10a63"
  },
  {
   "cell_type": "code",
   "execution_count": 5,
   "outputs": [],
   "source": [
    "from src.features import load_vmh_has_product_relations\n",
    "\n",
    "load_vmh_has_product_relations()"
   ],
   "metadata": {
    "collapsed": false,
    "ExecuteTime": {
     "end_time": "2023-12-21T16:37:44.297502138Z",
     "start_time": "2023-12-21T16:37:36.501790389Z"
    }
   },
   "id": "3797fea7c4c309d2"
  },
  {
   "cell_type": "markdown",
   "source": [
    "# Biomarker"
   ],
   "metadata": {
    "collapsed": false
   },
   "id": "8e7f1b31241fcc81"
  },
  {
   "cell_type": "code",
   "execution_count": 2,
   "outputs": [],
   "source": [
    "from src.features import load_vmh_biomarker_relations\n",
    "\n",
    "load_vmh_biomarker_relations()"
   ],
   "metadata": {
    "collapsed": false,
    "ExecuteTime": {
     "end_time": "2023-12-21T17:11:42.282525181Z",
     "start_time": "2023-12-21T17:11:39.622865894Z"
    }
   },
   "id": "bbb0979587e04089"
  },
  {
   "cell_type": "markdown",
   "source": [
    "# ComHasMet"
   ],
   "metadata": {
    "collapsed": false
   },
   "id": "e8b655b9da351fc2"
  },
  {
   "cell_type": "code",
   "execution_count": 2,
   "outputs": [],
   "source": [
    "from src.features import load_vmh_comp_has_met_relations\n",
    "\n",
    "load_vmh_comp_has_met_relations()"
   ],
   "metadata": {
    "collapsed": false,
    "ExecuteTime": {
     "end_time": "2023-12-21T17:35:03.567739798Z",
     "start_time": "2023-12-21T17:35:00.161171638Z"
    }
   },
   "id": "b0d909fef1cad9dc"
  },
  {
   "cell_type": "markdown",
   "source": [
    "# MetInComp"
   ],
   "metadata": {
    "collapsed": false
   },
   "id": "d8e79e1d57221738"
  },
  {
   "cell_type": "code",
   "execution_count": 3,
   "outputs": [],
   "source": [
    "from src.features import load_vmh_met_in_comp_relations\n",
    "\n",
    "load_vmh_met_in_comp_relations()"
   ],
   "metadata": {
    "collapsed": false,
    "ExecuteTime": {
     "end_time": "2023-12-21T17:35:08.414163654Z",
     "start_time": "2023-12-21T17:35:05.190487296Z"
    }
   },
   "id": "3569850d3e37269f"
  }
 ],
 "metadata": {
  "kernelspec": {
   "display_name": "Python 3",
   "language": "python",
   "name": "python3"
  },
  "language_info": {
   "codemirror_mode": {
    "name": "ipython",
    "version": 2
   },
   "file_extension": ".py",
   "mimetype": "text/x-python",
   "name": "python",
   "nbconvert_exporter": "python",
   "pygments_lexer": "ipython2",
   "version": "2.7.6"
  }
 },
 "nbformat": 4,
 "nbformat_minor": 5
}
