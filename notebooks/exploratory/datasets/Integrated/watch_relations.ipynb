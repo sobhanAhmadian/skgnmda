{
 "cells": [
  {
   "cell_type": "code",
   "execution_count": 1,
   "id": "initial_id",
   "metadata": {
    "collapsed": true,
    "ExecuteTime": {
     "end_time": "2023-12-26T07:22:50.353350554Z",
     "start_time": "2023-12-26T07:22:50.352393203Z"
    }
   },
   "outputs": [
    {
     "name": "stdout",
     "output_type": "stream",
     "text": [
      "/home/user/Documents/Students/Sobhan Ahmadian/Projects/SKGNMDA\n"
     ]
    },
    {
     "name": "stderr",
     "output_type": "stream",
     "text": [
      "/home/user/Documents/Students/Sobhan Ahmadian/Projects/SKGNMDA/venv/lib/python3.10/site-packages/IPython/core/magics/osm.py:417: UserWarning: using dhist requires you to install the `pickleshare` library.\n",
      "  self.shell.db['dhist'] = compress_dhist(dhist)[-100:]\n"
     ]
    }
   ],
   "source": [
    "cd /home/user/Documents/Students/Sobhan Ahmadian/Projects/SKGNMDA"
   ]
  },
  {
   "cell_type": "code",
   "execution_count": 2,
   "outputs": [],
   "source": [
    "import pandas as pd"
   ],
   "metadata": {
    "collapsed": false,
    "ExecuteTime": {
     "end_time": "2023-12-26T07:22:52.288791739Z",
     "start_time": "2023-12-26T07:22:51.982211686Z"
    }
   },
   "id": "58d9ff1bfa144f94"
  },
  {
   "cell_type": "markdown",
   "source": [
    "# All Relations"
   ],
   "metadata": {
    "collapsed": false
   },
   "id": "6252c22f42900d7"
  },
  {
   "cell_type": "code",
   "execution_count": 3,
   "outputs": [
    {
     "data": {
      "text/plain": "              id  head_id  tail_id       type\n1483592  1483593    26153    25688  MetInComp\n1483593  1483594    26153    25744  MetInComp\n1483594  1483595    26153    25811  MetInComp\n1483595  1483596    26153    25820  MetInComp\n1483596  1483597    26153    25843  MetInComp",
      "text/html": "<div>\n<style scoped>\n    .dataframe tbody tr th:only-of-type {\n        vertical-align: middle;\n    }\n\n    .dataframe tbody tr th {\n        vertical-align: top;\n    }\n\n    .dataframe thead th {\n        text-align: right;\n    }\n</style>\n<table border=\"1\" class=\"dataframe\">\n  <thead>\n    <tr style=\"text-align: right;\">\n      <th></th>\n      <th>id</th>\n      <th>head_id</th>\n      <th>tail_id</th>\n      <th>type</th>\n    </tr>\n  </thead>\n  <tbody>\n    <tr>\n      <th>1483592</th>\n      <td>1483593</td>\n      <td>26153</td>\n      <td>25688</td>\n      <td>MetInComp</td>\n    </tr>\n    <tr>\n      <th>1483593</th>\n      <td>1483594</td>\n      <td>26153</td>\n      <td>25744</td>\n      <td>MetInComp</td>\n    </tr>\n    <tr>\n      <th>1483594</th>\n      <td>1483595</td>\n      <td>26153</td>\n      <td>25811</td>\n      <td>MetInComp</td>\n    </tr>\n    <tr>\n      <th>1483595</th>\n      <td>1483596</td>\n      <td>26153</td>\n      <td>25820</td>\n      <td>MetInComp</td>\n    </tr>\n    <tr>\n      <th>1483596</th>\n      <td>1483597</td>\n      <td>26153</td>\n      <td>25843</td>\n      <td>MetInComp</td>\n    </tr>\n  </tbody>\n</table>\n</div>"
     },
     "execution_count": 3,
     "metadata": {},
     "output_type": "execute_result"
    }
   ],
   "source": [
    "from src.features import get_relations as get_data\n",
    "\n",
    "data = pd.DataFrame(get_data())\n",
    "data.tail()"
   ],
   "metadata": {
    "collapsed": false,
    "ExecuteTime": {
     "end_time": "2023-12-26T07:22:56.255025925Z",
     "start_time": "2023-12-26T07:22:53.679964968Z"
    }
   },
   "id": "62d5dd7640b7c205"
  },
  {
   "cell_type": "code",
   "execution_count": 4,
   "outputs": [
    {
     "data": {
      "text/plain": "(1483597, 4)"
     },
     "execution_count": 4,
     "metadata": {},
     "output_type": "execute_result"
    }
   ],
   "source": [
    "data.shape"
   ],
   "metadata": {
    "collapsed": false,
    "ExecuteTime": {
     "end_time": "2023-12-26T07:22:59.811806296Z",
     "start_time": "2023-12-26T07:22:59.778594162Z"
    }
   },
   "id": "395cff26ffa2120d"
  },
  {
   "cell_type": "markdown",
   "source": [
    "# MicrobeLocated"
   ],
   "metadata": {
    "collapsed": false
   },
   "id": "f641b307cf6c979d"
  },
  {
   "cell_type": "code",
   "execution_count": 26,
   "outputs": [
    {
     "data": {
      "text/plain": "   id  head_id  tail_id\n0   1        1      459\n1   2        1      476\n2   3        1      477\n3   4        1      478\n4   5        1      481",
      "text/html": "<div>\n<style scoped>\n    .dataframe tbody tr th:only-of-type {\n        vertical-align: middle;\n    }\n\n    .dataframe tbody tr th {\n        vertical-align: top;\n    }\n\n    .dataframe thead th {\n        text-align: right;\n    }\n</style>\n<table border=\"1\" class=\"dataframe\">\n  <thead>\n    <tr style=\"text-align: right;\">\n      <th></th>\n      <th>id</th>\n      <th>head_id</th>\n      <th>tail_id</th>\n    </tr>\n  </thead>\n  <tbody>\n    <tr>\n      <th>0</th>\n      <td>1</td>\n      <td>1</td>\n      <td>459</td>\n    </tr>\n    <tr>\n      <th>1</th>\n      <td>2</td>\n      <td>1</td>\n      <td>476</td>\n    </tr>\n    <tr>\n      <th>2</th>\n      <td>3</td>\n      <td>1</td>\n      <td>477</td>\n    </tr>\n    <tr>\n      <th>3</th>\n      <td>4</td>\n      <td>1</td>\n      <td>478</td>\n    </tr>\n    <tr>\n      <th>4</th>\n      <td>5</td>\n      <td>1</td>\n      <td>481</td>\n    </tr>\n  </tbody>\n</table>\n</div>"
     },
     "execution_count": 26,
     "metadata": {},
     "output_type": "execute_result"
    }
   ],
   "source": [
    "from src.features import get_microbe_located_relations as get_data\n",
    "\n",
    "data = pd.DataFrame(get_data())\n",
    "data.head()"
   ],
   "metadata": {
    "collapsed": false,
    "ExecuteTime": {
     "end_time": "2023-12-21T17:45:19.378106976Z",
     "start_time": "2023-12-21T17:45:19.332391993Z"
    }
   },
   "id": "e141f0116c082467"
  },
  {
   "cell_type": "code",
   "execution_count": 27,
   "outputs": [
    {
     "data": {
      "text/plain": "(1110, 3)"
     },
     "execution_count": 27,
     "metadata": {},
     "output_type": "execute_result"
    }
   ],
   "source": [
    "data.shape"
   ],
   "metadata": {
    "collapsed": false,
    "ExecuteTime": {
     "end_time": "2023-12-21T17:45:23.020515213Z",
     "start_time": "2023-12-21T17:45:22.993289443Z"
    }
   },
   "id": "6ca7d0fdafb86808"
  },
  {
   "cell_type": "markdown",
   "source": [
    "# LocHasMicrobe"
   ],
   "metadata": {
    "collapsed": false
   },
   "id": "71e841a218c87b75"
  },
  {
   "cell_type": "code",
   "execution_count": 28,
   "outputs": [
    {
     "data": {
      "text/plain": "     id  head_id  tail_id\n0  1111      459        1\n1  1112      476        1\n2  1113      477        1\n3  1114      478        1\n4  1115      481        1",
      "text/html": "<div>\n<style scoped>\n    .dataframe tbody tr th:only-of-type {\n        vertical-align: middle;\n    }\n\n    .dataframe tbody tr th {\n        vertical-align: top;\n    }\n\n    .dataframe thead th {\n        text-align: right;\n    }\n</style>\n<table border=\"1\" class=\"dataframe\">\n  <thead>\n    <tr style=\"text-align: right;\">\n      <th></th>\n      <th>id</th>\n      <th>head_id</th>\n      <th>tail_id</th>\n    </tr>\n  </thead>\n  <tbody>\n    <tr>\n      <th>0</th>\n      <td>1111</td>\n      <td>459</td>\n      <td>1</td>\n    </tr>\n    <tr>\n      <th>1</th>\n      <td>1112</td>\n      <td>476</td>\n      <td>1</td>\n    </tr>\n    <tr>\n      <th>2</th>\n      <td>1113</td>\n      <td>477</td>\n      <td>1</td>\n    </tr>\n    <tr>\n      <th>3</th>\n      <td>1114</td>\n      <td>478</td>\n      <td>1</td>\n    </tr>\n    <tr>\n      <th>4</th>\n      <td>1115</td>\n      <td>481</td>\n      <td>1</td>\n    </tr>\n  </tbody>\n</table>\n</div>"
     },
     "execution_count": 28,
     "metadata": {},
     "output_type": "execute_result"
    }
   ],
   "source": [
    "from src.features import get_loc_has_microbe_relations as get_data\n",
    "\n",
    "data = pd.DataFrame(get_data())\n",
    "data.head()"
   ],
   "metadata": {
    "collapsed": false,
    "ExecuteTime": {
     "end_time": "2023-12-21T17:45:33.999495133Z",
     "start_time": "2023-12-21T17:45:33.952554572Z"
    }
   },
   "id": "459c9e8a9bb550f"
  },
  {
   "cell_type": "code",
   "execution_count": 30,
   "outputs": [
    {
     "data": {
      "text/plain": "(1110, 3)"
     },
     "execution_count": 30,
     "metadata": {},
     "output_type": "execute_result"
    }
   ],
   "source": [
    "data.shape"
   ],
   "metadata": {
    "collapsed": false,
    "ExecuteTime": {
     "end_time": "2023-12-21T17:45:42.876534285Z",
     "start_time": "2023-12-21T17:45:42.844967179Z"
    }
   },
   "id": "89d45252ab0b1018"
  },
  {
   "cell_type": "markdown",
   "source": [
    "# MicrobeHasReact"
   ],
   "metadata": {
    "collapsed": false
   },
   "id": "e5809b99cb51e14a"
  },
  {
   "cell_type": "code",
   "execution_count": 31,
   "outputs": [
    {
     "data": {
      "text/plain": "     id  head_id  tail_id      lb      ub\n0  2221    10720      249     0.0  1000.0\n1  2222    11224      249 -1000.0  1000.0\n2  2223     9925      249 -1000.0  1000.0\n3  2224     9926      249     0.0  1000.0\n4  2225     9927      249     0.0  1000.0",
      "text/html": "<div>\n<style scoped>\n    .dataframe tbody tr th:only-of-type {\n        vertical-align: middle;\n    }\n\n    .dataframe tbody tr th {\n        vertical-align: top;\n    }\n\n    .dataframe thead th {\n        text-align: right;\n    }\n</style>\n<table border=\"1\" class=\"dataframe\">\n  <thead>\n    <tr style=\"text-align: right;\">\n      <th></th>\n      <th>id</th>\n      <th>head_id</th>\n      <th>tail_id</th>\n      <th>lb</th>\n      <th>ub</th>\n    </tr>\n  </thead>\n  <tbody>\n    <tr>\n      <th>0</th>\n      <td>2221</td>\n      <td>10720</td>\n      <td>249</td>\n      <td>0.0</td>\n      <td>1000.0</td>\n    </tr>\n    <tr>\n      <th>1</th>\n      <td>2222</td>\n      <td>11224</td>\n      <td>249</td>\n      <td>-1000.0</td>\n      <td>1000.0</td>\n    </tr>\n    <tr>\n      <th>2</th>\n      <td>2223</td>\n      <td>9925</td>\n      <td>249</td>\n      <td>-1000.0</td>\n      <td>1000.0</td>\n    </tr>\n    <tr>\n      <th>3</th>\n      <td>2224</td>\n      <td>9926</td>\n      <td>249</td>\n      <td>0.0</td>\n      <td>1000.0</td>\n    </tr>\n    <tr>\n      <th>4</th>\n      <td>2225</td>\n      <td>9927</td>\n      <td>249</td>\n      <td>0.0</td>\n      <td>1000.0</td>\n    </tr>\n  </tbody>\n</table>\n</div>"
     },
     "execution_count": 31,
     "metadata": {},
     "output_type": "execute_result"
    }
   ],
   "source": [
    "from src.features import get_microbe_has_react_relations as get_data\n",
    "\n",
    "data = pd.DataFrame(get_data())\n",
    "data.head()"
   ],
   "metadata": {
    "collapsed": false,
    "ExecuteTime": {
     "end_time": "2023-12-21T17:45:47.815563379Z",
     "start_time": "2023-12-21T17:45:45.661914639Z"
    }
   },
   "id": "7a47b0683a8fcf2e"
  },
  {
   "cell_type": "code",
   "execution_count": 32,
   "outputs": [
    {
     "data": {
      "text/plain": "(1176344, 5)"
     },
     "execution_count": 32,
     "metadata": {},
     "output_type": "execute_result"
    }
   ],
   "source": [
    "data.shape"
   ],
   "metadata": {
    "collapsed": false,
    "ExecuteTime": {
     "end_time": "2023-12-21T17:45:50.915416700Z",
     "start_time": "2023-12-21T17:45:50.902224843Z"
    }
   },
   "id": "5e16285cdf82b06e"
  },
  {
   "cell_type": "markdown",
   "source": [
    "# ReactInSub"
   ],
   "metadata": {
    "collapsed": false
   },
   "id": "f73a8e6da6319a75"
  },
  {
   "cell_type": "code",
   "execution_count": 33,
   "outputs": [
    {
     "data": {
      "text/plain": "        id  head_id  tail_id\n0  1178565      826     1643\n1  1178566      826     2047\n2  1178567      826     2052\n3  1178568      826     3427\n4  1178569      826     3599",
      "text/html": "<div>\n<style scoped>\n    .dataframe tbody tr th:only-of-type {\n        vertical-align: middle;\n    }\n\n    .dataframe tbody tr th {\n        vertical-align: top;\n    }\n\n    .dataframe thead th {\n        text-align: right;\n    }\n</style>\n<table border=\"1\" class=\"dataframe\">\n  <thead>\n    <tr style=\"text-align: right;\">\n      <th></th>\n      <th>id</th>\n      <th>head_id</th>\n      <th>tail_id</th>\n    </tr>\n  </thead>\n  <tbody>\n    <tr>\n      <th>0</th>\n      <td>1178565</td>\n      <td>826</td>\n      <td>1643</td>\n    </tr>\n    <tr>\n      <th>1</th>\n      <td>1178566</td>\n      <td>826</td>\n      <td>2047</td>\n    </tr>\n    <tr>\n      <th>2</th>\n      <td>1178567</td>\n      <td>826</td>\n      <td>2052</td>\n    </tr>\n    <tr>\n      <th>3</th>\n      <td>1178568</td>\n      <td>826</td>\n      <td>3427</td>\n    </tr>\n    <tr>\n      <th>4</th>\n      <td>1178569</td>\n      <td>826</td>\n      <td>3599</td>\n    </tr>\n  </tbody>\n</table>\n</div>"
     },
     "execution_count": 33,
     "metadata": {},
     "output_type": "execute_result"
    }
   ],
   "source": [
    "from src.features import get_react_in_sub_relations as get_data\n",
    "\n",
    "data = pd.DataFrame(get_data())\n",
    "data.head()"
   ],
   "metadata": {
    "collapsed": false,
    "ExecuteTime": {
     "end_time": "2023-12-21T17:46:03.231350834Z",
     "start_time": "2023-12-21T17:46:03.178945302Z"
    }
   },
   "id": "727b49b51672ef74"
  },
  {
   "cell_type": "code",
   "execution_count": 34,
   "outputs": [
    {
     "data": {
      "text/plain": "(19883, 3)"
     },
     "execution_count": 34,
     "metadata": {},
     "output_type": "execute_result"
    }
   ],
   "source": [
    "data.shape"
   ],
   "metadata": {
    "collapsed": false,
    "ExecuteTime": {
     "end_time": "2023-12-21T17:46:06.136786814Z",
     "start_time": "2023-12-21T17:46:06.099085888Z"
    }
   },
   "id": "2f6af7fb211c9caf"
  },
  {
   "cell_type": "markdown",
   "source": [
    "# SubHasReact"
   ],
   "metadata": {
    "collapsed": false
   },
   "id": "efb95f51bffa6818"
  },
  {
   "cell_type": "code",
   "execution_count": 35,
   "outputs": [
    {
     "data": {
      "text/plain": "        id  head_id  tail_id\n0  1198448     1643      826\n1  1198449     2047      826\n2  1198450     2052      826\n3  1198451     3427      826\n4  1198452     3599      826",
      "text/html": "<div>\n<style scoped>\n    .dataframe tbody tr th:only-of-type {\n        vertical-align: middle;\n    }\n\n    .dataframe tbody tr th {\n        vertical-align: top;\n    }\n\n    .dataframe thead th {\n        text-align: right;\n    }\n</style>\n<table border=\"1\" class=\"dataframe\">\n  <thead>\n    <tr style=\"text-align: right;\">\n      <th></th>\n      <th>id</th>\n      <th>head_id</th>\n      <th>tail_id</th>\n    </tr>\n  </thead>\n  <tbody>\n    <tr>\n      <th>0</th>\n      <td>1198448</td>\n      <td>1643</td>\n      <td>826</td>\n    </tr>\n    <tr>\n      <th>1</th>\n      <td>1198449</td>\n      <td>2047</td>\n      <td>826</td>\n    </tr>\n    <tr>\n      <th>2</th>\n      <td>1198450</td>\n      <td>2052</td>\n      <td>826</td>\n    </tr>\n    <tr>\n      <th>3</th>\n      <td>1198451</td>\n      <td>3427</td>\n      <td>826</td>\n    </tr>\n    <tr>\n      <th>4</th>\n      <td>1198452</td>\n      <td>3599</td>\n      <td>826</td>\n    </tr>\n  </tbody>\n</table>\n</div>"
     },
     "execution_count": 35,
     "metadata": {},
     "output_type": "execute_result"
    }
   ],
   "source": [
    "from src.features import get_sub_has_react_relations as get_data\n",
    "\n",
    "data = pd.DataFrame(get_data())\n",
    "data.head()"
   ],
   "metadata": {
    "collapsed": false,
    "ExecuteTime": {
     "end_time": "2023-12-21T17:46:32.489598210Z",
     "start_time": "2023-12-21T17:46:32.410771289Z"
    }
   },
   "id": "ca3f9e8f429845b3"
  },
  {
   "cell_type": "code",
   "execution_count": 36,
   "outputs": [
    {
     "data": {
      "text/plain": "(19883, 3)"
     },
     "execution_count": 36,
     "metadata": {},
     "output_type": "execute_result"
    }
   ],
   "source": [
    "data.shape"
   ],
   "metadata": {
    "collapsed": false,
    "ExecuteTime": {
     "end_time": "2023-12-21T17:46:35.248167770Z",
     "start_time": "2023-12-21T17:46:35.220416369Z"
    }
   },
   "id": "d12bedd04e497c7c"
  },
  {
   "cell_type": "markdown",
   "source": [
    "# ReactantIn"
   ],
   "metadata": {
    "collapsed": false
   },
   "id": "13c4755cf7033d04"
  },
  {
   "cell_type": "code",
   "execution_count": 37,
   "outputs": [
    {
     "data": {
      "text/plain": "        id  head_id  tail_id  value\n0  1218331     1445    22861   -4.0\n1  1218332     1445    21086   -1.0\n2  1218333     1445    25252   -1.0\n3  1218334     1704    24999   -1.0\n4  1218335     1704    22861   -8.0",
      "text/html": "<div>\n<style scoped>\n    .dataframe tbody tr th:only-of-type {\n        vertical-align: middle;\n    }\n\n    .dataframe tbody tr th {\n        vertical-align: top;\n    }\n\n    .dataframe thead th {\n        text-align: right;\n    }\n</style>\n<table border=\"1\" class=\"dataframe\">\n  <thead>\n    <tr style=\"text-align: right;\">\n      <th></th>\n      <th>id</th>\n      <th>head_id</th>\n      <th>tail_id</th>\n      <th>value</th>\n    </tr>\n  </thead>\n  <tbody>\n    <tr>\n      <th>0</th>\n      <td>1218331</td>\n      <td>1445</td>\n      <td>22861</td>\n      <td>-4.0</td>\n    </tr>\n    <tr>\n      <th>1</th>\n      <td>1218332</td>\n      <td>1445</td>\n      <td>21086</td>\n      <td>-1.0</td>\n    </tr>\n    <tr>\n      <th>2</th>\n      <td>1218333</td>\n      <td>1445</td>\n      <td>25252</td>\n      <td>-1.0</td>\n    </tr>\n    <tr>\n      <th>3</th>\n      <td>1218334</td>\n      <td>1704</td>\n      <td>24999</td>\n      <td>-1.0</td>\n    </tr>\n    <tr>\n      <th>4</th>\n      <td>1218335</td>\n      <td>1704</td>\n      <td>22861</td>\n      <td>-8.0</td>\n    </tr>\n  </tbody>\n</table>\n</div>"
     },
     "execution_count": 37,
     "metadata": {},
     "output_type": "execute_result"
    }
   ],
   "source": [
    "from src.features import get_reactant_in_relations as get_data\n",
    "\n",
    "data = pd.DataFrame(get_data())\n",
    "data.head()"
   ],
   "metadata": {
    "collapsed": false,
    "ExecuteTime": {
     "end_time": "2023-12-21T17:46:39.596534027Z",
     "start_time": "2023-12-21T17:46:39.379820590Z"
    }
   },
   "id": "6e01036e4a87a2c3"
  },
  {
   "cell_type": "code",
   "execution_count": 38,
   "outputs": [
    {
     "data": {
      "text/plain": "(81573, 4)"
     },
     "execution_count": 38,
     "metadata": {},
     "output_type": "execute_result"
    }
   ],
   "source": [
    "data.shape"
   ],
   "metadata": {
    "collapsed": false,
    "ExecuteTime": {
     "end_time": "2023-12-21T17:46:41.893046596Z",
     "start_time": "2023-12-21T17:46:41.875668446Z"
    }
   },
   "id": "c49f1d1142f0f0cc"
  },
  {
   "cell_type": "markdown",
   "source": [
    "# ProductIn"
   ],
   "metadata": {
    "collapsed": false
   },
   "id": "59d4a597b1189a87"
  },
  {
   "cell_type": "code",
   "execution_count": 39,
   "outputs": [
    {
     "data": {
      "text/plain": "        id  head_id  tail_id  value\n0  1299904     1445    22865    1.0\n1  1299905     1445    22861    3.0\n2  1299906     1445    21277    1.0\n3  1299907     1704    22865    2.0\n4  1299908     1704    22861    4.0",
      "text/html": "<div>\n<style scoped>\n    .dataframe tbody tr th:only-of-type {\n        vertical-align: middle;\n    }\n\n    .dataframe tbody tr th {\n        vertical-align: top;\n    }\n\n    .dataframe thead th {\n        text-align: right;\n    }\n</style>\n<table border=\"1\" class=\"dataframe\">\n  <thead>\n    <tr style=\"text-align: right;\">\n      <th></th>\n      <th>id</th>\n      <th>head_id</th>\n      <th>tail_id</th>\n      <th>value</th>\n    </tr>\n  </thead>\n  <tbody>\n    <tr>\n      <th>0</th>\n      <td>1299904</td>\n      <td>1445</td>\n      <td>22865</td>\n      <td>1.0</td>\n    </tr>\n    <tr>\n      <th>1</th>\n      <td>1299905</td>\n      <td>1445</td>\n      <td>22861</td>\n      <td>3.0</td>\n    </tr>\n    <tr>\n      <th>2</th>\n      <td>1299906</td>\n      <td>1445</td>\n      <td>21277</td>\n      <td>1.0</td>\n    </tr>\n    <tr>\n      <th>3</th>\n      <td>1299907</td>\n      <td>1704</td>\n      <td>22865</td>\n      <td>2.0</td>\n    </tr>\n    <tr>\n      <th>4</th>\n      <td>1299908</td>\n      <td>1704</td>\n      <td>22861</td>\n      <td>4.0</td>\n    </tr>\n  </tbody>\n</table>\n</div>"
     },
     "execution_count": 39,
     "metadata": {},
     "output_type": "execute_result"
    }
   ],
   "source": [
    "from src.features import get_product_in_relations as get_data\n",
    "\n",
    "data = pd.DataFrame(get_data())\n",
    "data.head()"
   ],
   "metadata": {
    "collapsed": false,
    "ExecuteTime": {
     "end_time": "2023-12-21T17:46:48.030352015Z",
     "start_time": "2023-12-21T17:46:47.882198757Z"
    }
   },
   "id": "d2ad9202adaae067"
  },
  {
   "cell_type": "code",
   "execution_count": 40,
   "outputs": [
    {
     "data": {
      "text/plain": "(40987, 4)"
     },
     "execution_count": 40,
     "metadata": {},
     "output_type": "execute_result"
    }
   ],
   "source": [
    "data.shape"
   ],
   "metadata": {
    "collapsed": false,
    "ExecuteTime": {
     "end_time": "2023-12-21T17:46:50.275710491Z",
     "start_time": "2023-12-21T17:46:50.257200201Z"
    }
   },
   "id": "5c91292a5a49b6e8"
  },
  {
   "cell_type": "markdown",
   "source": [
    "# HasReactant"
   ],
   "metadata": {
    "collapsed": false
   },
   "id": "ad149fca072ba656"
  },
  {
   "cell_type": "code",
   "execution_count": 41,
   "outputs": [
    {
     "data": {
      "text/plain": "        id  head_id  tail_id  value\n0  1381878    22861     1445   -4.0\n1  1381879    21086     1445   -1.0\n2  1381880    25252     1445   -1.0\n3  1381881    24999     1704   -1.0\n4  1381882    22861     1704   -8.0",
      "text/html": "<div>\n<style scoped>\n    .dataframe tbody tr th:only-of-type {\n        vertical-align: middle;\n    }\n\n    .dataframe tbody tr th {\n        vertical-align: top;\n    }\n\n    .dataframe thead th {\n        text-align: right;\n    }\n</style>\n<table border=\"1\" class=\"dataframe\">\n  <thead>\n    <tr style=\"text-align: right;\">\n      <th></th>\n      <th>id</th>\n      <th>head_id</th>\n      <th>tail_id</th>\n      <th>value</th>\n    </tr>\n  </thead>\n  <tbody>\n    <tr>\n      <th>0</th>\n      <td>1381878</td>\n      <td>22861</td>\n      <td>1445</td>\n      <td>-4.0</td>\n    </tr>\n    <tr>\n      <th>1</th>\n      <td>1381879</td>\n      <td>21086</td>\n      <td>1445</td>\n      <td>-1.0</td>\n    </tr>\n    <tr>\n      <th>2</th>\n      <td>1381880</td>\n      <td>25252</td>\n      <td>1445</td>\n      <td>-1.0</td>\n    </tr>\n    <tr>\n      <th>3</th>\n      <td>1381881</td>\n      <td>24999</td>\n      <td>1704</td>\n      <td>-1.0</td>\n    </tr>\n    <tr>\n      <th>4</th>\n      <td>1381882</td>\n      <td>22861</td>\n      <td>1704</td>\n      <td>-8.0</td>\n    </tr>\n  </tbody>\n</table>\n</div>"
     },
     "execution_count": 41,
     "metadata": {},
     "output_type": "execute_result"
    }
   ],
   "source": [
    "from src.features import get_has_reactant_relations as get_data\n",
    "\n",
    "data = pd.DataFrame(get_data())\n",
    "data.head()"
   ],
   "metadata": {
    "collapsed": false,
    "ExecuteTime": {
     "end_time": "2023-12-21T17:46:52.896394876Z",
     "start_time": "2023-12-21T17:46:52.684033719Z"
    }
   },
   "id": "7a13e4c5ab25eeb4"
  },
  {
   "cell_type": "code",
   "execution_count": 42,
   "outputs": [
    {
     "data": {
      "text/plain": "(81573, 4)"
     },
     "execution_count": 42,
     "metadata": {},
     "output_type": "execute_result"
    }
   ],
   "source": [
    "data.shape"
   ],
   "metadata": {
    "collapsed": false,
    "ExecuteTime": {
     "end_time": "2023-12-21T17:46:54.616282389Z",
     "start_time": "2023-12-21T17:46:54.576341398Z"
    }
   },
   "id": "dce9c3494d3806f7"
  },
  {
   "cell_type": "markdown",
   "source": [
    "# HasProduct"
   ],
   "metadata": {
    "collapsed": false
   },
   "id": "b5a74a08f689ddde"
  },
  {
   "cell_type": "code",
   "execution_count": 43,
   "outputs": [
    {
     "data": {
      "text/plain": "        id  head_id  tail_id  value\n0  1340891    22865     1445    1.0\n1  1340892    22861     1445    3.0\n2  1340893    21277     1445    1.0\n3  1340894    22865     1704    2.0\n4  1340895    22861     1704    4.0",
      "text/html": "<div>\n<style scoped>\n    .dataframe tbody tr th:only-of-type {\n        vertical-align: middle;\n    }\n\n    .dataframe tbody tr th {\n        vertical-align: top;\n    }\n\n    .dataframe thead th {\n        text-align: right;\n    }\n</style>\n<table border=\"1\" class=\"dataframe\">\n  <thead>\n    <tr style=\"text-align: right;\">\n      <th></th>\n      <th>id</th>\n      <th>head_id</th>\n      <th>tail_id</th>\n      <th>value</th>\n    </tr>\n  </thead>\n  <tbody>\n    <tr>\n      <th>0</th>\n      <td>1340891</td>\n      <td>22865</td>\n      <td>1445</td>\n      <td>1.0</td>\n    </tr>\n    <tr>\n      <th>1</th>\n      <td>1340892</td>\n      <td>22861</td>\n      <td>1445</td>\n      <td>3.0</td>\n    </tr>\n    <tr>\n      <th>2</th>\n      <td>1340893</td>\n      <td>21277</td>\n      <td>1445</td>\n      <td>1.0</td>\n    </tr>\n    <tr>\n      <th>3</th>\n      <td>1340894</td>\n      <td>22865</td>\n      <td>1704</td>\n      <td>2.0</td>\n    </tr>\n    <tr>\n      <th>4</th>\n      <td>1340895</td>\n      <td>22861</td>\n      <td>1704</td>\n      <td>4.0</td>\n    </tr>\n  </tbody>\n</table>\n</div>"
     },
     "execution_count": 43,
     "metadata": {},
     "output_type": "execute_result"
    }
   ],
   "source": [
    "from src.features import get_has_product_relations as get_data\n",
    "\n",
    "data = pd.DataFrame(get_data())\n",
    "data.head()"
   ],
   "metadata": {
    "collapsed": false,
    "ExecuteTime": {
     "end_time": "2023-12-21T17:47:01.276734438Z",
     "start_time": "2023-12-21T17:47:01.149266390Z"
    }
   },
   "id": "9269a74984fcc360"
  },
  {
   "cell_type": "code",
   "execution_count": 44,
   "outputs": [
    {
     "data": {
      "text/plain": "(40987, 4)"
     },
     "execution_count": 44,
     "metadata": {},
     "output_type": "execute_result"
    }
   ],
   "source": [
    "data.shape"
   ],
   "metadata": {
    "collapsed": false,
    "ExecuteTime": {
     "end_time": "2023-12-21T17:47:04.459519777Z",
     "start_time": "2023-12-21T17:47:04.426185863Z"
    }
   },
   "id": "980a2d5db71cee77"
  },
  {
   "cell_type": "markdown",
   "source": [
    "# Biomarker"
   ],
   "metadata": {
    "collapsed": false
   },
   "id": "da4c0c60963994bb"
  },
  {
   "cell_type": "code",
   "execution_count": 45,
   "outputs": [
    {
     "data": {
      "text/plain": "        id  head_id  tail_id      value  normalConcentrationUp  \\\n0  1463451    22778    26105  Increased                  740.0   \n1  1463452    25311    26047  Increased                  320.0   \n2  1463453    25822    26115  Increased                  215.0   \n3  1463454    25653    26045  Increased                  150.0   \n4  1463455    24482    26113  Increased                   38.0   \n\n   normalConcentrationDown  rangeConcentrationUp  rangeConcentrationDown  \n0                    180.0                1350.0                   550.0  \n1                     95.0                1360.0                   830.0  \n2                     65.0                 650.0                   210.0  \n3                     25.0                   NaN                     NaN  \n4                     10.0                 170.0                    56.0  ",
      "text/html": "<div>\n<style scoped>\n    .dataframe tbody tr th:only-of-type {\n        vertical-align: middle;\n    }\n\n    .dataframe tbody tr th {\n        vertical-align: top;\n    }\n\n    .dataframe thead th {\n        text-align: right;\n    }\n</style>\n<table border=\"1\" class=\"dataframe\">\n  <thead>\n    <tr style=\"text-align: right;\">\n      <th></th>\n      <th>id</th>\n      <th>head_id</th>\n      <th>tail_id</th>\n      <th>value</th>\n      <th>normalConcentrationUp</th>\n      <th>normalConcentrationDown</th>\n      <th>rangeConcentrationUp</th>\n      <th>rangeConcentrationDown</th>\n    </tr>\n  </thead>\n  <tbody>\n    <tr>\n      <th>0</th>\n      <td>1463451</td>\n      <td>22778</td>\n      <td>26105</td>\n      <td>Increased</td>\n      <td>740.0</td>\n      <td>180.0</td>\n      <td>1350.0</td>\n      <td>550.0</td>\n    </tr>\n    <tr>\n      <th>1</th>\n      <td>1463452</td>\n      <td>25311</td>\n      <td>26047</td>\n      <td>Increased</td>\n      <td>320.0</td>\n      <td>95.0</td>\n      <td>1360.0</td>\n      <td>830.0</td>\n    </tr>\n    <tr>\n      <th>2</th>\n      <td>1463453</td>\n      <td>25822</td>\n      <td>26115</td>\n      <td>Increased</td>\n      <td>215.0</td>\n      <td>65.0</td>\n      <td>650.0</td>\n      <td>210.0</td>\n    </tr>\n    <tr>\n      <th>3</th>\n      <td>1463454</td>\n      <td>25653</td>\n      <td>26045</td>\n      <td>Increased</td>\n      <td>150.0</td>\n      <td>25.0</td>\n      <td>NaN</td>\n      <td>NaN</td>\n    </tr>\n    <tr>\n      <th>4</th>\n      <td>1463455</td>\n      <td>24482</td>\n      <td>26113</td>\n      <td>Increased</td>\n      <td>38.0</td>\n      <td>10.0</td>\n      <td>170.0</td>\n      <td>56.0</td>\n    </tr>\n  </tbody>\n</table>\n</div>"
     },
     "execution_count": 45,
     "metadata": {},
     "output_type": "execute_result"
    }
   ],
   "source": [
    "from src.features import get_biomarker_relations as get_data\n",
    "\n",
    "data = pd.DataFrame(get_data())\n",
    "data.head()"
   ],
   "metadata": {
    "collapsed": false,
    "ExecuteTime": {
     "end_time": "2023-12-21T17:47:06.245778667Z",
     "start_time": "2023-12-21T17:47:06.194181523Z"
    }
   },
   "id": "bab1d48441666f8d"
  },
  {
   "cell_type": "code",
   "execution_count": 46,
   "outputs": [
    {
     "data": {
      "text/plain": "(115, 8)"
     },
     "execution_count": 46,
     "metadata": {},
     "output_type": "execute_result"
    }
   ],
   "source": [
    "data.shape"
   ],
   "metadata": {
    "collapsed": false,
    "ExecuteTime": {
     "end_time": "2023-12-21T17:47:12.037594944Z",
     "start_time": "2023-12-21T17:47:12.022520447Z"
    }
   },
   "id": "55e79d9bb8d77a61"
  },
  {
   "cell_type": "markdown",
   "source": [
    "# CompHasMet"
   ],
   "metadata": {
    "collapsed": false
   },
   "id": "5bb0b73f6d4e461b"
  },
  {
   "cell_type": "code",
   "execution_count": 48,
   "outputs": [
    {
     "data": {
      "text/plain": "        id  head_id  tail_id\n0  1463566    20284    26146\n1  1463567    20285    26146\n2  1463568    20286    26146\n3  1463569    20287    26146\n4  1463570    20288    26146",
      "text/html": "<div>\n<style scoped>\n    .dataframe tbody tr th:only-of-type {\n        vertical-align: middle;\n    }\n\n    .dataframe tbody tr th {\n        vertical-align: top;\n    }\n\n    .dataframe thead th {\n        text-align: right;\n    }\n</style>\n<table border=\"1\" class=\"dataframe\">\n  <thead>\n    <tr style=\"text-align: right;\">\n      <th></th>\n      <th>id</th>\n      <th>head_id</th>\n      <th>tail_id</th>\n    </tr>\n  </thead>\n  <tbody>\n    <tr>\n      <th>0</th>\n      <td>1463566</td>\n      <td>20284</td>\n      <td>26146</td>\n    </tr>\n    <tr>\n      <th>1</th>\n      <td>1463567</td>\n      <td>20285</td>\n      <td>26146</td>\n    </tr>\n    <tr>\n      <th>2</th>\n      <td>1463568</td>\n      <td>20286</td>\n      <td>26146</td>\n    </tr>\n    <tr>\n      <th>3</th>\n      <td>1463569</td>\n      <td>20287</td>\n      <td>26146</td>\n    </tr>\n    <tr>\n      <th>4</th>\n      <td>1463570</td>\n      <td>20288</td>\n      <td>26146</td>\n    </tr>\n  </tbody>\n</table>\n</div>"
     },
     "execution_count": 48,
     "metadata": {},
     "output_type": "execute_result"
    }
   ],
   "source": [
    "from src.features import get_comp_has_met_relations as get_data\n",
    "\n",
    "data = pd.DataFrame(get_data())\n",
    "data.head()"
   ],
   "metadata": {
    "collapsed": false,
    "ExecuteTime": {
     "end_time": "2023-12-21T17:47:19.241973925Z",
     "start_time": "2023-12-21T17:47:19.154721787Z"
    }
   },
   "id": "830bdbf9ed693a9"
  },
  {
   "cell_type": "code",
   "execution_count": 49,
   "outputs": [
    {
     "data": {
      "text/plain": "(10016, 3)"
     },
     "execution_count": 49,
     "metadata": {},
     "output_type": "execute_result"
    }
   ],
   "source": [
    "data.shape"
   ],
   "metadata": {
    "collapsed": false,
    "ExecuteTime": {
     "end_time": "2023-12-21T17:47:22.186421321Z",
     "start_time": "2023-12-21T17:47:22.164662046Z"
    }
   },
   "id": "b7092ef35980af50"
  },
  {
   "cell_type": "markdown",
   "source": [
    "# MetInComp"
   ],
   "metadata": {
    "collapsed": false
   },
   "id": "4539d68b9ea0a2f8"
  },
  {
   "cell_type": "code",
   "execution_count": 50,
   "outputs": [
    {
     "data": {
      "text/plain": "        id  head_id  tail_id\n0  1473582    26146    20284\n1  1473583    26146    20285\n2  1473584    26146    20286\n3  1473585    26146    20287\n4  1473586    26146    20288",
      "text/html": "<div>\n<style scoped>\n    .dataframe tbody tr th:only-of-type {\n        vertical-align: middle;\n    }\n\n    .dataframe tbody tr th {\n        vertical-align: top;\n    }\n\n    .dataframe thead th {\n        text-align: right;\n    }\n</style>\n<table border=\"1\" class=\"dataframe\">\n  <thead>\n    <tr style=\"text-align: right;\">\n      <th></th>\n      <th>id</th>\n      <th>head_id</th>\n      <th>tail_id</th>\n    </tr>\n  </thead>\n  <tbody>\n    <tr>\n      <th>0</th>\n      <td>1473582</td>\n      <td>26146</td>\n      <td>20284</td>\n    </tr>\n    <tr>\n      <th>1</th>\n      <td>1473583</td>\n      <td>26146</td>\n      <td>20285</td>\n    </tr>\n    <tr>\n      <th>2</th>\n      <td>1473584</td>\n      <td>26146</td>\n      <td>20286</td>\n    </tr>\n    <tr>\n      <th>3</th>\n      <td>1473585</td>\n      <td>26146</td>\n      <td>20287</td>\n    </tr>\n    <tr>\n      <th>4</th>\n      <td>1473586</td>\n      <td>26146</td>\n      <td>20288</td>\n    </tr>\n  </tbody>\n</table>\n</div>"
     },
     "execution_count": 50,
     "metadata": {},
     "output_type": "execute_result"
    }
   ],
   "source": [
    "from src.features import get_met_in_comp_relations as get_data\n",
    "\n",
    "data = pd.DataFrame(get_data())\n",
    "data.head()"
   ],
   "metadata": {
    "collapsed": false,
    "ExecuteTime": {
     "end_time": "2023-12-21T17:47:35.446074828Z",
     "start_time": "2023-12-21T17:47:35.385442626Z"
    }
   },
   "id": "289dc4525a82def9"
  },
  {
   "cell_type": "code",
   "execution_count": 51,
   "outputs": [
    {
     "data": {
      "text/plain": "(10016, 3)"
     },
     "execution_count": 51,
     "metadata": {},
     "output_type": "execute_result"
    }
   ],
   "source": [
    "data.shape"
   ],
   "metadata": {
    "collapsed": false,
    "ExecuteTime": {
     "end_time": "2023-12-21T17:47:38.563105673Z",
     "start_time": "2023-12-21T17:47:38.538301365Z"
    }
   },
   "id": "f3a833001c3f48c2"
  }
 ],
 "metadata": {
  "kernelspec": {
   "display_name": "Python 3",
   "language": "python",
   "name": "python3"
  },
  "language_info": {
   "codemirror_mode": {
    "name": "ipython",
    "version": 2
   },
   "file_extension": ".py",
   "mimetype": "text/x-python",
   "name": "python",
   "nbconvert_exporter": "python",
   "pygments_lexer": "ipython2",
   "version": "2.7.6"
  }
 },
 "nbformat": 4,
 "nbformat_minor": 5
}
