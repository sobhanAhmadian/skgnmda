{
 "cells": [
  {
   "cell_type": "code",
   "execution_count": 1,
   "id": "initial_id",
   "metadata": {
    "collapsed": true,
    "ExecuteTime": {
     "end_time": "2023-12-26T07:22:35.457881673Z",
     "start_time": "2023-12-26T07:22:35.453415049Z"
    }
   },
   "outputs": [
    {
     "name": "stdout",
     "output_type": "stream",
     "text": [
      "/home/user/Documents/Students/Sobhan Ahmadian/Projects/SKGNMDA\n"
     ]
    },
    {
     "name": "stderr",
     "output_type": "stream",
     "text": [
      "/home/user/Documents/Students/Sobhan Ahmadian/Projects/SKGNMDA/venv/lib/python3.10/site-packages/IPython/core/magics/osm.py:417: UserWarning: using dhist requires you to install the `pickleshare` library.\n",
      "  self.shell.db['dhist'] = compress_dhist(dhist)[-100:]\n"
     ]
    }
   ],
   "source": [
    "cd /home/user/Documents/Students/Sobhan Ahmadian/Projects/SKGNMDA"
   ]
  },
  {
   "cell_type": "code",
   "execution_count": 2,
   "outputs": [],
   "source": [
    "import pandas as pd"
   ],
   "metadata": {
    "collapsed": false,
    "ExecuteTime": {
     "end_time": "2023-12-26T07:22:38.367713320Z",
     "start_time": "2023-12-26T07:22:37.437852273Z"
    }
   },
   "id": "51080d9038d3d1c"
  },
  {
   "cell_type": "markdown",
   "source": [
    "# Entities"
   ],
   "metadata": {
    "collapsed": false
   },
   "id": "b6c0beb27ebbac91"
  },
  {
   "cell_type": "code",
   "execution_count": 3,
   "outputs": [
    {
     "data": {
      "text/plain": "   id          type\n0   1  BodyLocation\n1   2  BodyLocation\n2   3  BodyLocation\n3   4  BodyLocation\n4   5  BodyLocation",
      "text/html": "<div>\n<style scoped>\n    .dataframe tbody tr th:only-of-type {\n        vertical-align: middle;\n    }\n\n    .dataframe tbody tr th {\n        vertical-align: top;\n    }\n\n    .dataframe thead th {\n        text-align: right;\n    }\n</style>\n<table border=\"1\" class=\"dataframe\">\n  <thead>\n    <tr style=\"text-align: right;\">\n      <th></th>\n      <th>id</th>\n      <th>type</th>\n    </tr>\n  </thead>\n  <tbody>\n    <tr>\n      <th>0</th>\n      <td>1</td>\n      <td>BodyLocation</td>\n    </tr>\n    <tr>\n      <th>1</th>\n      <td>2</td>\n      <td>BodyLocation</td>\n    </tr>\n    <tr>\n      <th>2</th>\n      <td>3</td>\n      <td>BodyLocation</td>\n    </tr>\n    <tr>\n      <th>3</th>\n      <td>4</td>\n      <td>BodyLocation</td>\n    </tr>\n    <tr>\n      <th>4</th>\n      <td>5</td>\n      <td>BodyLocation</td>\n    </tr>\n  </tbody>\n</table>\n</div>"
     },
     "execution_count": 3,
     "metadata": {},
     "output_type": "execute_result"
    }
   ],
   "source": [
    "from src.features import get_entities as get_data\n",
    "\n",
    "data = pd.DataFrame(get_data())\n",
    "data.head()"
   ],
   "metadata": {
    "collapsed": false,
    "ExecuteTime": {
     "end_time": "2023-12-26T07:22:40.330997693Z",
     "start_time": "2023-12-26T07:22:40.235539405Z"
    }
   },
   "id": "4e87977d13868138"
  },
  {
   "cell_type": "code",
   "execution_count": 4,
   "outputs": [
    {
     "data": {
      "text/plain": "(26153, 2)"
     },
     "execution_count": 4,
     "metadata": {},
     "output_type": "execute_result"
    }
   ],
   "source": [
    "data.shape"
   ],
   "metadata": {
    "collapsed": false,
    "ExecuteTime": {
     "end_time": "2023-12-26T07:22:44.268567772Z",
     "start_time": "2023-12-26T07:22:44.223892639Z"
    }
   },
   "id": "bf2b3fad85f7ffce"
  },
  {
   "cell_type": "markdown",
   "source": [
    "# Body Locations"
   ],
   "metadata": {
    "collapsed": false
   },
   "id": "2d581878cf0aa367"
  },
  {
   "cell_type": "code",
   "execution_count": 20,
   "outputs": [
    {
     "data": {
      "text/plain": "   id              name\n0   1           Stomach\n1   2   Small intestine\n2   3   Large Intestine\n3   4  Urogenital tract\n4   5              Oral",
      "text/html": "<div>\n<style scoped>\n    .dataframe tbody tr th:only-of-type {\n        vertical-align: middle;\n    }\n\n    .dataframe tbody tr th {\n        vertical-align: top;\n    }\n\n    .dataframe thead th {\n        text-align: right;\n    }\n</style>\n<table border=\"1\" class=\"dataframe\">\n  <thead>\n    <tr style=\"text-align: right;\">\n      <th></th>\n      <th>id</th>\n      <th>name</th>\n    </tr>\n  </thead>\n  <tbody>\n    <tr>\n      <th>0</th>\n      <td>1</td>\n      <td>Stomach</td>\n    </tr>\n    <tr>\n      <th>1</th>\n      <td>2</td>\n      <td>Small intestine</td>\n    </tr>\n    <tr>\n      <th>2</th>\n      <td>3</td>\n      <td>Large Intestine</td>\n    </tr>\n    <tr>\n      <th>3</th>\n      <td>4</td>\n      <td>Urogenital tract</td>\n    </tr>\n    <tr>\n      <th>4</th>\n      <td>5</td>\n      <td>Oral</td>\n    </tr>\n  </tbody>\n</table>\n</div>"
     },
     "execution_count": 20,
     "metadata": {},
     "output_type": "execute_result"
    }
   ],
   "source": [
    "from src.features import get_body_locations as get_data\n",
    "\n",
    "data = pd.DataFrame(get_data())\n",
    "data.head()"
   ],
   "metadata": {
    "collapsed": false,
    "ExecuteTime": {
     "end_time": "2023-12-21T17:43:02.752914752Z",
     "start_time": "2023-12-21T17:43:02.696248904Z"
    }
   },
   "id": "c6170aca65f5a4e"
  },
  {
   "cell_type": "code",
   "execution_count": 21,
   "outputs": [
    {
     "data": {
      "text/plain": "(7, 2)"
     },
     "execution_count": 21,
     "metadata": {},
     "output_type": "execute_result"
    }
   ],
   "source": [
    "data.shape"
   ],
   "metadata": {
    "collapsed": false,
    "ExecuteTime": {
     "end_time": "2023-12-21T17:43:07.935204979Z",
     "start_time": "2023-12-21T17:43:07.889029533Z"
    }
   },
   "id": "6d82e725c4de10f4"
  },
  {
   "cell_type": "code",
   "execution_count": 10,
   "outputs": [
    {
     "data": {
      "text/plain": "False"
     },
     "execution_count": 10,
     "metadata": {},
     "output_type": "execute_result"
    }
   ],
   "source": [
    "data['name'].hasnans"
   ],
   "metadata": {
    "collapsed": false,
    "ExecuteTime": {
     "end_time": "2023-12-21T17:42:22.745719591Z",
     "start_time": "2023-12-21T17:42:22.722312860Z"
    }
   },
   "id": "d5c006e1077401b5"
  },
  {
   "cell_type": "code",
   "execution_count": 11,
   "outputs": [
    {
     "data": {
      "text/plain": "True"
     },
     "execution_count": 11,
     "metadata": {},
     "output_type": "execute_result"
    }
   ],
   "source": [
    "len(set(data['name'])) == len(data['name'])"
   ],
   "metadata": {
    "collapsed": false,
    "ExecuteTime": {
     "end_time": "2023-12-21T17:42:23.369958504Z",
     "start_time": "2023-12-21T17:42:23.318836436Z"
    }
   },
   "id": "f1114d64a019929"
  },
  {
   "cell_type": "markdown",
   "source": [
    "# Microbes"
   ],
   "metadata": {
    "collapsed": false
   },
   "id": "7a48422f9c7cfaa6"
  },
  {
   "cell_type": "code",
   "execution_count": 22,
   "outputs": [
    {
     "data": {
      "text/plain": "   id                                           organism   kingdom  \\\n0   8                   Abiotrophia defectiva ATCC 49176  Bacteria   \n1   9                      Achromobacter xylosoxidans A8  Bacteria   \n2  10  Achromobacter xylosoxidans NBRC 15126 = ATCC 2...  Bacteria   \n3  11               Acidaminococcus fermentans DSM 20731  Bacteria   \n4  12                 Acidaminococcus intestini RyC-MR95  Bacteria   \n\n           phylum              mclass              order              family  \\\n0      Firmicutes             Bacilli    Lactobacillales       Aerococcaceae   \n1  Proteobacteria  Betaproteobacteria    Burkholderiales      Alcaligenaceae   \n2  Proteobacteria  Betaproteobacteria    Burkholderiales      Alcaligenaceae   \n3      Firmicutes       Negativicutes  Acidaminococcales  Acidaminococcaceae   \n4      Firmicutes       Negativicutes    Selenomonadales  Acidaminococcaceae   \n\n             genus            oxygenstat  \\\n0      Abiotrophia  Facultative anaerobe   \n1    Achromobacter                Aerobe   \n2    Achromobacter                Aerobe   \n3  Acidaminococcus     Obligate anaerobe   \n4  Acidaminococcus     Obligate anaerobe   \n\n                                   metabolism      gram      mtype  \n0  Saccharolytic, fermentative or respiratory  Positive   Pathogen  \n1                                 Respiratory  Negative       None  \n2                                 Respiratory  Negative       None  \n3                                Fermentative  Negative             \n4      Asaccharolytic, glutamate is fermented  Negative  Commensal  ",
      "text/html": "<div>\n<style scoped>\n    .dataframe tbody tr th:only-of-type {\n        vertical-align: middle;\n    }\n\n    .dataframe tbody tr th {\n        vertical-align: top;\n    }\n\n    .dataframe thead th {\n        text-align: right;\n    }\n</style>\n<table border=\"1\" class=\"dataframe\">\n  <thead>\n    <tr style=\"text-align: right;\">\n      <th></th>\n      <th>id</th>\n      <th>organism</th>\n      <th>kingdom</th>\n      <th>phylum</th>\n      <th>mclass</th>\n      <th>order</th>\n      <th>family</th>\n      <th>genus</th>\n      <th>oxygenstat</th>\n      <th>metabolism</th>\n      <th>gram</th>\n      <th>mtype</th>\n    </tr>\n  </thead>\n  <tbody>\n    <tr>\n      <th>0</th>\n      <td>8</td>\n      <td>Abiotrophia defectiva ATCC 49176</td>\n      <td>Bacteria</td>\n      <td>Firmicutes</td>\n      <td>Bacilli</td>\n      <td>Lactobacillales</td>\n      <td>Aerococcaceae</td>\n      <td>Abiotrophia</td>\n      <td>Facultative anaerobe</td>\n      <td>Saccharolytic, fermentative or respiratory</td>\n      <td>Positive</td>\n      <td>Pathogen</td>\n    </tr>\n    <tr>\n      <th>1</th>\n      <td>9</td>\n      <td>Achromobacter xylosoxidans A8</td>\n      <td>Bacteria</td>\n      <td>Proteobacteria</td>\n      <td>Betaproteobacteria</td>\n      <td>Burkholderiales</td>\n      <td>Alcaligenaceae</td>\n      <td>Achromobacter</td>\n      <td>Aerobe</td>\n      <td>Respiratory</td>\n      <td>Negative</td>\n      <td>None</td>\n    </tr>\n    <tr>\n      <th>2</th>\n      <td>10</td>\n      <td>Achromobacter xylosoxidans NBRC 15126 = ATCC 2...</td>\n      <td>Bacteria</td>\n      <td>Proteobacteria</td>\n      <td>Betaproteobacteria</td>\n      <td>Burkholderiales</td>\n      <td>Alcaligenaceae</td>\n      <td>Achromobacter</td>\n      <td>Aerobe</td>\n      <td>Respiratory</td>\n      <td>Negative</td>\n      <td>None</td>\n    </tr>\n    <tr>\n      <th>3</th>\n      <td>11</td>\n      <td>Acidaminococcus fermentans DSM 20731</td>\n      <td>Bacteria</td>\n      <td>Firmicutes</td>\n      <td>Negativicutes</td>\n      <td>Acidaminococcales</td>\n      <td>Acidaminococcaceae</td>\n      <td>Acidaminococcus</td>\n      <td>Obligate anaerobe</td>\n      <td>Fermentative</td>\n      <td>Negative</td>\n      <td></td>\n    </tr>\n    <tr>\n      <th>4</th>\n      <td>12</td>\n      <td>Acidaminococcus intestini RyC-MR95</td>\n      <td>Bacteria</td>\n      <td>Firmicutes</td>\n      <td>Negativicutes</td>\n      <td>Selenomonadales</td>\n      <td>Acidaminococcaceae</td>\n      <td>Acidaminococcus</td>\n      <td>Obligate anaerobe</td>\n      <td>Asaccharolytic, glutamate is fermented</td>\n      <td>Negative</td>\n      <td>Commensal</td>\n    </tr>\n  </tbody>\n</table>\n</div>"
     },
     "execution_count": 22,
     "metadata": {},
     "output_type": "execute_result"
    }
   ],
   "source": [
    "from src.features import get_microbes as get_data\n",
    "\n",
    "data = pd.DataFrame(get_data())\n",
    "data.head()"
   ],
   "metadata": {
    "collapsed": false,
    "ExecuteTime": {
     "end_time": "2023-12-21T17:43:13.704973837Z",
     "start_time": "2023-12-21T17:43:13.650944837Z"
    }
   },
   "id": "e9604b2e96721720"
  },
  {
   "cell_type": "code",
   "execution_count": 25,
   "outputs": [
    {
     "data": {
      "text/plain": "(818, 12)"
     },
     "execution_count": 25,
     "metadata": {},
     "output_type": "execute_result"
    }
   ],
   "source": [
    "data.shape"
   ],
   "metadata": {
    "collapsed": false,
    "ExecuteTime": {
     "end_time": "2023-12-21T17:43:22.669076588Z",
     "start_time": "2023-12-21T17:43:22.648874878Z"
    }
   },
   "id": "8a2ec9bcd474c21d"
  },
  {
   "cell_type": "code",
   "execution_count": 23,
   "outputs": [
    {
     "data": {
      "text/plain": "False"
     },
     "execution_count": 23,
     "metadata": {},
     "output_type": "execute_result"
    }
   ],
   "source": [
    "data['organism'].hasnans"
   ],
   "metadata": {
    "collapsed": false,
    "ExecuteTime": {
     "end_time": "2023-12-21T17:43:16.529298049Z",
     "start_time": "2023-12-21T17:43:16.495700613Z"
    }
   },
   "id": "dad7bc2f066fbd84"
  },
  {
   "cell_type": "code",
   "execution_count": 24,
   "outputs": [
    {
     "data": {
      "text/plain": "True"
     },
     "execution_count": 24,
     "metadata": {},
     "output_type": "execute_result"
    }
   ],
   "source": [
    "len(set(data['organism'])) == len(data['organism'])"
   ],
   "metadata": {
    "collapsed": false,
    "ExecuteTime": {
     "end_time": "2023-12-21T17:43:17.758750583Z",
     "start_time": "2023-12-21T17:43:17.722953293Z"
    }
   },
   "id": "dc60f06c4af501d7"
  },
  {
   "cell_type": "markdown",
   "source": [
    "# Subsystems"
   ],
   "metadata": {
    "collapsed": false
   },
   "id": "7abdb8654a549d6a"
  },
  {
   "cell_type": "code",
   "execution_count": 27,
   "outputs": [
    {
     "data": {
      "text/plain": "    id                         name\n0  826           Alkaloid synthesis\n1  827        Vitamin B2 metabolism\n2  828         Protein modification\n3  829           Peptide metabolism\n4  830  Nucleotide sugar metabolism",
      "text/html": "<div>\n<style scoped>\n    .dataframe tbody tr th:only-of-type {\n        vertical-align: middle;\n    }\n\n    .dataframe tbody tr th {\n        vertical-align: top;\n    }\n\n    .dataframe thead th {\n        text-align: right;\n    }\n</style>\n<table border=\"1\" class=\"dataframe\">\n  <thead>\n    <tr style=\"text-align: right;\">\n      <th></th>\n      <th>id</th>\n      <th>name</th>\n    </tr>\n  </thead>\n  <tbody>\n    <tr>\n      <th>0</th>\n      <td>826</td>\n      <td>Alkaloid synthesis</td>\n    </tr>\n    <tr>\n      <th>1</th>\n      <td>827</td>\n      <td>Vitamin B2 metabolism</td>\n    </tr>\n    <tr>\n      <th>2</th>\n      <td>828</td>\n      <td>Protein modification</td>\n    </tr>\n    <tr>\n      <th>3</th>\n      <td>829</td>\n      <td>Peptide metabolism</td>\n    </tr>\n    <tr>\n      <th>4</th>\n      <td>830</td>\n      <td>Nucleotide sugar metabolism</td>\n    </tr>\n  </tbody>\n</table>\n</div>"
     },
     "execution_count": 27,
     "metadata": {},
     "output_type": "execute_result"
    }
   ],
   "source": [
    "from src.features import get_subsystems as get_data\n",
    "\n",
    "data = pd.DataFrame(get_data())\n",
    "data.head()"
   ],
   "metadata": {
    "collapsed": false,
    "ExecuteTime": {
     "end_time": "2023-12-21T17:43:41.328424677Z",
     "start_time": "2023-12-21T17:43:41.255861042Z"
    }
   },
   "id": "5ffdb790af30da2d"
  },
  {
   "cell_type": "code",
   "execution_count": 29,
   "outputs": [
    {
     "data": {
      "text/plain": "(145, 2)"
     },
     "execution_count": 29,
     "metadata": {},
     "output_type": "execute_result"
    }
   ],
   "source": [
    "data.shape"
   ],
   "metadata": {
    "collapsed": false,
    "ExecuteTime": {
     "end_time": "2023-12-21T17:43:45.852486665Z",
     "start_time": "2023-12-21T17:43:45.822177501Z"
    }
   },
   "id": "9a8acdedee779221"
  },
  {
   "cell_type": "code",
   "execution_count": 30,
   "outputs": [
    {
     "data": {
      "text/plain": "False"
     },
     "execution_count": 30,
     "metadata": {},
     "output_type": "execute_result"
    }
   ],
   "source": [
    "data['name'].hasnans"
   ],
   "metadata": {
    "collapsed": false,
    "ExecuteTime": {
     "end_time": "2023-12-21T17:43:47.695558211Z",
     "start_time": "2023-12-21T17:43:47.685740392Z"
    }
   },
   "id": "bef3a11dbef85578"
  },
  {
   "cell_type": "code",
   "execution_count": 31,
   "outputs": [
    {
     "data": {
      "text/plain": "True"
     },
     "execution_count": 31,
     "metadata": {},
     "output_type": "execute_result"
    }
   ],
   "source": [
    "len(set(data['name'])) == len(data['name'])"
   ],
   "metadata": {
    "collapsed": false,
    "ExecuteTime": {
     "end_time": "2023-12-21T17:43:50.657150100Z",
     "start_time": "2023-12-21T17:43:50.613461526Z"
    }
   },
   "id": "ac9d33e98163eaae"
  },
  {
   "cell_type": "markdown",
   "source": [
    "# Reactions"
   ],
   "metadata": {
    "collapsed": false
   },
   "id": "e1483784ae342465"
  },
  {
   "cell_type": "code",
   "execution_count": 32,
   "outputs": [
    {
     "data": {
      "text/plain": "    id                          formula  reversible  isHuman  isMicrobe  \\\n0  971  10fthf5glu[c] -> 10fthf5glu[l]        False     True      False   \n1  972  10fthf5glu[m] -> 10fthf5glu[c]        False     True      False   \n2  973  10fthf6glu[c] -> 10fthf6glu[l]        False     True      False   \n3  974  10fthf6glu[m] -> 10fthf6glu[c]        False     True      False   \n4  975  10fthf7glu[c] -> 10fthf7glu[l]        False     True      False   \n\n   abbreviation  \n0  10FTHF5GLUtl  \n1  10FTHF5GLUtm  \n2  10FTHF6GLUtl  \n3  10FTHF6GLUtm  \n4  10FTHF7GLUtl  ",
      "text/html": "<div>\n<style scoped>\n    .dataframe tbody tr th:only-of-type {\n        vertical-align: middle;\n    }\n\n    .dataframe tbody tr th {\n        vertical-align: top;\n    }\n\n    .dataframe thead th {\n        text-align: right;\n    }\n</style>\n<table border=\"1\" class=\"dataframe\">\n  <thead>\n    <tr style=\"text-align: right;\">\n      <th></th>\n      <th>id</th>\n      <th>formula</th>\n      <th>reversible</th>\n      <th>isHuman</th>\n      <th>isMicrobe</th>\n      <th>abbreviation</th>\n    </tr>\n  </thead>\n  <tbody>\n    <tr>\n      <th>0</th>\n      <td>971</td>\n      <td>10fthf5glu[c] -&gt; 10fthf5glu[l]</td>\n      <td>False</td>\n      <td>True</td>\n      <td>False</td>\n      <td>10FTHF5GLUtl</td>\n    </tr>\n    <tr>\n      <th>1</th>\n      <td>972</td>\n      <td>10fthf5glu[m] -&gt; 10fthf5glu[c]</td>\n      <td>False</td>\n      <td>True</td>\n      <td>False</td>\n      <td>10FTHF5GLUtm</td>\n    </tr>\n    <tr>\n      <th>2</th>\n      <td>973</td>\n      <td>10fthf6glu[c] -&gt; 10fthf6glu[l]</td>\n      <td>False</td>\n      <td>True</td>\n      <td>False</td>\n      <td>10FTHF6GLUtl</td>\n    </tr>\n    <tr>\n      <th>3</th>\n      <td>974</td>\n      <td>10fthf6glu[m] -&gt; 10fthf6glu[c]</td>\n      <td>False</td>\n      <td>True</td>\n      <td>False</td>\n      <td>10FTHF6GLUtm</td>\n    </tr>\n    <tr>\n      <th>4</th>\n      <td>975</td>\n      <td>10fthf7glu[c] -&gt; 10fthf7glu[l]</td>\n      <td>False</td>\n      <td>True</td>\n      <td>False</td>\n      <td>10FTHF7GLUtl</td>\n    </tr>\n  </tbody>\n</table>\n</div>"
     },
     "execution_count": 32,
     "metadata": {},
     "output_type": "execute_result"
    }
   ],
   "source": [
    "from src.features import get_reactions as get_data\n",
    "\n",
    "data = pd.DataFrame(get_data())\n",
    "data.head()"
   ],
   "metadata": {
    "collapsed": false,
    "ExecuteTime": {
     "end_time": "2023-12-21T17:43:53.493203025Z",
     "start_time": "2023-12-21T17:43:53.385700772Z"
    }
   },
   "id": "52fb7e655fd3ee49"
  },
  {
   "cell_type": "code",
   "execution_count": 33,
   "outputs": [
    {
     "data": {
      "text/plain": "(19313, 6)"
     },
     "execution_count": 33,
     "metadata": {},
     "output_type": "execute_result"
    }
   ],
   "source": [
    "data.shape"
   ],
   "metadata": {
    "collapsed": false,
    "ExecuteTime": {
     "end_time": "2023-12-21T17:43:57.146778537Z",
     "start_time": "2023-12-21T17:43:57.105908273Z"
    }
   },
   "id": "dc5757147b8b4547"
  },
  {
   "cell_type": "code",
   "execution_count": 34,
   "outputs": [
    {
     "data": {
      "text/plain": "False"
     },
     "execution_count": 34,
     "metadata": {},
     "output_type": "execute_result"
    }
   ],
   "source": [
    "data['abbreviation'].hasnans"
   ],
   "metadata": {
    "collapsed": false,
    "ExecuteTime": {
     "end_time": "2023-12-21T17:44:00.079296887Z",
     "start_time": "2023-12-21T17:44:00.051908295Z"
    }
   },
   "id": "9e011905cda90ee5"
  },
  {
   "cell_type": "code",
   "execution_count": 35,
   "outputs": [
    {
     "data": {
      "text/plain": "True"
     },
     "execution_count": 35,
     "metadata": {},
     "output_type": "execute_result"
    }
   ],
   "source": [
    "len(set(data['abbreviation'])) == len(data['abbreviation'])"
   ],
   "metadata": {
    "collapsed": false,
    "ExecuteTime": {
     "end_time": "2023-12-21T17:44:01.712712861Z",
     "start_time": "2023-12-21T17:44:01.684680883Z"
    }
   },
   "id": "8872d5e079cf13ea"
  },
  {
   "cell_type": "markdown",
   "source": [
    "# Metabolite"
   ],
   "metadata": {
    "collapsed": false
   },
   "id": "4a336fe12d93b6bf"
  },
  {
   "cell_type": "code",
   "execution_count": 36,
   "outputs": [
    {
     "data": {
      "text/plain": "      id  abbreviation                            fullName chargedFormula  \\\n0  20284        10fthf           10-Formyltetrahydrofolate     C20H21N7O7   \n1  20285    10fthf5glu  10-Formyltetrahydrofolate-[Glu](5)   C40H45N11O19   \n2  20286    10fthf6glu  10-Formyltetrahydrofolate-[Glu](6)   C45H51N12O22   \n3  20287    10fthf7glu  10-Formyltetrahydrofolate-[Glu](7)   C50H57N13O25   \n4  20288  10m3hddcaACP  10-methyl-3-hydroxy-dodecanoyl-ACP  C24H45N2O9PRS   \n\n   charge  avgmolweight  monoisotopicweight  \\\n0      -2      473.4393          473.165896   \n1      -6           NaN                 NaN   \n2      -7           NaN                 NaN   \n3      -8           NaN                 NaN   \n4      -1           NaN                 NaN   \n\n                                               smile  isHuman  isMicrobe  \n0  [H]OC1=NC(=NC2=C1N([H])C([H])(C([H])([H])N(C([...     True       True  \n1  [H]OC1=NC(=N[H])N([H])C2=C1N([H])C([H])(C([H])...     True       True  \n2  [H]OC(=O)C([H])(N=C([O-])C([H])([H])C([H])([H]...     True      False  \n3  [H]OC1=NC(=N[H])N([H])C2=C1N([H])C([H])(C([H])...     True      False  \n4                                                       False       True  ",
      "text/html": "<div>\n<style scoped>\n    .dataframe tbody tr th:only-of-type {\n        vertical-align: middle;\n    }\n\n    .dataframe tbody tr th {\n        vertical-align: top;\n    }\n\n    .dataframe thead th {\n        text-align: right;\n    }\n</style>\n<table border=\"1\" class=\"dataframe\">\n  <thead>\n    <tr style=\"text-align: right;\">\n      <th></th>\n      <th>id</th>\n      <th>abbreviation</th>\n      <th>fullName</th>\n      <th>chargedFormula</th>\n      <th>charge</th>\n      <th>avgmolweight</th>\n      <th>monoisotopicweight</th>\n      <th>smile</th>\n      <th>isHuman</th>\n      <th>isMicrobe</th>\n    </tr>\n  </thead>\n  <tbody>\n    <tr>\n      <th>0</th>\n      <td>20284</td>\n      <td>10fthf</td>\n      <td>10-Formyltetrahydrofolate</td>\n      <td>C20H21N7O7</td>\n      <td>-2</td>\n      <td>473.4393</td>\n      <td>473.165896</td>\n      <td>[H]OC1=NC(=NC2=C1N([H])C([H])(C([H])([H])N(C([...</td>\n      <td>True</td>\n      <td>True</td>\n    </tr>\n    <tr>\n      <th>1</th>\n      <td>20285</td>\n      <td>10fthf5glu</td>\n      <td>10-Formyltetrahydrofolate-[Glu](5)</td>\n      <td>C40H45N11O19</td>\n      <td>-6</td>\n      <td>NaN</td>\n      <td>NaN</td>\n      <td>[H]OC1=NC(=N[H])N([H])C2=C1N([H])C([H])(C([H])...</td>\n      <td>True</td>\n      <td>True</td>\n    </tr>\n    <tr>\n      <th>2</th>\n      <td>20286</td>\n      <td>10fthf6glu</td>\n      <td>10-Formyltetrahydrofolate-[Glu](6)</td>\n      <td>C45H51N12O22</td>\n      <td>-7</td>\n      <td>NaN</td>\n      <td>NaN</td>\n      <td>[H]OC(=O)C([H])(N=C([O-])C([H])([H])C([H])([H]...</td>\n      <td>True</td>\n      <td>False</td>\n    </tr>\n    <tr>\n      <th>3</th>\n      <td>20287</td>\n      <td>10fthf7glu</td>\n      <td>10-Formyltetrahydrofolate-[Glu](7)</td>\n      <td>C50H57N13O25</td>\n      <td>-8</td>\n      <td>NaN</td>\n      <td>NaN</td>\n      <td>[H]OC1=NC(=N[H])N([H])C2=C1N([H])C([H])(C([H])...</td>\n      <td>True</td>\n      <td>False</td>\n    </tr>\n    <tr>\n      <th>4</th>\n      <td>20288</td>\n      <td>10m3hddcaACP</td>\n      <td>10-methyl-3-hydroxy-dodecanoyl-ACP</td>\n      <td>C24H45N2O9PRS</td>\n      <td>-1</td>\n      <td>NaN</td>\n      <td>NaN</td>\n      <td></td>\n      <td>False</td>\n      <td>True</td>\n    </tr>\n  </tbody>\n</table>\n</div>"
     },
     "execution_count": 36,
     "metadata": {},
     "output_type": "execute_result"
    }
   ],
   "source": [
    "from src.features import get_metabolites as get_data\n",
    "\n",
    "data = pd.DataFrame(get_data())\n",
    "data.head()"
   ],
   "metadata": {
    "collapsed": false,
    "ExecuteTime": {
     "end_time": "2023-12-21T17:44:07.283754166Z",
     "start_time": "2023-12-21T17:44:07.186412238Z"
    }
   },
   "id": "43a9e607555694eb"
  },
  {
   "cell_type": "code",
   "execution_count": 37,
   "outputs": [
    {
     "data": {
      "text/plain": "(5607, 10)"
     },
     "execution_count": 37,
     "metadata": {},
     "output_type": "execute_result"
    }
   ],
   "source": [
    "data.shape"
   ],
   "metadata": {
    "collapsed": false,
    "ExecuteTime": {
     "end_time": "2023-12-21T17:44:15.586378465Z",
     "start_time": "2023-12-21T17:44:15.552462043Z"
    }
   },
   "id": "c2aee2cdfd77beb0"
  },
  {
   "cell_type": "code",
   "execution_count": 38,
   "outputs": [
    {
     "data": {
      "text/plain": "False"
     },
     "execution_count": 38,
     "metadata": {},
     "output_type": "execute_result"
    }
   ],
   "source": [
    "data['abbreviation'].hasnans"
   ],
   "metadata": {
    "collapsed": false,
    "ExecuteTime": {
     "end_time": "2023-12-21T17:44:19.176346081Z",
     "start_time": "2023-12-21T17:44:19.113827051Z"
    }
   },
   "id": "f43e6db8ddffbcad"
  },
  {
   "cell_type": "code",
   "execution_count": 39,
   "outputs": [
    {
     "data": {
      "text/plain": "True"
     },
     "execution_count": 39,
     "metadata": {},
     "output_type": "execute_result"
    }
   ],
   "source": [
    "len(set(data['abbreviation'])) == len(data['abbreviation'])"
   ],
   "metadata": {
    "collapsed": false,
    "ExecuteTime": {
     "end_time": "2023-12-21T17:44:20.887449214Z",
     "start_time": "2023-12-21T17:44:20.821278668Z"
    }
   },
   "id": "c9a10a27db4842b3"
  },
  {
   "cell_type": "markdown",
   "source": [
    "# Diseases"
   ],
   "metadata": {
    "collapsed": false
   },
   "id": "6590305996229c34"
  },
  {
   "cell_type": "code",
   "execution_count": 40,
   "outputs": [
    {
     "data": {
      "text/plain": "      id abbreviation                                 name  \\\n0  25891          BS1             Bartter Syndrome, Type 1   \n1  25892         3MGA   3-Methylglutaconic Aciduria Type I   \n2  25893        FLIPO            Farber Lipogranulomatosis   \n3  25894         ACAD    Acetyl-Coa Carboxylase Deficiency   \n4  25895         PALD  Pseudoneonatal Adrenoleukodystrophy   \n\n                                   subtype          inheritance  \\\n0  Sodium-potassium-chloride cotransporter  Autosomal recessive   \n1                   Organic acid disorders  Autosomal recessive   \n2                       Lysosomal disorder  Autosomal recessive   \n3                           Lipid disorder                 None   \n4            Beta oxidation of fatty acids  Autosomal recessive   \n\n                                               organ  \n0                                             Kidney  \n1                                     Nervous system  \n2  Skin, skeletal system, liver, spleen, nervous ...  \n3                             Muscle, nervous system  \n4                                     Nervous system  ",
      "text/html": "<div>\n<style scoped>\n    .dataframe tbody tr th:only-of-type {\n        vertical-align: middle;\n    }\n\n    .dataframe tbody tr th {\n        vertical-align: top;\n    }\n\n    .dataframe thead th {\n        text-align: right;\n    }\n</style>\n<table border=\"1\" class=\"dataframe\">\n  <thead>\n    <tr style=\"text-align: right;\">\n      <th></th>\n      <th>id</th>\n      <th>abbreviation</th>\n      <th>name</th>\n      <th>subtype</th>\n      <th>inheritance</th>\n      <th>organ</th>\n    </tr>\n  </thead>\n  <tbody>\n    <tr>\n      <th>0</th>\n      <td>25891</td>\n      <td>BS1</td>\n      <td>Bartter Syndrome, Type 1</td>\n      <td>Sodium-potassium-chloride cotransporter</td>\n      <td>Autosomal recessive</td>\n      <td>Kidney</td>\n    </tr>\n    <tr>\n      <th>1</th>\n      <td>25892</td>\n      <td>3MGA</td>\n      <td>3-Methylglutaconic Aciduria Type I</td>\n      <td>Organic acid disorders</td>\n      <td>Autosomal recessive</td>\n      <td>Nervous system</td>\n    </tr>\n    <tr>\n      <th>2</th>\n      <td>25893</td>\n      <td>FLIPO</td>\n      <td>Farber Lipogranulomatosis</td>\n      <td>Lysosomal disorder</td>\n      <td>Autosomal recessive</td>\n      <td>Skin, skeletal system, liver, spleen, nervous ...</td>\n    </tr>\n    <tr>\n      <th>3</th>\n      <td>25894</td>\n      <td>ACAD</td>\n      <td>Acetyl-Coa Carboxylase Deficiency</td>\n      <td>Lipid disorder</td>\n      <td>None</td>\n      <td>Muscle, nervous system</td>\n    </tr>\n    <tr>\n      <th>4</th>\n      <td>25895</td>\n      <td>PALD</td>\n      <td>Pseudoneonatal Adrenoleukodystrophy</td>\n      <td>Beta oxidation of fatty acids</td>\n      <td>Autosomal recessive</td>\n      <td>Nervous system</td>\n    </tr>\n  </tbody>\n</table>\n</div>"
     },
     "execution_count": 40,
     "metadata": {},
     "output_type": "execute_result"
    }
   ],
   "source": [
    "from src.features import get_diseases as get_data\n",
    "\n",
    "data = pd.DataFrame(get_data())\n",
    "data.head()"
   ],
   "metadata": {
    "collapsed": false,
    "ExecuteTime": {
     "end_time": "2023-12-21T17:44:25.986159439Z",
     "start_time": "2023-12-21T17:44:25.952996065Z"
    }
   },
   "id": "c9171a7b97dc963f"
  },
  {
   "cell_type": "code",
   "execution_count": 41,
   "outputs": [
    {
     "data": {
      "text/plain": "(255, 6)"
     },
     "execution_count": 41,
     "metadata": {},
     "output_type": "execute_result"
    }
   ],
   "source": [
    "data.shape"
   ],
   "metadata": {
    "collapsed": false,
    "ExecuteTime": {
     "end_time": "2023-12-21T17:44:32.497261907Z",
     "start_time": "2023-12-21T17:44:32.460900672Z"
    }
   },
   "id": "c1b4994258d3ea97"
  },
  {
   "cell_type": "code",
   "execution_count": 42,
   "outputs": [
    {
     "data": {
      "text/plain": "False"
     },
     "execution_count": 42,
     "metadata": {},
     "output_type": "execute_result"
    }
   ],
   "source": [
    "data['abbreviation'].hasnans"
   ],
   "metadata": {
    "collapsed": false,
    "ExecuteTime": {
     "end_time": "2023-12-21T17:44:36.191569115Z",
     "start_time": "2023-12-21T17:44:36.135944131Z"
    }
   },
   "id": "edda95c09e06c8aa"
  },
  {
   "cell_type": "code",
   "execution_count": 43,
   "outputs": [
    {
     "data": {
      "text/plain": "True"
     },
     "execution_count": 43,
     "metadata": {},
     "output_type": "execute_result"
    }
   ],
   "source": [
    "len(set(data['abbreviation'])) == len(data['abbreviation'])"
   ],
   "metadata": {
    "collapsed": false,
    "ExecuteTime": {
     "end_time": "2023-12-21T17:44:37.275342630Z",
     "start_time": "2023-12-21T17:44:37.227609390Z"
    }
   },
   "id": "64b92bb339e60afe"
  },
  {
   "cell_type": "markdown",
   "source": [
    "# Compartments"
   ],
   "metadata": {
    "collapsed": false
   },
   "id": "c7b4e582f9c70a10"
  },
  {
   "cell_type": "code",
   "execution_count": 44,
   "outputs": [
    {
     "data": {
      "text/plain": "      id             name\n0  26146          Cytosol\n1  26147    Extracellular\n2  26148  Golgi Apparatus\n3  26149     Mitochondria\n4  26150         Lysosome",
      "text/html": "<div>\n<style scoped>\n    .dataframe tbody tr th:only-of-type {\n        vertical-align: middle;\n    }\n\n    .dataframe tbody tr th {\n        vertical-align: top;\n    }\n\n    .dataframe thead th {\n        text-align: right;\n    }\n</style>\n<table border=\"1\" class=\"dataframe\">\n  <thead>\n    <tr style=\"text-align: right;\">\n      <th></th>\n      <th>id</th>\n      <th>name</th>\n    </tr>\n  </thead>\n  <tbody>\n    <tr>\n      <th>0</th>\n      <td>26146</td>\n      <td>Cytosol</td>\n    </tr>\n    <tr>\n      <th>1</th>\n      <td>26147</td>\n      <td>Extracellular</td>\n    </tr>\n    <tr>\n      <th>2</th>\n      <td>26148</td>\n      <td>Golgi Apparatus</td>\n    </tr>\n    <tr>\n      <th>3</th>\n      <td>26149</td>\n      <td>Mitochondria</td>\n    </tr>\n    <tr>\n      <th>4</th>\n      <td>26150</td>\n      <td>Lysosome</td>\n    </tr>\n  </tbody>\n</table>\n</div>"
     },
     "execution_count": 44,
     "metadata": {},
     "output_type": "execute_result"
    }
   ],
   "source": [
    "from src.features import get_compartments as get_data\n",
    "\n",
    "data = pd.DataFrame(get_data())\n",
    "data.head()"
   ],
   "metadata": {
    "collapsed": false,
    "ExecuteTime": {
     "end_time": "2023-12-21T17:44:40.115361435Z",
     "start_time": "2023-12-21T17:44:40.064930381Z"
    }
   },
   "id": "caf2c2272de41a6b"
  },
  {
   "cell_type": "code",
   "execution_count": 45,
   "outputs": [
    {
     "data": {
      "text/plain": "(8, 2)"
     },
     "execution_count": 45,
     "metadata": {},
     "output_type": "execute_result"
    }
   ],
   "source": [
    "data.shape"
   ],
   "metadata": {
    "collapsed": false,
    "ExecuteTime": {
     "end_time": "2023-12-21T17:44:44.374077694Z",
     "start_time": "2023-12-21T17:44:44.329915999Z"
    }
   },
   "id": "75e708de6f767c22"
  },
  {
   "cell_type": "code",
   "execution_count": 46,
   "outputs": [
    {
     "data": {
      "text/plain": "False"
     },
     "execution_count": 46,
     "metadata": {},
     "output_type": "execute_result"
    }
   ],
   "source": [
    "data['name'].hasnans"
   ],
   "metadata": {
    "collapsed": false,
    "ExecuteTime": {
     "end_time": "2023-12-21T17:44:46.419596260Z",
     "start_time": "2023-12-21T17:44:46.385120077Z"
    }
   },
   "id": "468c967c1f4a4aee"
  },
  {
   "cell_type": "code",
   "execution_count": 47,
   "outputs": [
    {
     "data": {
      "text/plain": "True"
     },
     "execution_count": 47,
     "metadata": {},
     "output_type": "execute_result"
    }
   ],
   "source": [
    "len(set(data['name'])) == len(data['name'])"
   ],
   "metadata": {
    "collapsed": false,
    "ExecuteTime": {
     "end_time": "2023-12-21T17:44:48.282000497Z",
     "start_time": "2023-12-21T17:44:48.254654154Z"
    }
   },
   "id": "4f22e6b64f15c8d6"
  }
 ],
 "metadata": {
  "kernelspec": {
   "display_name": "Python 3",
   "language": "python",
   "name": "python3"
  },
  "language_info": {
   "codemirror_mode": {
    "name": "ipython",
    "version": 2
   },
   "file_extension": ".py",
   "mimetype": "text/x-python",
   "name": "python",
   "nbconvert_exporter": "python",
   "pygments_lexer": "ipython2",
   "version": "2.7.6"
  }
 },
 "nbformat": 4,
 "nbformat_minor": 5
}
