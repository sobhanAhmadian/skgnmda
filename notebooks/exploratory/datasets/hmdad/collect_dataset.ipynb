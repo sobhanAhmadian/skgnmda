{
 "cells": [
  {
   "cell_type": "code",
   "execution_count": 1,
   "id": "initial_id",
   "metadata": {
    "collapsed": true,
    "ExecuteTime": {
     "end_time": "2023-12-31T16:43:29.145570654Z",
     "start_time": "2023-12-31T16:43:29.144791671Z"
    }
   },
   "outputs": [
    {
     "name": "stdout",
     "output_type": "stream",
     "text": [
      "/home/user/Documents/Students/Sobhan Ahmadian/Projects/SKGNMDA\n"
     ]
    },
    {
     "name": "stderr",
     "output_type": "stream",
     "text": [
      "/home/user/Documents/Students/Sobhan Ahmadian/Projects/SKGNMDA/venv/lib/python3.10/site-packages/IPython/core/magics/osm.py:417: UserWarning: using dhist requires you to install the `pickleshare` library.\n",
      "  self.shell.db['dhist'] = compress_dhist(dhist)[-100:]\n"
     ]
    }
   ],
   "source": [
    "cd /home/user/Documents/Students/Sobhan Ahmadian/Projects/SKGNMDA"
   ]
  },
  {
   "cell_type": "code",
   "execution_count": 2,
   "outputs": [
    {
     "name": "stdout",
     "output_type": "stream",
     "text": [
      "2023-12-31 20:13:42,887 [INFO] request with url https://www.cuilab.cn/files/dmi/data_download.txt completed.\n",
      "2023-12-31 20:13:42,903 [INFO] table with name microbe_disease saved!\n"
     ]
    }
   ],
   "source": [
    "from src.data.data_collectors.hmdad_data_collector import HMDADDataCollectorManager\n",
    "\n",
    "collector = HMDADDataCollectorManager()\n",
    "data = collector.update_tables()"
   ],
   "metadata": {
    "collapsed": false,
    "ExecuteTime": {
     "end_time": "2023-12-31T16:43:42.910593394Z",
     "start_time": "2023-12-31T16:43:35.121212309Z"
    }
   },
   "id": "5e04b657db2dcfb5"
  }
 ],
 "metadata": {
  "kernelspec": {
   "display_name": "Python 3",
   "language": "python",
   "name": "python3"
  },
  "language_info": {
   "codemirror_mode": {
    "name": "ipython",
    "version": 2
   },
   "file_extension": ".py",
   "mimetype": "text/x-python",
   "name": "python",
   "nbconvert_exporter": "python",
   "pygments_lexer": "ipython2",
   "version": "2.7.6"
  }
 },
 "nbformat": 4,
 "nbformat_minor": 5
}
