{
 "cells": [
  {
   "cell_type": "code",
   "execution_count": 1,
   "id": "initial_id",
   "metadata": {
    "collapsed": true,
    "ExecuteTime": {
     "end_time": "2024-01-01T08:02:50.864816023Z",
     "start_time": "2024-01-01T08:02:50.860153925Z"
    }
   },
   "outputs": [
    {
     "name": "stdout",
     "output_type": "stream",
     "text": [
      "/home/user/Documents/Students/Sobhan Ahmadian/Projects/SKGNMDA\n"
     ]
    },
    {
     "name": "stderr",
     "output_type": "stream",
     "text": [
      "/home/user/Documents/Students/Sobhan Ahmadian/Projects/SKGNMDA/venv/lib/python3.10/site-packages/IPython/core/magics/osm.py:417: UserWarning: using dhist requires you to install the `pickleshare` library.\n",
      "  self.shell.db['dhist'] = compress_dhist(dhist)[-100:]\n"
     ]
    }
   ],
   "source": [
    "cd /home/user/Documents/Students/Sobhan Ahmadian/Projects/SKGNMDA"
   ]
  },
  {
   "cell_type": "code",
   "execution_count": 2,
   "outputs": [],
   "source": [
    "import pandas as pd"
   ],
   "metadata": {
    "collapsed": false,
    "ExecuteTime": {
     "end_time": "2024-01-01T08:02:53.224816533Z",
     "start_time": "2024-01-01T08:02:52.867024106Z"
    }
   },
   "id": "e1c820ef4c387900"
  },
  {
   "cell_type": "markdown",
   "source": [
    "# Microbe Disease Associations"
   ],
   "metadata": {
    "collapsed": false
   },
   "id": "e1112aa4b3355987"
  },
  {
   "cell_type": "code",
   "execution_count": 3,
   "outputs": [],
   "source": [
    "from src.features import get_raw_microbe_diseases\n",
    "\n",
    "df = pd.DataFrame(get_raw_microbe_diseases())"
   ],
   "metadata": {
    "collapsed": false,
    "ExecuteTime": {
     "end_time": "2024-01-01T08:02:55.546256700Z",
     "start_time": "2024-01-01T08:02:55.516569299Z"
    }
   },
   "id": "4143a3bf23dc3194"
  },
  {
   "cell_type": "code",
   "execution_count": 4,
   "outputs": [
    {
     "data": {
      "text/plain": "        Disease                   Microbe                Position  Evidence  \\\n0  Colon cancer   Collinsella aerofaciens  Gastrointestinal tract  Increase   \n1   Periodontal             Fusobacterium             Subgingival  Increase   \n2   Periodontal  Porphyromonas gingivalis             Subgingival  Increase   \n3   Periodontal                Prevotella             Subgingival  Increase   \n4   Periodontal                 Treponema             Subgingival  Increase   \n\n      PMID  \n0  7574628  \n1  9495612  \n2  9495612  \n3  9495612  \n4  9495612  ",
      "text/html": "<div>\n<style scoped>\n    .dataframe tbody tr th:only-of-type {\n        vertical-align: middle;\n    }\n\n    .dataframe tbody tr th {\n        vertical-align: top;\n    }\n\n    .dataframe thead th {\n        text-align: right;\n    }\n</style>\n<table border=\"1\" class=\"dataframe\">\n  <thead>\n    <tr style=\"text-align: right;\">\n      <th></th>\n      <th>Disease</th>\n      <th>Microbe</th>\n      <th>Position</th>\n      <th>Evidence</th>\n      <th>PMID</th>\n    </tr>\n  </thead>\n  <tbody>\n    <tr>\n      <th>0</th>\n      <td>Colon cancer</td>\n      <td>Collinsella aerofaciens</td>\n      <td>Gastrointestinal tract</td>\n      <td>Increase</td>\n      <td>7574628</td>\n    </tr>\n    <tr>\n      <th>1</th>\n      <td>Periodontal</td>\n      <td>Fusobacterium</td>\n      <td>Subgingival</td>\n      <td>Increase</td>\n      <td>9495612</td>\n    </tr>\n    <tr>\n      <th>2</th>\n      <td>Periodontal</td>\n      <td>Porphyromonas gingivalis</td>\n      <td>Subgingival</td>\n      <td>Increase</td>\n      <td>9495612</td>\n    </tr>\n    <tr>\n      <th>3</th>\n      <td>Periodontal</td>\n      <td>Prevotella</td>\n      <td>Subgingival</td>\n      <td>Increase</td>\n      <td>9495612</td>\n    </tr>\n    <tr>\n      <th>4</th>\n      <td>Periodontal</td>\n      <td>Treponema</td>\n      <td>Subgingival</td>\n      <td>Increase</td>\n      <td>9495612</td>\n    </tr>\n  </tbody>\n</table>\n</div>"
     },
     "execution_count": 4,
     "metadata": {},
     "output_type": "execute_result"
    }
   ],
   "source": [
    "df.head()"
   ],
   "metadata": {
    "collapsed": false,
    "ExecuteTime": {
     "end_time": "2024-01-01T08:02:57.121255904Z",
     "start_time": "2024-01-01T08:02:57.113054030Z"
    }
   },
   "id": "734c2047876b5c13"
  },
  {
   "cell_type": "code",
   "execution_count": 5,
   "outputs": [
    {
     "data": {
      "text/plain": "                Disease         Microbe                Position  Evidence  \\\ncount               483             483                     483       483   \nunique               39             292                      13         2   \ntop     Type 1 diabetes  Proteobacteria  Gastrointestinal tract  Increase   \nfreq                173              14                     387       267   \n\n            PMID  \ncount        483  \nunique        61  \ntop     22043294  \nfreq         152  ",
      "text/html": "<div>\n<style scoped>\n    .dataframe tbody tr th:only-of-type {\n        vertical-align: middle;\n    }\n\n    .dataframe tbody tr th {\n        vertical-align: top;\n    }\n\n    .dataframe thead th {\n        text-align: right;\n    }\n</style>\n<table border=\"1\" class=\"dataframe\">\n  <thead>\n    <tr style=\"text-align: right;\">\n      <th></th>\n      <th>Disease</th>\n      <th>Microbe</th>\n      <th>Position</th>\n      <th>Evidence</th>\n      <th>PMID</th>\n    </tr>\n  </thead>\n  <tbody>\n    <tr>\n      <th>count</th>\n      <td>483</td>\n      <td>483</td>\n      <td>483</td>\n      <td>483</td>\n      <td>483</td>\n    </tr>\n    <tr>\n      <th>unique</th>\n      <td>39</td>\n      <td>292</td>\n      <td>13</td>\n      <td>2</td>\n      <td>61</td>\n    </tr>\n    <tr>\n      <th>top</th>\n      <td>Type 1 diabetes</td>\n      <td>Proteobacteria</td>\n      <td>Gastrointestinal tract</td>\n      <td>Increase</td>\n      <td>22043294</td>\n    </tr>\n    <tr>\n      <th>freq</th>\n      <td>173</td>\n      <td>14</td>\n      <td>387</td>\n      <td>267</td>\n      <td>152</td>\n    </tr>\n  </tbody>\n</table>\n</div>"
     },
     "execution_count": 5,
     "metadata": {},
     "output_type": "execute_result"
    }
   ],
   "source": [
    "df.describe()"
   ],
   "metadata": {
    "collapsed": false,
    "ExecuteTime": {
     "end_time": "2024-01-01T08:05:56.289151348Z",
     "start_time": "2024-01-01T08:05:56.244110072Z"
    }
   },
   "id": "e439f7ff0c9ddcd4"
  }
 ],
 "metadata": {
  "kernelspec": {
   "display_name": "Python 3",
   "language": "python",
   "name": "python3"
  },
  "language_info": {
   "codemirror_mode": {
    "name": "ipython",
    "version": 2
   },
   "file_extension": ".py",
   "mimetype": "text/x-python",
   "name": "python",
   "nbconvert_exporter": "python",
   "pygments_lexer": "ipython2",
   "version": "2.7.6"
  }
 },
 "nbformat": 4,
 "nbformat_minor": 5
}
