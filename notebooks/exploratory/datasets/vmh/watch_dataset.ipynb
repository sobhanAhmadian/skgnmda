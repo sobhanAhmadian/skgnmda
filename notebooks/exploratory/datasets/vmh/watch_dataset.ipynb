{
 "cells": [
  {
   "cell_type": "code",
   "execution_count": 1,
   "outputs": [
    {
     "name": "stdout",
     "output_type": "stream",
     "text": [
      "/Users/sobhan.ahmadian.moghadam/Documents/Academic/Bioinformatics/Projects/Microbiome Disease Association/New Works/PowerMDA\n"
     ]
    }
   ],
   "source": [
    "cd /Users/sobhan.ahmadian.moghadam/Documents/Academic/Bioinformatics/Projects/Microbiome Disease Association/New Works/PowerMDA"
   ],
   "metadata": {
    "collapsed": false,
    "ExecuteTime": {
     "end_time": "2023-11-12T15:29:01.359774Z",
     "start_time": "2023-11-12T15:29:01.354229Z"
    }
   },
   "id": "e489a9f17db83040"
  },
  {
   "cell_type": "code",
   "execution_count": 1,
   "outputs": [
    {
     "name": "stdout",
     "output_type": "stream",
     "text": [
      "/home/user/Documents/Students/Sobhan Ahmadian/Projects/SKGNMDA\n"
     ]
    },
    {
     "name": "stderr",
     "output_type": "stream",
     "text": [
      "/home/user/Documents/Students/Sobhan Ahmadian/Projects/SKGNMDA/venv/lib/python3.10/site-packages/IPython/core/magics/osm.py:417: UserWarning: using dhist requires you to install the `pickleshare` library.\n",
      "  self.shell.db['dhist'] = compress_dhist(dhist)[-100:]\n"
     ]
    }
   ],
   "source": [
    "cd /home/user/Documents/Students/Sobhan Ahmadian/Projects/SKGNMDA"
   ],
   "metadata": {
    "collapsed": false,
    "ExecuteTime": {
     "end_time": "2023-12-20T12:52:22.423197634Z",
     "start_time": "2023-12-20T12:52:22.422314222Z"
    }
   },
   "id": "8394e115eafa7e10"
  },
  {
   "cell_type": "code",
   "execution_count": 2,
   "outputs": [],
   "source": [
    "import pandas as pd"
   ],
   "metadata": {
    "collapsed": false,
    "ExecuteTime": {
     "end_time": "2023-12-20T12:52:24.165799372Z",
     "start_time": "2023-12-20T12:52:23.902459393Z"
    }
   },
   "id": "f8787403fc513de0"
  },
  {
   "cell_type": "markdown",
   "source": [
    "# Metabolites"
   ],
   "metadata": {
    "collapsed": false
   },
   "id": "2600d0d00bc00f31"
  },
  {
   "cell_type": "markdown",
   "source": [
    "metabolites available in the database."
   ],
   "metadata": {
    "collapsed": false
   },
   "id": "6e63522f831f5d19"
  },
  {
   "cell_type": "code",
   "execution_count": 3,
   "outputs": [],
   "source": [
    "from src.features.vmh import get_raw_metabolites\n",
    "\n",
    "table = pd.DataFrame(get_raw_metabolites())"
   ],
   "metadata": {
    "collapsed": false,
    "ExecuteTime": {
     "end_time": "2023-11-12T15:29:06.528418Z",
     "start_time": "2023-11-12T15:29:06.461842Z"
    }
   },
   "id": "f913c74a9d2ccd4d"
  },
  {
   "cell_type": "code",
   "execution_count": 4,
   "outputs": [
    {
     "data": {
      "text/plain": "   met_id  abbreviation                  createdDate  \\\n0       4        10fthf  2018-05-31T15:54:08.170242Z   \n1       1    10fthf5glu  2018-05-31T15:54:08.170242Z   \n2       2    10fthf6glu  2018-05-31T15:54:08.170242Z   \n3       3    10fthf7glu  2018-05-31T15:54:08.170242Z   \n4    2937  10m3hddcaACP  2018-05-31T15:54:08.170242Z   \n\n                   updatedDate                            fullName  \\\n0  2019-02-08T16:20:18.422023Z           10-Formyltetrahydrofolate   \n1  2019-02-01T14:33:17.460050Z  10-Formyltetrahydrofolate-[Glu](5)   \n2  2018-12-03T15:29:15.338860Z  10-Formyltetrahydrofolate-[Glu](6)   \n3  2018-12-03T15:29:15.079598Z  10-Formyltetrahydrofolate-[Glu](7)   \n4  2019-02-01T14:33:17.730885Z  10-methyl-3-hydroxy-dodecanoyl-ACP   \n\n                                         description  \\\n0  Human Metabolome Database (HMDB): 10-Formyltet...   \n1                                                      \n2                                                      \n3                                                      \n4                                                      \n\n                                            synonyms  \\\n0  10-Formyl-THF***10-Formyltetrahydrofolic acid*...   \n1                                               None   \n2                                               None   \n3                                               None   \n4                                               None   \n\n                                               iupac neutralFormula  \\\n0  (2S)-2-[(4-{N-[(2-amino-4-oxo-1,4,5,6,7,8-hexa...                  \n1                                               None                  \n2                                               None                  \n3                                               None                  \n4                                               None                  \n\n  chargedFormula  ...  metlin  casRegistry  epa_id echa_id iuphar_id fda_id  \\\n0     C20H21N7O7  ...    5912    2800-34-2    None    None      None   None   \n1   C40H45N11O19  ...    None         None    None    None      None   None   \n2   C45H51N12O22  ...    None         None    None    None      None   None   \n3   C50H57N13O25  ...    None         None    None    None      None   None   \n4  C24H45N2O9PRS  ...    None         None    None    None      None   None   \n\n  mesh_id    chodb_id isHuman isMicrobe  \n0    None      10fthf    True      True  \n1    None  10fthf5glu    True      True  \n2    None  10fthf6glu    True     False  \n3    None  10fthf7glu    True     False  \n4    None        None   False      True  \n\n[5 rows x 54 columns]",
      "text/html": "<div>\n<style scoped>\n    .dataframe tbody tr th:only-of-type {\n        vertical-align: middle;\n    }\n\n    .dataframe tbody tr th {\n        vertical-align: top;\n    }\n\n    .dataframe thead th {\n        text-align: right;\n    }\n</style>\n<table border=\"1\" class=\"dataframe\">\n  <thead>\n    <tr style=\"text-align: right;\">\n      <th></th>\n      <th>met_id</th>\n      <th>abbreviation</th>\n      <th>createdDate</th>\n      <th>updatedDate</th>\n      <th>fullName</th>\n      <th>description</th>\n      <th>synonyms</th>\n      <th>iupac</th>\n      <th>neutralFormula</th>\n      <th>chargedFormula</th>\n      <th>...</th>\n      <th>metlin</th>\n      <th>casRegistry</th>\n      <th>epa_id</th>\n      <th>echa_id</th>\n      <th>iuphar_id</th>\n      <th>fda_id</th>\n      <th>mesh_id</th>\n      <th>chodb_id</th>\n      <th>isHuman</th>\n      <th>isMicrobe</th>\n    </tr>\n  </thead>\n  <tbody>\n    <tr>\n      <th>0</th>\n      <td>4</td>\n      <td>10fthf</td>\n      <td>2018-05-31T15:54:08.170242Z</td>\n      <td>2019-02-08T16:20:18.422023Z</td>\n      <td>10-Formyltetrahydrofolate</td>\n      <td>Human Metabolome Database (HMDB): 10-Formyltet...</td>\n      <td>10-Formyl-THF***10-Formyltetrahydrofolic acid*...</td>\n      <td>(2S)-2-[(4-{N-[(2-amino-4-oxo-1,4,5,6,7,8-hexa...</td>\n      <td></td>\n      <td>C20H21N7O7</td>\n      <td>...</td>\n      <td>5912</td>\n      <td>2800-34-2</td>\n      <td>None</td>\n      <td>None</td>\n      <td>None</td>\n      <td>None</td>\n      <td>None</td>\n      <td>10fthf</td>\n      <td>True</td>\n      <td>True</td>\n    </tr>\n    <tr>\n      <th>1</th>\n      <td>1</td>\n      <td>10fthf5glu</td>\n      <td>2018-05-31T15:54:08.170242Z</td>\n      <td>2019-02-01T14:33:17.460050Z</td>\n      <td>10-Formyltetrahydrofolate-[Glu](5)</td>\n      <td></td>\n      <td>None</td>\n      <td>None</td>\n      <td></td>\n      <td>C40H45N11O19</td>\n      <td>...</td>\n      <td>None</td>\n      <td>None</td>\n      <td>None</td>\n      <td>None</td>\n      <td>None</td>\n      <td>None</td>\n      <td>None</td>\n      <td>10fthf5glu</td>\n      <td>True</td>\n      <td>True</td>\n    </tr>\n    <tr>\n      <th>2</th>\n      <td>2</td>\n      <td>10fthf6glu</td>\n      <td>2018-05-31T15:54:08.170242Z</td>\n      <td>2018-12-03T15:29:15.338860Z</td>\n      <td>10-Formyltetrahydrofolate-[Glu](6)</td>\n      <td></td>\n      <td>None</td>\n      <td>None</td>\n      <td></td>\n      <td>C45H51N12O22</td>\n      <td>...</td>\n      <td>None</td>\n      <td>None</td>\n      <td>None</td>\n      <td>None</td>\n      <td>None</td>\n      <td>None</td>\n      <td>None</td>\n      <td>10fthf6glu</td>\n      <td>True</td>\n      <td>False</td>\n    </tr>\n    <tr>\n      <th>3</th>\n      <td>3</td>\n      <td>10fthf7glu</td>\n      <td>2018-05-31T15:54:08.170242Z</td>\n      <td>2018-12-03T15:29:15.079598Z</td>\n      <td>10-Formyltetrahydrofolate-[Glu](7)</td>\n      <td></td>\n      <td>None</td>\n      <td>None</td>\n      <td></td>\n      <td>C50H57N13O25</td>\n      <td>...</td>\n      <td>None</td>\n      <td>None</td>\n      <td>None</td>\n      <td>None</td>\n      <td>None</td>\n      <td>None</td>\n      <td>None</td>\n      <td>10fthf7glu</td>\n      <td>True</td>\n      <td>False</td>\n    </tr>\n    <tr>\n      <th>4</th>\n      <td>2937</td>\n      <td>10m3hddcaACP</td>\n      <td>2018-05-31T15:54:08.170242Z</td>\n      <td>2019-02-01T14:33:17.730885Z</td>\n      <td>10-methyl-3-hydroxy-dodecanoyl-ACP</td>\n      <td></td>\n      <td>None</td>\n      <td>None</td>\n      <td></td>\n      <td>C24H45N2O9PRS</td>\n      <td>...</td>\n      <td>None</td>\n      <td>None</td>\n      <td>None</td>\n      <td>None</td>\n      <td>None</td>\n      <td>None</td>\n      <td>None</td>\n      <td>None</td>\n      <td>False</td>\n      <td>True</td>\n    </tr>\n  </tbody>\n</table>\n<p>5 rows × 54 columns</p>\n</div>"
     },
     "execution_count": 4,
     "metadata": {},
     "output_type": "execute_result"
    }
   ],
   "source": [
    "table.head()"
   ],
   "metadata": {
    "collapsed": false,
    "ExecuteTime": {
     "end_time": "2023-11-12T15:29:08.246008Z",
     "start_time": "2023-11-12T15:29:08.196109Z"
    }
   },
   "id": "4512ec76f815c77f"
  },
  {
   "cell_type": "markdown",
   "source": [
    "# Reaction List"
   ],
   "metadata": {
    "collapsed": false
   },
   "id": "e33872fd0252d561"
  },
  {
   "cell_type": "markdown",
   "source": [
    "reactions available in the database"
   ],
   "metadata": {
    "collapsed": false
   },
   "id": "5171cd7e2ee070df"
  },
  {
   "cell_type": "code",
   "execution_count": 3,
   "outputs": [],
   "source": [
    "from src.features.vmh import get_raw_reactions\n",
    "\n",
    "table = pd.DataFrame(get_raw_reactions())"
   ],
   "metadata": {
    "collapsed": false,
    "ExecuteTime": {
     "end_time": "2023-12-19T08:45:44.924126802Z",
     "start_time": "2023-12-19T08:45:44.691922347Z"
    }
   },
   "id": "19258f30549f28b2"
  },
  {
   "cell_type": "code",
   "execution_count": 4,
   "outputs": [
    {
     "data": {
      "text/plain": "   rxn_id                  createdDate                  updatedDate  \\\n0       1  2018-05-31T16:06:56.524774Z  2018-12-03T14:46:36.681235Z   \n1       2  2018-05-31T16:06:56.524774Z  2018-12-03T14:54:14.812757Z   \n2       3  2018-05-31T16:06:56.524774Z  2018-12-03T14:46:36.962656Z   \n3       4  2018-05-31T16:06:56.524774Z  2018-12-03T14:48:45.499964Z   \n4       5  2018-05-31T16:06:56.524774Z  2018-12-03T14:46:37.186742Z   \n\n   abbreviation                                 description  \\\n0  10FTHF5GLUtl      5-Glutamyl-10Fthf Transport, Lysosomal   \n1  10FTHF5GLUtm  5-Glutamyl-10Fthf Transport, Mitochondrial   \n2  10FTHF6GLUtl      6-Glutamyl-10Fthf Transport, Lysosomal   \n3  10FTHF6GLUtm  6-Glutamyl-10Fthf Transport, Mitochondrial   \n4  10FTHF7GLUtl      7-Glutamyl-10Fthf Transport, Lysosomal   \n\n                           formula  reversible  mcs   csecoida  \\\n0  10fthf5glu[c] -> 10fthf5glu[l]            0  2.0  3A0000000   \n1  10fthf5glu[m] -> 10fthf5glu[c]            0  2.0  3A0000000   \n2  10fthf6glu[c] -> 10fthf6glu[l]            0  2.0  3A0000000   \n3  10fthf6glu[m] -> 10fthf6glu[c]            0  2.0  3A0000000   \n4  10fthf7glu[c] -> 10fthf7glu[l]            0  2.0  3A0000000   \n\n                                               notes  ... cog reconMap  \\\n0  carrier-mediated transport - but which and how...  ...         None   \n1                            mechanism is unknown IT  ...         None   \n2  carrier-mediated transport - but which and how...  ...         None   \n3                            mechanism is unknown IT  ...         None   \n4  carrier-mediated transport - but which and how...  ...         None   \n\n        reconMap3                  organellemap wikipedia      chodb_id  \\\n0  R_10FTHF5GLUtl       lysosome;R_10FTHF5GLUtl      None  10FTHF5GLUtl   \n1  R_10FTHF5GLUtm  mitochondrion;R_10FTHF5GLUtm      None  10FTHF5GLUtm   \n2  R_10FTHF6GLUtl       lysosome;R_10FTHF6GLUtl      None  10FTHF6GLUtl   \n3  R_10FTHF6GLUtm  mitochondrion;R_10FTHF6GLUtm      None  10FTHF6GLUtm   \n4  R_10FTHF7GLUtl       lysosome;R_10FTHF7GLUtl      None  10FTHF7GLUtl   \n\n                  subsystem massbalance isHuman isMicrobe  \n0      Transport, lysosomal         1.0    True     False  \n1  Transport, mitochondrial         1.0    True     False  \n2      Transport, lysosomal         1.0    True     False  \n3  Transport, mitochondrial         1.0    True     False  \n4      Transport, lysosomal         1.0    True     False  \n\n[5 rows x 28 columns]",
      "text/html": "<div>\n<style scoped>\n    .dataframe tbody tr th:only-of-type {\n        vertical-align: middle;\n    }\n\n    .dataframe tbody tr th {\n        vertical-align: top;\n    }\n\n    .dataframe thead th {\n        text-align: right;\n    }\n</style>\n<table border=\"1\" class=\"dataframe\">\n  <thead>\n    <tr style=\"text-align: right;\">\n      <th></th>\n      <th>rxn_id</th>\n      <th>createdDate</th>\n      <th>updatedDate</th>\n      <th>abbreviation</th>\n      <th>description</th>\n      <th>formula</th>\n      <th>reversible</th>\n      <th>mcs</th>\n      <th>csecoida</th>\n      <th>notes</th>\n      <th>...</th>\n      <th>cog</th>\n      <th>reconMap</th>\n      <th>reconMap3</th>\n      <th>organellemap</th>\n      <th>wikipedia</th>\n      <th>chodb_id</th>\n      <th>subsystem</th>\n      <th>massbalance</th>\n      <th>isHuman</th>\n      <th>isMicrobe</th>\n    </tr>\n  </thead>\n  <tbody>\n    <tr>\n      <th>0</th>\n      <td>1</td>\n      <td>2018-05-31T16:06:56.524774Z</td>\n      <td>2018-12-03T14:46:36.681235Z</td>\n      <td>10FTHF5GLUtl</td>\n      <td>5-Glutamyl-10Fthf Transport, Lysosomal</td>\n      <td>10fthf5glu[c] -&gt; 10fthf5glu[l]</td>\n      <td>0</td>\n      <td>2.0</td>\n      <td>3A0000000</td>\n      <td>carrier-mediated transport - but which and how...</td>\n      <td>...</td>\n      <td></td>\n      <td>None</td>\n      <td>R_10FTHF5GLUtl</td>\n      <td>lysosome;R_10FTHF5GLUtl</td>\n      <td>None</td>\n      <td>10FTHF5GLUtl</td>\n      <td>Transport, lysosomal</td>\n      <td>1.0</td>\n      <td>True</td>\n      <td>False</td>\n    </tr>\n    <tr>\n      <th>1</th>\n      <td>2</td>\n      <td>2018-05-31T16:06:56.524774Z</td>\n      <td>2018-12-03T14:54:14.812757Z</td>\n      <td>10FTHF5GLUtm</td>\n      <td>5-Glutamyl-10Fthf Transport, Mitochondrial</td>\n      <td>10fthf5glu[m] -&gt; 10fthf5glu[c]</td>\n      <td>0</td>\n      <td>2.0</td>\n      <td>3A0000000</td>\n      <td>mechanism is unknown IT</td>\n      <td>...</td>\n      <td></td>\n      <td>None</td>\n      <td>R_10FTHF5GLUtm</td>\n      <td>mitochondrion;R_10FTHF5GLUtm</td>\n      <td>None</td>\n      <td>10FTHF5GLUtm</td>\n      <td>Transport, mitochondrial</td>\n      <td>1.0</td>\n      <td>True</td>\n      <td>False</td>\n    </tr>\n    <tr>\n      <th>2</th>\n      <td>3</td>\n      <td>2018-05-31T16:06:56.524774Z</td>\n      <td>2018-12-03T14:46:36.962656Z</td>\n      <td>10FTHF6GLUtl</td>\n      <td>6-Glutamyl-10Fthf Transport, Lysosomal</td>\n      <td>10fthf6glu[c] -&gt; 10fthf6glu[l]</td>\n      <td>0</td>\n      <td>2.0</td>\n      <td>3A0000000</td>\n      <td>carrier-mediated transport - but which and how...</td>\n      <td>...</td>\n      <td></td>\n      <td>None</td>\n      <td>R_10FTHF6GLUtl</td>\n      <td>lysosome;R_10FTHF6GLUtl</td>\n      <td>None</td>\n      <td>10FTHF6GLUtl</td>\n      <td>Transport, lysosomal</td>\n      <td>1.0</td>\n      <td>True</td>\n      <td>False</td>\n    </tr>\n    <tr>\n      <th>3</th>\n      <td>4</td>\n      <td>2018-05-31T16:06:56.524774Z</td>\n      <td>2018-12-03T14:48:45.499964Z</td>\n      <td>10FTHF6GLUtm</td>\n      <td>6-Glutamyl-10Fthf Transport, Mitochondrial</td>\n      <td>10fthf6glu[m] -&gt; 10fthf6glu[c]</td>\n      <td>0</td>\n      <td>2.0</td>\n      <td>3A0000000</td>\n      <td>mechanism is unknown IT</td>\n      <td>...</td>\n      <td></td>\n      <td>None</td>\n      <td>R_10FTHF6GLUtm</td>\n      <td>mitochondrion;R_10FTHF6GLUtm</td>\n      <td>None</td>\n      <td>10FTHF6GLUtm</td>\n      <td>Transport, mitochondrial</td>\n      <td>1.0</td>\n      <td>True</td>\n      <td>False</td>\n    </tr>\n    <tr>\n      <th>4</th>\n      <td>5</td>\n      <td>2018-05-31T16:06:56.524774Z</td>\n      <td>2018-12-03T14:46:37.186742Z</td>\n      <td>10FTHF7GLUtl</td>\n      <td>7-Glutamyl-10Fthf Transport, Lysosomal</td>\n      <td>10fthf7glu[c] -&gt; 10fthf7glu[l]</td>\n      <td>0</td>\n      <td>2.0</td>\n      <td>3A0000000</td>\n      <td>carrier-mediated transport - but which and how...</td>\n      <td>...</td>\n      <td></td>\n      <td>None</td>\n      <td>R_10FTHF7GLUtl</td>\n      <td>lysosome;R_10FTHF7GLUtl</td>\n      <td>None</td>\n      <td>10FTHF7GLUtl</td>\n      <td>Transport, lysosomal</td>\n      <td>1.0</td>\n      <td>True</td>\n      <td>False</td>\n    </tr>\n  </tbody>\n</table>\n<p>5 rows × 28 columns</p>\n</div>"
     },
     "execution_count": 4,
     "metadata": {},
     "output_type": "execute_result"
    }
   ],
   "source": [
    "table.head()"
   ],
   "metadata": {
    "collapsed": false,
    "ExecuteTime": {
     "end_time": "2023-12-19T08:45:46.104106539Z",
     "start_time": "2023-12-19T08:45:46.035466628Z"
    }
   },
   "id": "68cad82376a993a9"
  },
  {
   "cell_type": "code",
   "execution_count": 6,
   "outputs": [
    {
     "data": {
      "text/plain": "False"
     },
     "execution_count": 6,
     "metadata": {},
     "output_type": "execute_result"
    }
   ],
   "source": [
    "len(set(table['formula'])) == len(table['formula'])"
   ],
   "metadata": {
    "collapsed": false,
    "ExecuteTime": {
     "end_time": "2023-12-19T08:46:30.661175765Z",
     "start_time": "2023-12-19T08:46:30.603013010Z"
    }
   },
   "id": "ba7f28893c159399"
  },
  {
   "cell_type": "markdown",
   "source": [
    "# Metabolite To Reaction List"
   ],
   "metadata": {
    "collapsed": false
   },
   "id": "cbb983199fca0348"
  },
  {
   "cell_type": "markdown",
   "source": [
    "the connections between reactions and metabolites. This information represents the presence of a metabolite in a reaction. In addition it gives stoichiometry and compartment information of a metabolite in a reaction. Filters allow to get information on metabolites involved in reactions, and reactions that contain specific metabolites."
   ],
   "metadata": {
    "collapsed": false
   },
   "id": "bf965ba957c7e87f"
  },
  {
   "cell_type": "code",
   "execution_count": 11,
   "outputs": [],
   "source": [
    "from src.features.vmh import get_raw_metabolite_to_reaction_matrix as get_matrix\n",
    "\n",
    "smatrix = pd.DataFrame(get_matrix())"
   ],
   "metadata": {
    "collapsed": false,
    "ExecuteTime": {
     "end_time": "2023-10-25T09:18:43.563931Z",
     "start_time": "2023-10-25T09:18:43.395768Z"
    }
   },
   "id": "a701fcc466205211"
  },
  {
   "cell_type": "code",
   "execution_count": 12,
   "outputs": [
    {
     "data": {
      "text/plain": "                                                 rxn  \\\n0  {'rxn_id': 508, 'createdDate': '2018-05-31T16:...   \n1  {'rxn_id': 508, 'createdDate': '2018-05-31T16:...   \n2  {'rxn_id': 508, 'createdDate': '2018-05-31T16:...   \n3  {'rxn_id': 508, 'createdDate': '2018-05-31T16:...   \n4  {'rxn_id': 508, 'createdDate': '2018-05-31T16:...   \n\n                                                 met  value comp  \n0  {'met_id': 8, 'abbreviation': 'h2o', 'createdD...    1.0    m  \n1  {'met_id': 14, 'abbreviation': 'h', 'createdDa...    3.0    m  \n2  {'met_id': 14, 'abbreviation': 'h', 'createdDa...   -4.0    c  \n3  {'met_id': 23, 'abbreviation': 'atp', 'created...    1.0    m  \n4  {'met_id': 24, 'abbreviation': 'adp', 'created...   -1.0    m  ",
      "text/html": "<div>\n<style scoped>\n    .dataframe tbody tr th:only-of-type {\n        vertical-align: middle;\n    }\n\n    .dataframe tbody tr th {\n        vertical-align: top;\n    }\n\n    .dataframe thead th {\n        text-align: right;\n    }\n</style>\n<table border=\"1\" class=\"dataframe\">\n  <thead>\n    <tr style=\"text-align: right;\">\n      <th></th>\n      <th>rxn</th>\n      <th>met</th>\n      <th>value</th>\n      <th>comp</th>\n    </tr>\n  </thead>\n  <tbody>\n    <tr>\n      <th>0</th>\n      <td>{'rxn_id': 508, 'createdDate': '2018-05-31T16:...</td>\n      <td>{'met_id': 8, 'abbreviation': 'h2o', 'createdD...</td>\n      <td>1.0</td>\n      <td>m</td>\n    </tr>\n    <tr>\n      <th>1</th>\n      <td>{'rxn_id': 508, 'createdDate': '2018-05-31T16:...</td>\n      <td>{'met_id': 14, 'abbreviation': 'h', 'createdDa...</td>\n      <td>3.0</td>\n      <td>m</td>\n    </tr>\n    <tr>\n      <th>2</th>\n      <td>{'rxn_id': 508, 'createdDate': '2018-05-31T16:...</td>\n      <td>{'met_id': 14, 'abbreviation': 'h', 'createdDa...</td>\n      <td>-4.0</td>\n      <td>c</td>\n    </tr>\n    <tr>\n      <th>3</th>\n      <td>{'rxn_id': 508, 'createdDate': '2018-05-31T16:...</td>\n      <td>{'met_id': 23, 'abbreviation': 'atp', 'created...</td>\n      <td>1.0</td>\n      <td>m</td>\n    </tr>\n    <tr>\n      <th>4</th>\n      <td>{'rxn_id': 508, 'createdDate': '2018-05-31T16:...</td>\n      <td>{'met_id': 24, 'abbreviation': 'adp', 'created...</td>\n      <td>-1.0</td>\n      <td>m</td>\n    </tr>\n  </tbody>\n</table>\n</div>"
     },
     "execution_count": 12,
     "metadata": {},
     "output_type": "execute_result"
    }
   ],
   "source": [
    "smatrix.head()"
   ],
   "metadata": {
    "collapsed": false,
    "ExecuteTime": {
     "end_time": "2023-10-25T09:18:43.564103Z",
     "start_time": "2023-10-25T09:18:43.425975Z"
    }
   },
   "id": "6facaa8aedad5276"
  },
  {
   "cell_type": "code",
   "execution_count": 13,
   "outputs": [
    {
     "data": {
      "text/plain": "   rxn_id                  createdDate                  updatedDate  \\\n0     508  2018-05-31T16:06:56.524774Z  2018-11-26T16:08:49.464957Z   \n1     508  2018-05-31T16:06:56.524774Z  2018-11-26T16:08:49.464957Z   \n2     508  2018-05-31T16:06:56.524774Z  2018-11-26T16:08:49.464957Z   \n3     508  2018-05-31T16:06:56.524774Z  2018-11-26T16:08:49.464957Z   \n4     508  2018-05-31T16:06:56.524774Z  2018-11-26T16:08:49.464957Z   \n\n  abbreviation                              description  \\\n0       ATPS4m  ATP Synthase (Four Protons for One ATP)   \n1       ATPS4m  ATP Synthase (Four Protons for One ATP)   \n2       ATPS4m  ATP Synthase (Four Protons for One ATP)   \n3       ATPS4m  ATP Synthase (Four Protons for One ATP)   \n4       ATPS4m  ATP Synthase (Four Protons for One ATP)   \n\n                                             formula  reversible  mcs  \\\n0  adp[m] + 4.0 h[c] + pi[m] -> atp[m] + 3.0 h[m]...           0    4   \n1  adp[m] + 4.0 h[c] + pi[m] -> atp[m] + 3.0 h[m]...           0    4   \n2  adp[m] + 4.0 h[c] + pi[m] -> atp[m] + 3.0 h[m]...           0    4   \n3  adp[m] + 4.0 h[c] + pi[m] -> atp[m] + 3.0 h[m]...           0    4   \n4  adp[m] + 4.0 h[c] + pi[m] -> atp[m] + 3.0 h[m]...           0    4   \n\n    csecoida  notes  ... cog reconMap reconMap3 organellemap wikipedia  \\\n0  3A0000134  IF TV  ...       ATPS4m      None         None      None   \n1  3A0000134  IF TV  ...       ATPS4m      None         None      None   \n2  3A0000134  IF TV  ...       ATPS4m      None         None      None   \n3  3A0000134  IF TV  ...       ATPS4m      None         None      None   \n4  3A0000134  IF TV  ...       ATPS4m      None         None      None   \n\n  chodb_id                  subsystem massbalance isHuman isMicrobe  \n0           Oxidative phosphorylation         1.0   False     False  \n1           Oxidative phosphorylation         1.0   False     False  \n2           Oxidative phosphorylation         1.0   False     False  \n3           Oxidative phosphorylation         1.0   False     False  \n4           Oxidative phosphorylation         1.0   False     False  \n\n[5 rows x 28 columns]",
      "text/html": "<div>\n<style scoped>\n    .dataframe tbody tr th:only-of-type {\n        vertical-align: middle;\n    }\n\n    .dataframe tbody tr th {\n        vertical-align: top;\n    }\n\n    .dataframe thead th {\n        text-align: right;\n    }\n</style>\n<table border=\"1\" class=\"dataframe\">\n  <thead>\n    <tr style=\"text-align: right;\">\n      <th></th>\n      <th>rxn_id</th>\n      <th>createdDate</th>\n      <th>updatedDate</th>\n      <th>abbreviation</th>\n      <th>description</th>\n      <th>formula</th>\n      <th>reversible</th>\n      <th>mcs</th>\n      <th>csecoida</th>\n      <th>notes</th>\n      <th>...</th>\n      <th>cog</th>\n      <th>reconMap</th>\n      <th>reconMap3</th>\n      <th>organellemap</th>\n      <th>wikipedia</th>\n      <th>chodb_id</th>\n      <th>subsystem</th>\n      <th>massbalance</th>\n      <th>isHuman</th>\n      <th>isMicrobe</th>\n    </tr>\n  </thead>\n  <tbody>\n    <tr>\n      <th>0</th>\n      <td>508</td>\n      <td>2018-05-31T16:06:56.524774Z</td>\n      <td>2018-11-26T16:08:49.464957Z</td>\n      <td>ATPS4m</td>\n      <td>ATP Synthase (Four Protons for One ATP)</td>\n      <td>adp[m] + 4.0 h[c] + pi[m] -&gt; atp[m] + 3.0 h[m]...</td>\n      <td>0</td>\n      <td>4</td>\n      <td>3A0000134</td>\n      <td>IF TV</td>\n      <td>...</td>\n      <td></td>\n      <td>ATPS4m</td>\n      <td>None</td>\n      <td>None</td>\n      <td>None</td>\n      <td></td>\n      <td>Oxidative phosphorylation</td>\n      <td>1.0</td>\n      <td>False</td>\n      <td>False</td>\n    </tr>\n    <tr>\n      <th>1</th>\n      <td>508</td>\n      <td>2018-05-31T16:06:56.524774Z</td>\n      <td>2018-11-26T16:08:49.464957Z</td>\n      <td>ATPS4m</td>\n      <td>ATP Synthase (Four Protons for One ATP)</td>\n      <td>adp[m] + 4.0 h[c] + pi[m] -&gt; atp[m] + 3.0 h[m]...</td>\n      <td>0</td>\n      <td>4</td>\n      <td>3A0000134</td>\n      <td>IF TV</td>\n      <td>...</td>\n      <td></td>\n      <td>ATPS4m</td>\n      <td>None</td>\n      <td>None</td>\n      <td>None</td>\n      <td></td>\n      <td>Oxidative phosphorylation</td>\n      <td>1.0</td>\n      <td>False</td>\n      <td>False</td>\n    </tr>\n    <tr>\n      <th>2</th>\n      <td>508</td>\n      <td>2018-05-31T16:06:56.524774Z</td>\n      <td>2018-11-26T16:08:49.464957Z</td>\n      <td>ATPS4m</td>\n      <td>ATP Synthase (Four Protons for One ATP)</td>\n      <td>adp[m] + 4.0 h[c] + pi[m] -&gt; atp[m] + 3.0 h[m]...</td>\n      <td>0</td>\n      <td>4</td>\n      <td>3A0000134</td>\n      <td>IF TV</td>\n      <td>...</td>\n      <td></td>\n      <td>ATPS4m</td>\n      <td>None</td>\n      <td>None</td>\n      <td>None</td>\n      <td></td>\n      <td>Oxidative phosphorylation</td>\n      <td>1.0</td>\n      <td>False</td>\n      <td>False</td>\n    </tr>\n    <tr>\n      <th>3</th>\n      <td>508</td>\n      <td>2018-05-31T16:06:56.524774Z</td>\n      <td>2018-11-26T16:08:49.464957Z</td>\n      <td>ATPS4m</td>\n      <td>ATP Synthase (Four Protons for One ATP)</td>\n      <td>adp[m] + 4.0 h[c] + pi[m] -&gt; atp[m] + 3.0 h[m]...</td>\n      <td>0</td>\n      <td>4</td>\n      <td>3A0000134</td>\n      <td>IF TV</td>\n      <td>...</td>\n      <td></td>\n      <td>ATPS4m</td>\n      <td>None</td>\n      <td>None</td>\n      <td>None</td>\n      <td></td>\n      <td>Oxidative phosphorylation</td>\n      <td>1.0</td>\n      <td>False</td>\n      <td>False</td>\n    </tr>\n    <tr>\n      <th>4</th>\n      <td>508</td>\n      <td>2018-05-31T16:06:56.524774Z</td>\n      <td>2018-11-26T16:08:49.464957Z</td>\n      <td>ATPS4m</td>\n      <td>ATP Synthase (Four Protons for One ATP)</td>\n      <td>adp[m] + 4.0 h[c] + pi[m] -&gt; atp[m] + 3.0 h[m]...</td>\n      <td>0</td>\n      <td>4</td>\n      <td>3A0000134</td>\n      <td>IF TV</td>\n      <td>...</td>\n      <td></td>\n      <td>ATPS4m</td>\n      <td>None</td>\n      <td>None</td>\n      <td>None</td>\n      <td></td>\n      <td>Oxidative phosphorylation</td>\n      <td>1.0</td>\n      <td>False</td>\n      <td>False</td>\n    </tr>\n  </tbody>\n</table>\n<p>5 rows × 28 columns</p>\n</div>"
     },
     "execution_count": 13,
     "metadata": {},
     "output_type": "execute_result"
    }
   ],
   "source": [
    "pd.DataFrame([d['rxn'] for d in get_matrix()]).head()"
   ],
   "metadata": {
    "collapsed": false,
    "ExecuteTime": {
     "end_time": "2023-10-25T09:18:43.564339Z",
     "start_time": "2023-10-25T09:18:43.429415Z"
    }
   },
   "id": "48d3750e5b8e65c7"
  },
  {
   "cell_type": "code",
   "execution_count": 14,
   "outputs": [
    {
     "data": {
      "text/plain": "   met_id abbreviation                  createdDate  \\\n0       8          h2o  2018-05-31T15:54:08.170242Z   \n1      14            h  2018-05-31T15:54:08.170242Z   \n2      14            h  2018-05-31T15:54:08.170242Z   \n3      23          atp  2018-05-31T15:54:08.170242Z   \n4      24          adp  2018-05-31T15:54:08.170242Z   \n\n                   updatedDate                fullName  \\\n0  2019-02-08T16:21:24.245888Z                   Water   \n1  2019-02-08T16:26:24.920053Z            Hydrogen Ion   \n2  2019-02-08T16:26:24.920053Z            Hydrogen Ion   \n3  2019-02-08T16:19:48.820901Z  Adenosine triphosphate   \n4  2019-02-08T16:20:51.219264Z                     ADP   \n\n                                         description  \\\n0  Human Metabolome Database (HMDB): Water is a c...   \n1  Human Metabolome Database (HMDB): Hydrogen ion...   \n2  Human Metabolome Database (HMDB): Hydrogen ion...   \n3  Human Metabolome Database (HMDB): Adenosine tr...   \n4  Human Metabolome Database (HMDB): Adenosine di...   \n\n                                            synonyms  \\\n0  [OH2]***Acqua***Agua***Aqua***BOUND water***Di...   \n1      H+***H(+)***Hydrogen cation***Hydron***Proton   \n2      H+***H(+)***Hydrogen cation***Hydron***Proton   \n3  Adenosine 5'-triphosphate***ADENOSINE-5'-triph...   \n4  5'-Adenylphosphoric acid***Adenosine 5'-diphos...   \n\n                                       iupac neutralFormula chargedFormula  \\\n0                                      Water                           H2O   \n1                                     hydron                             H   \n2                                     hydron                             H   \n3  Adenosine 5'-(tetrahydrogen triphosphate)                 C10H12N5O13P3   \n4     Adenosine 5'-(trihydrogen diphosphate)                 C10H12N5O10P2   \n\n   ...  metlin  casRegistry          epa_id      echa_id iuphar_id  \\\n0  ...    3194    7732-18-5   DTXSID6026296         None      None   \n1  ...    None   12408-02-5            None         None      2346   \n2  ...    None   12408-02-5            None         None      2346   \n3  ...    5523      56-65-5   DTXSID6022559  100.000.258      1713   \n4  ...    6175      58-64-0  DTXSID60883210  100.000.356      1712   \n\n       fda_id  mesh_id chodb_id isHuman isMicrobe  \n0  059QF0KO0R  D014867      h2o    True      True  \n1        None     None        h    True      True  \n2        None     None        h    True      True  \n3  8L70Q75FXE  D000255      atp    True      True  \n4        None     None      adp    True      True  \n\n[5 rows x 54 columns]",
      "text/html": "<div>\n<style scoped>\n    .dataframe tbody tr th:only-of-type {\n        vertical-align: middle;\n    }\n\n    .dataframe tbody tr th {\n        vertical-align: top;\n    }\n\n    .dataframe thead th {\n        text-align: right;\n    }\n</style>\n<table border=\"1\" class=\"dataframe\">\n  <thead>\n    <tr style=\"text-align: right;\">\n      <th></th>\n      <th>met_id</th>\n      <th>abbreviation</th>\n      <th>createdDate</th>\n      <th>updatedDate</th>\n      <th>fullName</th>\n      <th>description</th>\n      <th>synonyms</th>\n      <th>iupac</th>\n      <th>neutralFormula</th>\n      <th>chargedFormula</th>\n      <th>...</th>\n      <th>metlin</th>\n      <th>casRegistry</th>\n      <th>epa_id</th>\n      <th>echa_id</th>\n      <th>iuphar_id</th>\n      <th>fda_id</th>\n      <th>mesh_id</th>\n      <th>chodb_id</th>\n      <th>isHuman</th>\n      <th>isMicrobe</th>\n    </tr>\n  </thead>\n  <tbody>\n    <tr>\n      <th>0</th>\n      <td>8</td>\n      <td>h2o</td>\n      <td>2018-05-31T15:54:08.170242Z</td>\n      <td>2019-02-08T16:21:24.245888Z</td>\n      <td>Water</td>\n      <td>Human Metabolome Database (HMDB): Water is a c...</td>\n      <td>[OH2]***Acqua***Agua***Aqua***BOUND water***Di...</td>\n      <td>Water</td>\n      <td></td>\n      <td>H2O</td>\n      <td>...</td>\n      <td>3194</td>\n      <td>7732-18-5</td>\n      <td>DTXSID6026296</td>\n      <td>None</td>\n      <td>None</td>\n      <td>059QF0KO0R</td>\n      <td>D014867</td>\n      <td>h2o</td>\n      <td>True</td>\n      <td>True</td>\n    </tr>\n    <tr>\n      <th>1</th>\n      <td>14</td>\n      <td>h</td>\n      <td>2018-05-31T15:54:08.170242Z</td>\n      <td>2019-02-08T16:26:24.920053Z</td>\n      <td>Hydrogen Ion</td>\n      <td>Human Metabolome Database (HMDB): Hydrogen ion...</td>\n      <td>H+***H(+)***Hydrogen cation***Hydron***Proton</td>\n      <td>hydron</td>\n      <td></td>\n      <td>H</td>\n      <td>...</td>\n      <td>None</td>\n      <td>12408-02-5</td>\n      <td>None</td>\n      <td>None</td>\n      <td>2346</td>\n      <td>None</td>\n      <td>None</td>\n      <td>h</td>\n      <td>True</td>\n      <td>True</td>\n    </tr>\n    <tr>\n      <th>2</th>\n      <td>14</td>\n      <td>h</td>\n      <td>2018-05-31T15:54:08.170242Z</td>\n      <td>2019-02-08T16:26:24.920053Z</td>\n      <td>Hydrogen Ion</td>\n      <td>Human Metabolome Database (HMDB): Hydrogen ion...</td>\n      <td>H+***H(+)***Hydrogen cation***Hydron***Proton</td>\n      <td>hydron</td>\n      <td></td>\n      <td>H</td>\n      <td>...</td>\n      <td>None</td>\n      <td>12408-02-5</td>\n      <td>None</td>\n      <td>None</td>\n      <td>2346</td>\n      <td>None</td>\n      <td>None</td>\n      <td>h</td>\n      <td>True</td>\n      <td>True</td>\n    </tr>\n    <tr>\n      <th>3</th>\n      <td>23</td>\n      <td>atp</td>\n      <td>2018-05-31T15:54:08.170242Z</td>\n      <td>2019-02-08T16:19:48.820901Z</td>\n      <td>Adenosine triphosphate</td>\n      <td>Human Metabolome Database (HMDB): Adenosine tr...</td>\n      <td>Adenosine 5'-triphosphate***ADENOSINE-5'-triph...</td>\n      <td>Adenosine 5'-(tetrahydrogen triphosphate)</td>\n      <td></td>\n      <td>C10H12N5O13P3</td>\n      <td>...</td>\n      <td>5523</td>\n      <td>56-65-5</td>\n      <td>DTXSID6022559</td>\n      <td>100.000.258</td>\n      <td>1713</td>\n      <td>8L70Q75FXE</td>\n      <td>D000255</td>\n      <td>atp</td>\n      <td>True</td>\n      <td>True</td>\n    </tr>\n    <tr>\n      <th>4</th>\n      <td>24</td>\n      <td>adp</td>\n      <td>2018-05-31T15:54:08.170242Z</td>\n      <td>2019-02-08T16:20:51.219264Z</td>\n      <td>ADP</td>\n      <td>Human Metabolome Database (HMDB): Adenosine di...</td>\n      <td>5'-Adenylphosphoric acid***Adenosine 5'-diphos...</td>\n      <td>Adenosine 5'-(trihydrogen diphosphate)</td>\n      <td></td>\n      <td>C10H12N5O10P2</td>\n      <td>...</td>\n      <td>6175</td>\n      <td>58-64-0</td>\n      <td>DTXSID60883210</td>\n      <td>100.000.356</td>\n      <td>1712</td>\n      <td>None</td>\n      <td>None</td>\n      <td>adp</td>\n      <td>True</td>\n      <td>True</td>\n    </tr>\n  </tbody>\n</table>\n<p>5 rows × 54 columns</p>\n</div>"
     },
     "execution_count": 14,
     "metadata": {},
     "output_type": "execute_result"
    }
   ],
   "source": [
    "pd.DataFrame([d['met'] for d in get_matrix()]).head()"
   ],
   "metadata": {
    "collapsed": false,
    "ExecuteTime": {
     "end_time": "2023-10-25T09:18:43.564658Z",
     "start_time": "2023-10-25T09:18:43.460574Z"
    }
   },
   "id": "22fcb3ca73f2f485"
  },
  {
   "cell_type": "markdown",
   "source": [
    "# Genes List"
   ],
   "metadata": {
    "collapsed": false
   },
   "id": "337e1c71f3519"
  },
  {
   "cell_type": "markdown",
   "source": [
    " Human Genes available in the database"
   ],
   "metadata": {
    "collapsed": false
   },
   "id": "1523ccb01e349b72"
  },
  {
   "cell_type": "code",
   "execution_count": 15,
   "outputs": [
    {
     "data": {
      "text/plain": "   genes_id                  createdDate                  updatedDate  \\\n0         1  2018-05-31T15:49:46.176171Z  2018-11-29T16:01:06.861650Z   \n1         2  2018-05-31T15:49:46.176171Z  2018-11-29T16:01:06.453683Z   \n2         3  2018-05-31T15:49:46.176171Z  2018-11-29T16:01:06.644950Z   \n3         4  2018-05-31T15:49:46.176171Z  2018-11-29T16:01:06.743602Z   \n4         5  2018-05-31T15:49:46.176171Z  2018-11-29T16:02:32.473496Z   \n\n  abbreviation   symbol gene_number chromosome  \\\n0         None     AOC3      8639.1         17   \n1         None     AOC1        26.1          7   \n2         None     AOC2       314.2         17   \n3         None     AOC2       314.1         17   \n4         None  CYP24A1      1591.1         20   \n\n                                         description     gstart       gend  \\\n0  amine oxidase, copper containing 3 [Source:HGN...   42851184   42858130   \n1  amine oxidase, copper containing 1 [Source:HGN...  150824627  150861504   \n2  amine oxidase, copper containing 2 (retina-spe...   42844600   42850707   \n3  amine oxidase, copper containing 2 (retina-spe...   42844600   42850707   \n4  cytochrome P450, family 24, subfamily A, polyp...   54153449   54173973   \n\n   ...  decipher  wikipedia mimAccession  \\\n0  ...      AOC3       AOC3       603735   \n1  ...      AOC1       None       104610   \n2  ...      AOC2       AOC2       602268   \n3  ...      AOC2       AOC2       602268   \n4  ...   CYP24A1    CYP24A1       126065   \n\n                                      mimDescription humanProteomeAtlasAB  \\\n0   AMINE OXIDASE, COPPER-CONTAINING, 3; AOC3\\n;;...            HPA000980   \n1   AMILORIDE-BINDING PROTEIN 1; ABP1\\n;;ABP;;\\nD...            HPA031033   \n2   AMINE OXIDASE, COPPER-CONTAINING, 2; AOC2\\n;;...            HPA057779   \n3   AMINE OXIDASE, COPPER-CONTAINING, 2; AOC2\\n;;...            HPA057779   \n4   CYTOCHROME P450, FAMILY 24, SUBFAMILY A, POLY...            HPA022261   \n\n         ucsc wikigene goTermAccession          goTermName  \\\n0  uc002ibv.5     8639      GO:0005507  copper ion binding   \n1  uc003why.1       26      GO:0005507  copper ion binding   \n2  uc002ibu.4      314      GO:0003674  molecular_function   \n3  uc002ibu.4      314      GO:0003674  molecular_function   \n4  uc002xwv.2     1591      GO:0008150  biological_process   \n\n                                    goTermDefinition  \n0  \"Interacting selectively and non-covalently wi...  \n1  \"Interacting selectively and non-covalently wi...  \n2  \"Elemental activities, such as catalysis or bi...  \n3  \"Elemental activities, such as catalysis or bi...  \n4  \"Any process specifically pertinent to the fun...  \n\n[5 rows x 39 columns]",
      "text/html": "<div>\n<style scoped>\n    .dataframe tbody tr th:only-of-type {\n        vertical-align: middle;\n    }\n\n    .dataframe tbody tr th {\n        vertical-align: top;\n    }\n\n    .dataframe thead th {\n        text-align: right;\n    }\n</style>\n<table border=\"1\" class=\"dataframe\">\n  <thead>\n    <tr style=\"text-align: right;\">\n      <th></th>\n      <th>genes_id</th>\n      <th>createdDate</th>\n      <th>updatedDate</th>\n      <th>abbreviation</th>\n      <th>symbol</th>\n      <th>gene_number</th>\n      <th>chromosome</th>\n      <th>description</th>\n      <th>gstart</th>\n      <th>gend</th>\n      <th>...</th>\n      <th>decipher</th>\n      <th>wikipedia</th>\n      <th>mimAccession</th>\n      <th>mimDescription</th>\n      <th>humanProteomeAtlasAB</th>\n      <th>ucsc</th>\n      <th>wikigene</th>\n      <th>goTermAccession</th>\n      <th>goTermName</th>\n      <th>goTermDefinition</th>\n    </tr>\n  </thead>\n  <tbody>\n    <tr>\n      <th>0</th>\n      <td>1</td>\n      <td>2018-05-31T15:49:46.176171Z</td>\n      <td>2018-11-29T16:01:06.861650Z</td>\n      <td>None</td>\n      <td>AOC3</td>\n      <td>8639.1</td>\n      <td>17</td>\n      <td>amine oxidase, copper containing 3 [Source:HGN...</td>\n      <td>42851184</td>\n      <td>42858130</td>\n      <td>...</td>\n      <td>AOC3</td>\n      <td>AOC3</td>\n      <td>603735</td>\n      <td>AMINE OXIDASE, COPPER-CONTAINING, 3; AOC3\\n;;...</td>\n      <td>HPA000980</td>\n      <td>uc002ibv.5</td>\n      <td>8639</td>\n      <td>GO:0005507</td>\n      <td>copper ion binding</td>\n      <td>\"Interacting selectively and non-covalently wi...</td>\n    </tr>\n    <tr>\n      <th>1</th>\n      <td>2</td>\n      <td>2018-05-31T15:49:46.176171Z</td>\n      <td>2018-11-29T16:01:06.453683Z</td>\n      <td>None</td>\n      <td>AOC1</td>\n      <td>26.1</td>\n      <td>7</td>\n      <td>amine oxidase, copper containing 1 [Source:HGN...</td>\n      <td>150824627</td>\n      <td>150861504</td>\n      <td>...</td>\n      <td>AOC1</td>\n      <td>None</td>\n      <td>104610</td>\n      <td>AMILORIDE-BINDING PROTEIN 1; ABP1\\n;;ABP;;\\nD...</td>\n      <td>HPA031033</td>\n      <td>uc003why.1</td>\n      <td>26</td>\n      <td>GO:0005507</td>\n      <td>copper ion binding</td>\n      <td>\"Interacting selectively and non-covalently wi...</td>\n    </tr>\n    <tr>\n      <th>2</th>\n      <td>3</td>\n      <td>2018-05-31T15:49:46.176171Z</td>\n      <td>2018-11-29T16:01:06.644950Z</td>\n      <td>None</td>\n      <td>AOC2</td>\n      <td>314.2</td>\n      <td>17</td>\n      <td>amine oxidase, copper containing 2 (retina-spe...</td>\n      <td>42844600</td>\n      <td>42850707</td>\n      <td>...</td>\n      <td>AOC2</td>\n      <td>AOC2</td>\n      <td>602268</td>\n      <td>AMINE OXIDASE, COPPER-CONTAINING, 2; AOC2\\n;;...</td>\n      <td>HPA057779</td>\n      <td>uc002ibu.4</td>\n      <td>314</td>\n      <td>GO:0003674</td>\n      <td>molecular_function</td>\n      <td>\"Elemental activities, such as catalysis or bi...</td>\n    </tr>\n    <tr>\n      <th>3</th>\n      <td>4</td>\n      <td>2018-05-31T15:49:46.176171Z</td>\n      <td>2018-11-29T16:01:06.743602Z</td>\n      <td>None</td>\n      <td>AOC2</td>\n      <td>314.1</td>\n      <td>17</td>\n      <td>amine oxidase, copper containing 2 (retina-spe...</td>\n      <td>42844600</td>\n      <td>42850707</td>\n      <td>...</td>\n      <td>AOC2</td>\n      <td>AOC2</td>\n      <td>602268</td>\n      <td>AMINE OXIDASE, COPPER-CONTAINING, 2; AOC2\\n;;...</td>\n      <td>HPA057779</td>\n      <td>uc002ibu.4</td>\n      <td>314</td>\n      <td>GO:0003674</td>\n      <td>molecular_function</td>\n      <td>\"Elemental activities, such as catalysis or bi...</td>\n    </tr>\n    <tr>\n      <th>4</th>\n      <td>5</td>\n      <td>2018-05-31T15:49:46.176171Z</td>\n      <td>2018-11-29T16:02:32.473496Z</td>\n      <td>None</td>\n      <td>CYP24A1</td>\n      <td>1591.1</td>\n      <td>20</td>\n      <td>cytochrome P450, family 24, subfamily A, polyp...</td>\n      <td>54153449</td>\n      <td>54173973</td>\n      <td>...</td>\n      <td>CYP24A1</td>\n      <td>CYP24A1</td>\n      <td>126065</td>\n      <td>CYTOCHROME P450, FAMILY 24, SUBFAMILY A, POLY...</td>\n      <td>HPA022261</td>\n      <td>uc002xwv.2</td>\n      <td>1591</td>\n      <td>GO:0008150</td>\n      <td>biological_process</td>\n      <td>\"Any process specifically pertinent to the fun...</td>\n    </tr>\n  </tbody>\n</table>\n<p>5 rows × 39 columns</p>\n</div>"
     },
     "execution_count": 15,
     "metadata": {},
     "output_type": "execute_result"
    }
   ],
   "source": [
    "from src.features.vmh import get_raw_genes\n",
    "\n",
    "table = pd.DataFrame(get_raw_genes())\n",
    "table.head()"
   ],
   "metadata": {
    "collapsed": false,
    "ExecuteTime": {
     "end_time": "2023-10-25T09:18:43.564931Z",
     "start_time": "2023-10-25T09:18:43.494815Z"
    }
   },
   "id": "efd82383ac078735"
  },
  {
   "cell_type": "markdown",
   "source": [
    "# Microbe Gene List"
   ],
   "metadata": {
    "collapsed": false
   },
   "id": "99b0fe971d586489"
  },
  {
   "cell_type": "code",
   "execution_count": 16,
   "outputs": [
    {
     "data": {
      "text/plain": "                   createdDate                  updatedDate      gene_number  \\\n0  2018-05-31T15:55:22.130880Z  2018-05-31T15:57:47.214985Z  g.1034.peg.1234   \n1  2018-05-31T15:55:22.130880Z  2018-05-31T15:57:47.214985Z   g.1034.peg.458   \n2  2018-05-31T15:55:22.130880Z  2018-05-31T15:57:47.214985Z     g.1034.peg.6   \n3  2018-05-31T15:55:22.130880Z  2018-05-31T15:57:47.214985Z  g.1034.peg.1936   \n4  2018-05-31T15:55:22.130880Z  2018-05-31T15:57:47.214985Z  g.1034.peg.2176   \n\n  sequence  \n0     None  \n1     None  \n2     None  \n3     None  \n4     None  ",
      "text/html": "<div>\n<style scoped>\n    .dataframe tbody tr th:only-of-type {\n        vertical-align: middle;\n    }\n\n    .dataframe tbody tr th {\n        vertical-align: top;\n    }\n\n    .dataframe thead th {\n        text-align: right;\n    }\n</style>\n<table border=\"1\" class=\"dataframe\">\n  <thead>\n    <tr style=\"text-align: right;\">\n      <th></th>\n      <th>createdDate</th>\n      <th>updatedDate</th>\n      <th>gene_number</th>\n      <th>sequence</th>\n    </tr>\n  </thead>\n  <tbody>\n    <tr>\n      <th>0</th>\n      <td>2018-05-31T15:55:22.130880Z</td>\n      <td>2018-05-31T15:57:47.214985Z</td>\n      <td>g.1034.peg.1234</td>\n      <td>None</td>\n    </tr>\n    <tr>\n      <th>1</th>\n      <td>2018-05-31T15:55:22.130880Z</td>\n      <td>2018-05-31T15:57:47.214985Z</td>\n      <td>g.1034.peg.458</td>\n      <td>None</td>\n    </tr>\n    <tr>\n      <th>2</th>\n      <td>2018-05-31T15:55:22.130880Z</td>\n      <td>2018-05-31T15:57:47.214985Z</td>\n      <td>g.1034.peg.6</td>\n      <td>None</td>\n    </tr>\n    <tr>\n      <th>3</th>\n      <td>2018-05-31T15:55:22.130880Z</td>\n      <td>2018-05-31T15:57:47.214985Z</td>\n      <td>g.1034.peg.1936</td>\n      <td>None</td>\n    </tr>\n    <tr>\n      <th>4</th>\n      <td>2018-05-31T15:55:22.130880Z</td>\n      <td>2018-05-31T15:57:47.214985Z</td>\n      <td>g.1034.peg.2176</td>\n      <td>None</td>\n    </tr>\n  </tbody>\n</table>\n</div>"
     },
     "execution_count": 16,
     "metadata": {},
     "output_type": "execute_result"
    }
   ],
   "source": [
    "from src.features.vmh import get_raw_microbe_genes as get_data\n",
    "\n",
    "table = pd.DataFrame(get_data())\n",
    "table.head()"
   ],
   "metadata": {
    "collapsed": false,
    "ExecuteTime": {
     "end_time": "2023-10-25T09:18:43.565096Z",
     "start_time": "2023-10-25T09:18:43.517603Z"
    }
   },
   "id": "582feaf6aa184d3e"
  },
  {
   "cell_type": "markdown",
   "source": [
    "# Reconstructions List"
   ],
   "metadata": {
    "collapsed": false
   },
   "id": "598dfb07b7a5f5"
  },
  {
   "cell_type": "code",
   "execution_count": 3,
   "outputs": [
    {
     "data": {
      "text/plain": "   model_id                  createdDate                  updatedDate  \\\n0         1  2018-05-31T16:11:49.553912Z  2018-05-31T16:11:55.866502Z   \n1       375  2018-05-31T16:11:49.553912Z  2019-01-22T18:39:48.823762Z   \n2       376  2018-05-31T16:11:49.553912Z  2019-01-19T09:31:48.548350Z   \n3       377  2018-05-31T16:11:49.553912Z  2019-01-18T17:41:35.504332Z   \n4       378  2018-05-31T16:11:49.553912Z  2019-01-29T19:40:15.812043Z   \n\n                                       name  \\\n0                                     Recon   \n1            Citrobacter_youngae_ATCC_29220   \n2               Clostridium_difficile_NAP08   \n3      Enterobacter_cancerogenus_ATCC_35316   \n4  Bifidobacterium_longum_longum_ATCC_55813   \n\n                                   descname  \\\n0                  Recon - Human metabolism   \n1            Citrobacter youngae ATCC 29220   \n2               Clostridium difficile NAP08   \n3      Enterobacter cancerogenus ATCC 35316   \n4  Bifidobacterium longum longum ATCC 55813   \n\n                                   organism organismtype  \\\n0                          Human Metabolism        Human   \n1            Citrobacter youngae ATCC 29220      Microbe   \n2               Clostridium difficile NAP08      Microbe   \n3      Enterobacter cancerogenus ATCC 35316      Microbe   \n4  Bifidobacterium longum longum ATCC 55813      Microbe   \n\n                                              author notes version  \n0                                                 IT            3D  \n1  Stefania Magnusdottir, Almut Heinken, Eugen Ba...          1.03  \n2  Stefania Magnusdottir, Almut Heinken, Eugen Ba...          1.03  \n3  Stefania Magnusdottir, Almut Heinken, Eugen Ba...          1.03  \n4  Stefania Magnusdottir, Almut Heinken, Eugen Ba...          1.03  ",
      "text/html": "<div>\n<style scoped>\n    .dataframe tbody tr th:only-of-type {\n        vertical-align: middle;\n    }\n\n    .dataframe tbody tr th {\n        vertical-align: top;\n    }\n\n    .dataframe thead th {\n        text-align: right;\n    }\n</style>\n<table border=\"1\" class=\"dataframe\">\n  <thead>\n    <tr style=\"text-align: right;\">\n      <th></th>\n      <th>model_id</th>\n      <th>createdDate</th>\n      <th>updatedDate</th>\n      <th>name</th>\n      <th>descname</th>\n      <th>organism</th>\n      <th>organismtype</th>\n      <th>author</th>\n      <th>notes</th>\n      <th>version</th>\n    </tr>\n  </thead>\n  <tbody>\n    <tr>\n      <th>0</th>\n      <td>1</td>\n      <td>2018-05-31T16:11:49.553912Z</td>\n      <td>2018-05-31T16:11:55.866502Z</td>\n      <td>Recon</td>\n      <td>Recon - Human metabolism</td>\n      <td>Human Metabolism</td>\n      <td>Human</td>\n      <td>IT</td>\n      <td></td>\n      <td>3D</td>\n    </tr>\n    <tr>\n      <th>1</th>\n      <td>375</td>\n      <td>2018-05-31T16:11:49.553912Z</td>\n      <td>2019-01-22T18:39:48.823762Z</td>\n      <td>Citrobacter_youngae_ATCC_29220</td>\n      <td>Citrobacter youngae ATCC 29220</td>\n      <td>Citrobacter youngae ATCC 29220</td>\n      <td>Microbe</td>\n      <td>Stefania Magnusdottir, Almut Heinken, Eugen Ba...</td>\n      <td></td>\n      <td>1.03</td>\n    </tr>\n    <tr>\n      <th>2</th>\n      <td>376</td>\n      <td>2018-05-31T16:11:49.553912Z</td>\n      <td>2019-01-19T09:31:48.548350Z</td>\n      <td>Clostridium_difficile_NAP08</td>\n      <td>Clostridium difficile NAP08</td>\n      <td>Clostridium difficile NAP08</td>\n      <td>Microbe</td>\n      <td>Stefania Magnusdottir, Almut Heinken, Eugen Ba...</td>\n      <td></td>\n      <td>1.03</td>\n    </tr>\n    <tr>\n      <th>3</th>\n      <td>377</td>\n      <td>2018-05-31T16:11:49.553912Z</td>\n      <td>2019-01-18T17:41:35.504332Z</td>\n      <td>Enterobacter_cancerogenus_ATCC_35316</td>\n      <td>Enterobacter cancerogenus ATCC 35316</td>\n      <td>Enterobacter cancerogenus ATCC 35316</td>\n      <td>Microbe</td>\n      <td>Stefania Magnusdottir, Almut Heinken, Eugen Ba...</td>\n      <td></td>\n      <td>1.03</td>\n    </tr>\n    <tr>\n      <th>4</th>\n      <td>378</td>\n      <td>2018-05-31T16:11:49.553912Z</td>\n      <td>2019-01-29T19:40:15.812043Z</td>\n      <td>Bifidobacterium_longum_longum_ATCC_55813</td>\n      <td>Bifidobacterium longum longum ATCC 55813</td>\n      <td>Bifidobacterium longum longum ATCC 55813</td>\n      <td>Microbe</td>\n      <td>Stefania Magnusdottir, Almut Heinken, Eugen Ba...</td>\n      <td></td>\n      <td>1.03</td>\n    </tr>\n  </tbody>\n</table>\n</div>"
     },
     "execution_count": 3,
     "metadata": {},
     "output_type": "execute_result"
    }
   ],
   "source": [
    "from src.features.vmh import get_raw_recons\n",
    "\n",
    "table = pd.DataFrame(get_raw_recons())\n",
    "table.head()"
   ],
   "metadata": {
    "collapsed": false,
    "ExecuteTime": {
     "end_time": "2023-12-20T12:52:26.371034591Z",
     "start_time": "2023-12-20T12:52:26.309445866Z"
    }
   },
   "id": "18860a5388f1e97"
  },
  {
   "cell_type": "markdown",
   "source": [
    "# Reaction to Reconstruction List"
   ],
   "metadata": {
    "collapsed": false
   },
   "id": "b4fcd7371991967"
  },
  {
   "cell_type": "markdown",
   "source": [
    "connections between reactions and reconstructions. This connection provides information on reaction bounds in the reconstruction, GPR rule, confidence score, subsystem, references and notes."
   ],
   "metadata": {
    "collapsed": false
   },
   "id": "3bb2b1381212f90e"
  },
  {
   "cell_type": "code",
   "execution_count": 18,
   "outputs": [
    {
     "data": {
      "text/plain": "                                               model           rxn  \\\n0  {'model_id': 1, 'createdDate': '2018-05-31T16:...  10FTHF5GLUtl   \n1  {'model_id': 1, 'createdDate': '2018-05-31T16:...  10FTHF5GLUtm   \n2  {'model_id': 1, 'createdDate': '2018-05-31T16:...  10FTHF6GLUtl   \n3  {'model_id': 1, 'createdDate': '2018-05-31T16:...  10FTHF6GLUtm   \n4  {'model_id': 1, 'createdDate': '2018-05-31T16:...  10FTHF7GLUtl   \n\n                   createdDate                  updatedDate   lb      ub  cs  \\\n0  2018-05-31T16:07:29.349885Z  2018-05-31T16:09:22.166192Z  0.0  1000.0   2   \n1  2018-05-31T16:07:29.349885Z  2018-05-31T16:09:22.166192Z  0.0  1000.0   2   \n2  2018-05-31T16:07:29.349885Z  2018-05-31T16:09:22.166192Z  0.0  1000.0   2   \n3  2018-05-31T16:07:29.349885Z  2018-05-31T16:09:22.166192Z  0.0  1000.0   2   \n4  2018-05-31T16:07:29.349885Z  2018-05-31T16:09:22.166192Z  0.0  1000.0   2   \n\n  csecoida gpr                 subsystem            ref  \\\n0     None          Transport, lysosomal  PMID:11375437   \n1     None      Transport, mitochondrial  PMID:11375437   \n2     None          Transport, lysosomal  PMID:11375437   \n3     None      Transport, mitochondrial  PMID:11375437   \n4     None          Transport, lysosomal  PMID:11375437   \n\n                                               notes  \n0  carrier-mediated transport - but which and how...  \n1                            mechanism is unknown IT  \n2  carrier-mediated transport - but which and how...  \n3                            mechanism is unknown IT  \n4  carrier-mediated transport - but which and how...  ",
      "text/html": "<div>\n<style scoped>\n    .dataframe tbody tr th:only-of-type {\n        vertical-align: middle;\n    }\n\n    .dataframe tbody tr th {\n        vertical-align: top;\n    }\n\n    .dataframe thead th {\n        text-align: right;\n    }\n</style>\n<table border=\"1\" class=\"dataframe\">\n  <thead>\n    <tr style=\"text-align: right;\">\n      <th></th>\n      <th>model</th>\n      <th>rxn</th>\n      <th>createdDate</th>\n      <th>updatedDate</th>\n      <th>lb</th>\n      <th>ub</th>\n      <th>cs</th>\n      <th>csecoida</th>\n      <th>gpr</th>\n      <th>subsystem</th>\n      <th>ref</th>\n      <th>notes</th>\n    </tr>\n  </thead>\n  <tbody>\n    <tr>\n      <th>0</th>\n      <td>{'model_id': 1, 'createdDate': '2018-05-31T16:...</td>\n      <td>10FTHF5GLUtl</td>\n      <td>2018-05-31T16:07:29.349885Z</td>\n      <td>2018-05-31T16:09:22.166192Z</td>\n      <td>0.0</td>\n      <td>1000.0</td>\n      <td>2</td>\n      <td>None</td>\n      <td></td>\n      <td>Transport, lysosomal</td>\n      <td>PMID:11375437</td>\n      <td>carrier-mediated transport - but which and how...</td>\n    </tr>\n    <tr>\n      <th>1</th>\n      <td>{'model_id': 1, 'createdDate': '2018-05-31T16:...</td>\n      <td>10FTHF5GLUtm</td>\n      <td>2018-05-31T16:07:29.349885Z</td>\n      <td>2018-05-31T16:09:22.166192Z</td>\n      <td>0.0</td>\n      <td>1000.0</td>\n      <td>2</td>\n      <td>None</td>\n      <td></td>\n      <td>Transport, mitochondrial</td>\n      <td>PMID:11375437</td>\n      <td>mechanism is unknown IT</td>\n    </tr>\n    <tr>\n      <th>2</th>\n      <td>{'model_id': 1, 'createdDate': '2018-05-31T16:...</td>\n      <td>10FTHF6GLUtl</td>\n      <td>2018-05-31T16:07:29.349885Z</td>\n      <td>2018-05-31T16:09:22.166192Z</td>\n      <td>0.0</td>\n      <td>1000.0</td>\n      <td>2</td>\n      <td>None</td>\n      <td></td>\n      <td>Transport, lysosomal</td>\n      <td>PMID:11375437</td>\n      <td>carrier-mediated transport - but which and how...</td>\n    </tr>\n    <tr>\n      <th>3</th>\n      <td>{'model_id': 1, 'createdDate': '2018-05-31T16:...</td>\n      <td>10FTHF6GLUtm</td>\n      <td>2018-05-31T16:07:29.349885Z</td>\n      <td>2018-05-31T16:09:22.166192Z</td>\n      <td>0.0</td>\n      <td>1000.0</td>\n      <td>2</td>\n      <td>None</td>\n      <td></td>\n      <td>Transport, mitochondrial</td>\n      <td>PMID:11375437</td>\n      <td>mechanism is unknown IT</td>\n    </tr>\n    <tr>\n      <th>4</th>\n      <td>{'model_id': 1, 'createdDate': '2018-05-31T16:...</td>\n      <td>10FTHF7GLUtl</td>\n      <td>2018-05-31T16:07:29.349885Z</td>\n      <td>2018-05-31T16:09:22.166192Z</td>\n      <td>0.0</td>\n      <td>1000.0</td>\n      <td>2</td>\n      <td>None</td>\n      <td></td>\n      <td>Transport, lysosomal</td>\n      <td>PMID:11375437</td>\n      <td>carrier-mediated transport - but which and how...</td>\n    </tr>\n  </tbody>\n</table>\n</div>"
     },
     "execution_count": 18,
     "metadata": {},
     "output_type": "execute_result"
    }
   ],
   "source": [
    "from src.features.vmh import get_raw_reaction_to_recon_matrix\n",
    "\n",
    "table = pd.DataFrame(get_raw_reaction_to_recon_matrix())\n",
    "table.head()"
   ],
   "metadata": {
    "collapsed": false,
    "ExecuteTime": {
     "end_time": "2023-10-25T09:18:43.565695Z",
     "start_time": "2023-10-25T09:18:43.535928Z"
    }
   },
   "id": "3ba21c9e1f6de2f7"
  },
  {
   "cell_type": "markdown",
   "source": [
    "# Gene to Reconstruction List"
   ],
   "metadata": {
    "collapsed": false
   },
   "id": "647333a8e06c1ded"
  },
  {
   "cell_type": "code",
   "execution_count": 19,
   "outputs": [
    {
     "data": {
      "text/plain": "                                               recon   gene\n0  {'model': {'model_id': 1152, 'createdDate': '2...  513.1\n1  {'model': {'model_id': 1152, 'createdDate': '2...  498.2\n2  {'model': {'model_id': 1152, 'createdDate': '2...  506.1\n3  {'model': {'model_id': 1152, 'createdDate': '2...  509.2\n4  {'model': {'model_id': 1152, 'createdDate': '2...  514.1",
      "text/html": "<div>\n<style scoped>\n    .dataframe tbody tr th:only-of-type {\n        vertical-align: middle;\n    }\n\n    .dataframe tbody tr th {\n        vertical-align: top;\n    }\n\n    .dataframe thead th {\n        text-align: right;\n    }\n</style>\n<table border=\"1\" class=\"dataframe\">\n  <thead>\n    <tr style=\"text-align: right;\">\n      <th></th>\n      <th>recon</th>\n      <th>gene</th>\n    </tr>\n  </thead>\n  <tbody>\n    <tr>\n      <th>0</th>\n      <td>{'model': {'model_id': 1152, 'createdDate': '2...</td>\n      <td>513.1</td>\n    </tr>\n    <tr>\n      <th>1</th>\n      <td>{'model': {'model_id': 1152, 'createdDate': '2...</td>\n      <td>498.2</td>\n    </tr>\n    <tr>\n      <th>2</th>\n      <td>{'model': {'model_id': 1152, 'createdDate': '2...</td>\n      <td>506.1</td>\n    </tr>\n    <tr>\n      <th>3</th>\n      <td>{'model': {'model_id': 1152, 'createdDate': '2...</td>\n      <td>509.2</td>\n    </tr>\n    <tr>\n      <th>4</th>\n      <td>{'model': {'model_id': 1152, 'createdDate': '2...</td>\n      <td>514.1</td>\n    </tr>\n  </tbody>\n</table>\n</div>"
     },
     "execution_count": 19,
     "metadata": {},
     "output_type": "execute_result"
    }
   ],
   "source": [
    "from src.features.vmh import get_raw_gene_to_reconstruction as get_data\n",
    "\n",
    "table = pd.DataFrame(get_data())\n",
    "table.head()"
   ],
   "metadata": {
    "collapsed": false,
    "ExecuteTime": {
     "end_time": "2023-10-25T09:18:43.566673Z",
     "start_time": "2023-10-25T09:18:43.549735Z"
    }
   },
   "id": "750c44b0002755c0"
  },
  {
   "cell_type": "markdown",
   "source": [
    "# Microbe Genes to Reconstructions"
   ],
   "metadata": {
    "collapsed": false
   },
   "id": "ef96454ac2a810dd"
  },
  {
   "cell_type": "code",
   "execution_count": 20,
   "outputs": [
    {
     "data": {
      "text/plain": "                                                gene  \\\n0  {'createdDate': '2018-05-31T15:55:22.130880Z',...   \n1  {'createdDate': '2018-05-31T15:55:22.130880Z',...   \n2  {'createdDate': '2018-05-31T15:55:22.130880Z',...   \n3  {'createdDate': '2018-05-31T15:55:22.130880Z',...   \n4  {'createdDate': '2018-05-31T15:55:22.130880Z',...   \n\n                                               recon  \\\n0  {'model': {'model_id': 698, 'createdDate': '20...   \n1  {'model': {'model_id': 698, 'createdDate': '20...   \n2  {'model': {'model_id': 698, 'createdDate': '20...   \n3  {'model': {'model_id': 698, 'createdDate': '20...   \n4  {'model': {'model_id': 698, 'createdDate': '20...   \n\n                   createdDate                  updatedDate  \n0  2018-05-31T16:12:30.370016Z  2018-05-31T16:14:50.430755Z  \n1  2018-05-31T16:12:30.370016Z  2018-05-31T16:14:50.430755Z  \n2  2018-05-31T16:12:30.370016Z  2018-05-31T16:14:50.430755Z  \n3  2018-05-31T16:12:30.370016Z  2018-05-31T16:14:50.430755Z  \n4  2018-05-31T16:12:30.370016Z  2018-05-31T16:14:50.430755Z  ",
      "text/html": "<div>\n<style scoped>\n    .dataframe tbody tr th:only-of-type {\n        vertical-align: middle;\n    }\n\n    .dataframe tbody tr th {\n        vertical-align: top;\n    }\n\n    .dataframe thead th {\n        text-align: right;\n    }\n</style>\n<table border=\"1\" class=\"dataframe\">\n  <thead>\n    <tr style=\"text-align: right;\">\n      <th></th>\n      <th>gene</th>\n      <th>recon</th>\n      <th>createdDate</th>\n      <th>updatedDate</th>\n    </tr>\n  </thead>\n  <tbody>\n    <tr>\n      <th>0</th>\n      <td>{'createdDate': '2018-05-31T15:55:22.130880Z',...</td>\n      <td>{'model': {'model_id': 698, 'createdDate': '20...</td>\n      <td>2018-05-31T16:12:30.370016Z</td>\n      <td>2018-05-31T16:14:50.430755Z</td>\n    </tr>\n    <tr>\n      <th>1</th>\n      <td>{'createdDate': '2018-05-31T15:55:22.130880Z',...</td>\n      <td>{'model': {'model_id': 698, 'createdDate': '20...</td>\n      <td>2018-05-31T16:12:30.370016Z</td>\n      <td>2018-05-31T16:14:50.430755Z</td>\n    </tr>\n    <tr>\n      <th>2</th>\n      <td>{'createdDate': '2018-05-31T15:55:22.130880Z',...</td>\n      <td>{'model': {'model_id': 698, 'createdDate': '20...</td>\n      <td>2018-05-31T16:12:30.370016Z</td>\n      <td>2018-05-31T16:14:50.430755Z</td>\n    </tr>\n    <tr>\n      <th>3</th>\n      <td>{'createdDate': '2018-05-31T15:55:22.130880Z',...</td>\n      <td>{'model': {'model_id': 698, 'createdDate': '20...</td>\n      <td>2018-05-31T16:12:30.370016Z</td>\n      <td>2018-05-31T16:14:50.430755Z</td>\n    </tr>\n    <tr>\n      <th>4</th>\n      <td>{'createdDate': '2018-05-31T15:55:22.130880Z',...</td>\n      <td>{'model': {'model_id': 698, 'createdDate': '20...</td>\n      <td>2018-05-31T16:12:30.370016Z</td>\n      <td>2018-05-31T16:14:50.430755Z</td>\n    </tr>\n  </tbody>\n</table>\n</div>"
     },
     "execution_count": 20,
     "metadata": {},
     "output_type": "execute_result"
    }
   ],
   "source": [
    "from src.features.vmh import get_raw_microbe_genes_to_recons as get_data\n",
    "\n",
    "table = pd.DataFrame(get_data())\n",
    "table.head()"
   ],
   "metadata": {
    "collapsed": false,
    "ExecuteTime": {
     "end_time": "2023-10-25T09:18:43.668575Z",
     "start_time": "2023-10-25T09:18:43.562648Z"
    }
   },
   "id": "f17981d2b65de634"
  },
  {
   "cell_type": "markdown",
   "source": [
    "# Numerical Statistic of Reconstructions"
   ],
   "metadata": {
    "collapsed": false
   },
   "id": "ab264dc10ed5d0b4"
  },
  {
   "cell_type": "code",
   "execution_count": 21,
   "outputs": [
    {
     "data": {
      "text/plain": "                         reconstruction                  createdDate  \\\n0      Abiotrophia_defectiva_ATCC_49176  2018-05-31T16:00:07.944034Z   \n1  Acidaminococcus_fermentans_DSM_20731  2018-05-31T16:00:07.944034Z   \n2    Acidaminococcus_intestini_RyC_MR95  2018-05-31T16:00:07.944034Z   \n3                Acidaminococcus_sp_D21  2018-05-31T16:00:07.944034Z   \n4    Acinetobacter_calcoaceticus_PHEA_2  2018-05-31T16:00:07.944034Z   \n\n                   updatedDate  n_mets  n_rxns  n_elements  n_nonzero  \\\n0  2018-06-28T13:28:59.803412Z     952    1069     1017688       4670   \n1  2018-06-28T13:29:00.529554Z    1009    1089     1098801       4664   \n2  2018-06-28T13:29:00.786197Z     917     994      911498       4249   \n3  2018-06-28T13:29:00.995554Z     856     851      728456       3616   \n4  2018-06-28T13:29:01.377799Z    1326    1577        1577       6791   \n\n    sparsity  comp_sparsity  max_value  min_value  av_column_dens  \\\n0  99.541117       0.458883   400.0000   0.001806        4.368569   \n1  99.575537       0.424463    45.0000   0.003096        4.282828   \n2  99.533844       0.466156    40.1102   0.003096        4.274648   \n3  99.503608       0.496392    40.1701   0.007809        4.249119   \n4  99.675243       0.324757    45.0000   0.003096        4.306278   \n\n   rel_column_dens  rank  rank_deficiency  max_sing_value  min_sing_value  \\\n0      4588.832727   880         7.563025      564.981416    4.270000e-20   \n1      4244.626643   912         9.613479      145.335214    3.330000e-15   \n2      4661.557129   855         6.761178      129.799619    2.690000e-15   \n3      4963.923696   728        14.453584      129.557939    9.670000e-16   \n4      3247.569942  1235         6.862745      151.675150    1.326524e-02   \n\n   condition_number                               file_name  \n0      1.320000e+22      Abiotrophia_defectiva_ATCC_49176-S  \n1      4.360000e+16  Acidaminococcus_fermentans_DSM_20731-S  \n2      4.830000e+16    Acidaminococcus_intestini_RyC_MR95-S  \n3      1.340000e+17                Acidaminococcus_sp_D21-S  \n4      1.143403e+04    Acinetobacter_calcoaceticus_PHEA_2-S  ",
      "text/html": "<div>\n<style scoped>\n    .dataframe tbody tr th:only-of-type {\n        vertical-align: middle;\n    }\n\n    .dataframe tbody tr th {\n        vertical-align: top;\n    }\n\n    .dataframe thead th {\n        text-align: right;\n    }\n</style>\n<table border=\"1\" class=\"dataframe\">\n  <thead>\n    <tr style=\"text-align: right;\">\n      <th></th>\n      <th>reconstruction</th>\n      <th>createdDate</th>\n      <th>updatedDate</th>\n      <th>n_mets</th>\n      <th>n_rxns</th>\n      <th>n_elements</th>\n      <th>n_nonzero</th>\n      <th>sparsity</th>\n      <th>comp_sparsity</th>\n      <th>max_value</th>\n      <th>min_value</th>\n      <th>av_column_dens</th>\n      <th>rel_column_dens</th>\n      <th>rank</th>\n      <th>rank_deficiency</th>\n      <th>max_sing_value</th>\n      <th>min_sing_value</th>\n      <th>condition_number</th>\n      <th>file_name</th>\n    </tr>\n  </thead>\n  <tbody>\n    <tr>\n      <th>0</th>\n      <td>Abiotrophia_defectiva_ATCC_49176</td>\n      <td>2018-05-31T16:00:07.944034Z</td>\n      <td>2018-06-28T13:28:59.803412Z</td>\n      <td>952</td>\n      <td>1069</td>\n      <td>1017688</td>\n      <td>4670</td>\n      <td>99.541117</td>\n      <td>0.458883</td>\n      <td>400.0000</td>\n      <td>0.001806</td>\n      <td>4.368569</td>\n      <td>4588.832727</td>\n      <td>880</td>\n      <td>7.563025</td>\n      <td>564.981416</td>\n      <td>4.270000e-20</td>\n      <td>1.320000e+22</td>\n      <td>Abiotrophia_defectiva_ATCC_49176-S</td>\n    </tr>\n    <tr>\n      <th>1</th>\n      <td>Acidaminococcus_fermentans_DSM_20731</td>\n      <td>2018-05-31T16:00:07.944034Z</td>\n      <td>2018-06-28T13:29:00.529554Z</td>\n      <td>1009</td>\n      <td>1089</td>\n      <td>1098801</td>\n      <td>4664</td>\n      <td>99.575537</td>\n      <td>0.424463</td>\n      <td>45.0000</td>\n      <td>0.003096</td>\n      <td>4.282828</td>\n      <td>4244.626643</td>\n      <td>912</td>\n      <td>9.613479</td>\n      <td>145.335214</td>\n      <td>3.330000e-15</td>\n      <td>4.360000e+16</td>\n      <td>Acidaminococcus_fermentans_DSM_20731-S</td>\n    </tr>\n    <tr>\n      <th>2</th>\n      <td>Acidaminococcus_intestini_RyC_MR95</td>\n      <td>2018-05-31T16:00:07.944034Z</td>\n      <td>2018-06-28T13:29:00.786197Z</td>\n      <td>917</td>\n      <td>994</td>\n      <td>911498</td>\n      <td>4249</td>\n      <td>99.533844</td>\n      <td>0.466156</td>\n      <td>40.1102</td>\n      <td>0.003096</td>\n      <td>4.274648</td>\n      <td>4661.557129</td>\n      <td>855</td>\n      <td>6.761178</td>\n      <td>129.799619</td>\n      <td>2.690000e-15</td>\n      <td>4.830000e+16</td>\n      <td>Acidaminococcus_intestini_RyC_MR95-S</td>\n    </tr>\n    <tr>\n      <th>3</th>\n      <td>Acidaminococcus_sp_D21</td>\n      <td>2018-05-31T16:00:07.944034Z</td>\n      <td>2018-06-28T13:29:00.995554Z</td>\n      <td>856</td>\n      <td>851</td>\n      <td>728456</td>\n      <td>3616</td>\n      <td>99.503608</td>\n      <td>0.496392</td>\n      <td>40.1701</td>\n      <td>0.007809</td>\n      <td>4.249119</td>\n      <td>4963.923696</td>\n      <td>728</td>\n      <td>14.453584</td>\n      <td>129.557939</td>\n      <td>9.670000e-16</td>\n      <td>1.340000e+17</td>\n      <td>Acidaminococcus_sp_D21-S</td>\n    </tr>\n    <tr>\n      <th>4</th>\n      <td>Acinetobacter_calcoaceticus_PHEA_2</td>\n      <td>2018-05-31T16:00:07.944034Z</td>\n      <td>2018-06-28T13:29:01.377799Z</td>\n      <td>1326</td>\n      <td>1577</td>\n      <td>1577</td>\n      <td>6791</td>\n      <td>99.675243</td>\n      <td>0.324757</td>\n      <td>45.0000</td>\n      <td>0.003096</td>\n      <td>4.306278</td>\n      <td>3247.569942</td>\n      <td>1235</td>\n      <td>6.862745</td>\n      <td>151.675150</td>\n      <td>1.326524e-02</td>\n      <td>1.143403e+04</td>\n      <td>Acinetobacter_calcoaceticus_PHEA_2-S</td>\n    </tr>\n  </tbody>\n</table>\n</div>"
     },
     "execution_count": 21,
     "metadata": {},
     "output_type": "execute_result"
    }
   ],
   "source": [
    "from src.features.vmh import get_raw_statistics_of_reconstructions as get_data\n",
    "\n",
    "table = pd.DataFrame(get_data())\n",
    "table.head()"
   ],
   "metadata": {
    "collapsed": false,
    "ExecuteTime": {
     "end_time": "2023-10-25T09:18:43.669279Z",
     "start_time": "2023-10-25T09:18:43.578325Z"
    }
   },
   "id": "498f35a912dba01c"
  },
  {
   "cell_type": "markdown",
   "source": [
    "# List of Diseases"
   ],
   "metadata": {
    "collapsed": false
   },
   "id": "e148dabb4d39bc7"
  },
  {
   "cell_type": "code",
   "execution_count": 22,
   "outputs": [
    {
     "data": {
      "text/plain": "                   createdDate                  updatedDate abbreviation  \\\n0  2018-05-31T15:53:21.702280Z  2018-09-24T15:08:08.256544Z          BS1   \n1  2018-05-31T15:53:21.702280Z  2018-09-24T15:08:08.379909Z         3MGA   \n2  2018-05-31T15:53:21.702280Z  2018-09-24T15:08:08.625385Z        FLIPO   \n3  2018-05-31T15:53:21.702280Z  2018-09-24T15:08:09.902427Z         ACAD   \n4  2018-05-31T15:53:21.702280Z  2018-09-24T15:08:10.069961Z         PALD   \n\n                                  name                         dtype  \\\n0             Bartter Syndrome, Type 1  Inherited metabolic disorder   \n1   3-Methylglutaconic Aciduria Type I  Inherited metabolic disorder   \n2            Farber Lipogranulomatosis  Inherited metabolic disorder   \n3    Acetyl-Coa Carboxylase Deficiency  Inherited metabolic disorder   \n4  Pseudoneonatal Adrenoleukodystrophy  Inherited metabolic disorder   \n\n                                   subtype          inheritance    omim  \\\n0  Sodium-potassium-chloride cotransporter  Autosomal recessive  601678   \n1                   Organic acid disorders  Autosomal recessive  250950   \n2                       Lysosomal disorder  Autosomal recessive  228000   \n3                           Lipid disorder                 None  200350   \n4            Beta oxidation of fatty acids  Autosomal recessive  264470   \n\n      gtr     mgi  ... clingendosage   igsr1000genoms gwascataloge  \\\n0  601678  601678  ...       SLC12A1  ENSG00000074803      SLC12A1   \n1  250950  250950  ...           AUH  ENSG00000148090          AUH   \n2  228000  228000  ...         ASAH1  ENSG00000104763        ASAH1   \n3  200350          ...         ACACA  ENSG00000275176        ACACA   \n4  264470  264470  ...         ACOX1  ENSG00000161533        ACOX1   \n\n  gwascentral  geno2mp clinvar     lovd                              malacard  \\\n0     SLC12A1  SLC12A1  600839  SLC12A1     bartter_syndrome_type_1_antenatal   \n1         AUH      AUH  600529      AUH  3_methylglutaconic_aciduria_type_i_2   \n2       ASAH1    ASAH1  613468    ASAH1             farber_lipogranulomatosis   \n3       ACACA    ACACA  200350    ACACA     acetyl_coa_carboxylase_deficiency   \n4       ACOX1    ACOX1  609751    ACOX1                                  None   \n\n  omim_symptons                                              notes  \n0        601678  Amniotic fluid contains high chloride, moderat...  \n1        250950  In urine-elevated 3-hydroxyisovaleric acid, 3-...  \n2        228000  Acid ceramidase activity decreases in fibroblast.  \n3          None  Hypotonic myopathy and neurologic damage, excr...  \n4        264470  Increased very long chain fatty acids and decr...  \n\n[5 rows x 33 columns]",
      "text/html": "<div>\n<style scoped>\n    .dataframe tbody tr th:only-of-type {\n        vertical-align: middle;\n    }\n\n    .dataframe tbody tr th {\n        vertical-align: top;\n    }\n\n    .dataframe thead th {\n        text-align: right;\n    }\n</style>\n<table border=\"1\" class=\"dataframe\">\n  <thead>\n    <tr style=\"text-align: right;\">\n      <th></th>\n      <th>createdDate</th>\n      <th>updatedDate</th>\n      <th>abbreviation</th>\n      <th>name</th>\n      <th>dtype</th>\n      <th>subtype</th>\n      <th>inheritance</th>\n      <th>omim</th>\n      <th>gtr</th>\n      <th>mgi</th>\n      <th>...</th>\n      <th>clingendosage</th>\n      <th>igsr1000genoms</th>\n      <th>gwascataloge</th>\n      <th>gwascentral</th>\n      <th>geno2mp</th>\n      <th>clinvar</th>\n      <th>lovd</th>\n      <th>malacard</th>\n      <th>omim_symptons</th>\n      <th>notes</th>\n    </tr>\n  </thead>\n  <tbody>\n    <tr>\n      <th>0</th>\n      <td>2018-05-31T15:53:21.702280Z</td>\n      <td>2018-09-24T15:08:08.256544Z</td>\n      <td>BS1</td>\n      <td>Bartter Syndrome, Type 1</td>\n      <td>Inherited metabolic disorder</td>\n      <td>Sodium-potassium-chloride cotransporter</td>\n      <td>Autosomal recessive</td>\n      <td>601678</td>\n      <td>601678</td>\n      <td>601678</td>\n      <td>...</td>\n      <td>SLC12A1</td>\n      <td>ENSG00000074803</td>\n      <td>SLC12A1</td>\n      <td>SLC12A1</td>\n      <td>SLC12A1</td>\n      <td>600839</td>\n      <td>SLC12A1</td>\n      <td>bartter_syndrome_type_1_antenatal</td>\n      <td>601678</td>\n      <td>Amniotic fluid contains high chloride, moderat...</td>\n    </tr>\n    <tr>\n      <th>1</th>\n      <td>2018-05-31T15:53:21.702280Z</td>\n      <td>2018-09-24T15:08:08.379909Z</td>\n      <td>3MGA</td>\n      <td>3-Methylglutaconic Aciduria Type I</td>\n      <td>Inherited metabolic disorder</td>\n      <td>Organic acid disorders</td>\n      <td>Autosomal recessive</td>\n      <td>250950</td>\n      <td>250950</td>\n      <td>250950</td>\n      <td>...</td>\n      <td>AUH</td>\n      <td>ENSG00000148090</td>\n      <td>AUH</td>\n      <td>AUH</td>\n      <td>AUH</td>\n      <td>600529</td>\n      <td>AUH</td>\n      <td>3_methylglutaconic_aciduria_type_i_2</td>\n      <td>250950</td>\n      <td>In urine-elevated 3-hydroxyisovaleric acid, 3-...</td>\n    </tr>\n    <tr>\n      <th>2</th>\n      <td>2018-05-31T15:53:21.702280Z</td>\n      <td>2018-09-24T15:08:08.625385Z</td>\n      <td>FLIPO</td>\n      <td>Farber Lipogranulomatosis</td>\n      <td>Inherited metabolic disorder</td>\n      <td>Lysosomal disorder</td>\n      <td>Autosomal recessive</td>\n      <td>228000</td>\n      <td>228000</td>\n      <td>228000</td>\n      <td>...</td>\n      <td>ASAH1</td>\n      <td>ENSG00000104763</td>\n      <td>ASAH1</td>\n      <td>ASAH1</td>\n      <td>ASAH1</td>\n      <td>613468</td>\n      <td>ASAH1</td>\n      <td>farber_lipogranulomatosis</td>\n      <td>228000</td>\n      <td>Acid ceramidase activity decreases in fibroblast.</td>\n    </tr>\n    <tr>\n      <th>3</th>\n      <td>2018-05-31T15:53:21.702280Z</td>\n      <td>2018-09-24T15:08:09.902427Z</td>\n      <td>ACAD</td>\n      <td>Acetyl-Coa Carboxylase Deficiency</td>\n      <td>Inherited metabolic disorder</td>\n      <td>Lipid disorder</td>\n      <td>None</td>\n      <td>200350</td>\n      <td>200350</td>\n      <td></td>\n      <td>...</td>\n      <td>ACACA</td>\n      <td>ENSG00000275176</td>\n      <td>ACACA</td>\n      <td>ACACA</td>\n      <td>ACACA</td>\n      <td>200350</td>\n      <td>ACACA</td>\n      <td>acetyl_coa_carboxylase_deficiency</td>\n      <td>None</td>\n      <td>Hypotonic myopathy and neurologic damage, excr...</td>\n    </tr>\n    <tr>\n      <th>4</th>\n      <td>2018-05-31T15:53:21.702280Z</td>\n      <td>2018-09-24T15:08:10.069961Z</td>\n      <td>PALD</td>\n      <td>Pseudoneonatal Adrenoleukodystrophy</td>\n      <td>Inherited metabolic disorder</td>\n      <td>Beta oxidation of fatty acids</td>\n      <td>Autosomal recessive</td>\n      <td>264470</td>\n      <td>264470</td>\n      <td>264470</td>\n      <td>...</td>\n      <td>ACOX1</td>\n      <td>ENSG00000161533</td>\n      <td>ACOX1</td>\n      <td>ACOX1</td>\n      <td>ACOX1</td>\n      <td>609751</td>\n      <td>ACOX1</td>\n      <td>None</td>\n      <td>264470</td>\n      <td>Increased very long chain fatty acids and decr...</td>\n    </tr>\n  </tbody>\n</table>\n<p>5 rows × 33 columns</p>\n</div>"
     },
     "execution_count": 22,
     "metadata": {},
     "output_type": "execute_result"
    }
   ],
   "source": [
    "from src.features.vmh import get_raw_diseases\n",
    "\n",
    "table = pd.DataFrame(get_raw_diseases())\n",
    "table.head()"
   ],
   "metadata": {
    "collapsed": false,
    "ExecuteTime": {
     "end_time": "2023-10-25T09:18:43.670429Z",
     "start_time": "2023-10-25T09:18:43.594864Z"
    }
   },
   "id": "92c15c9799e5a84b"
  },
  {
   "cell_type": "markdown",
   "source": [
    "# Biomarkers to Diseases"
   ],
   "metadata": {
    "collapsed": false
   },
   "id": "dc59ce6711866c68"
  },
  {
   "cell_type": "code",
   "execution_count": 23,
   "outputs": [
    {
     "data": {
      "text/plain": "                                          metabolite  \\\n0  {'met_id': 345, 'abbreviation': 'gly', 'create...   \n1  {'met_id': 928, 'abbreviation': 'pro_L', 'crea...   \n2  {'met_id': 984, 'abbreviation': 'val_L', 'crea...   \n3  {'met_id': 370, 'abbreviation': 'thr_L', 'crea...   \n4  {'met_id': 523, 'abbreviation': 'met_L', 'crea...   \n\n                                                 iem  name      value  \\\n0  {'createdDate': '2018-05-31T15:53:21.702280Z',...  None  Increased   \n1  {'createdDate': '2018-05-31T15:53:21.702280Z',...  None  Increased   \n2  {'createdDate': '2018-05-31T15:53:21.702280Z',...  None  Increased   \n3  {'createdDate': '2018-05-31T15:53:21.702280Z',...  None  Increased   \n4  {'createdDate': '2018-05-31T15:53:21.702280Z',...  None  Increased   \n\n  normalConcentration rangeConcentration                       reference  \\\n0       180.00-740.00     550.00-1350.00  PMID: 21325949, PMID: 24190799   \n1      95.00 - 320.00           830-1360  PMID: 21325949, PMID: 24190799   \n2           65.00-215    210.00 - 650.00  PMID: 21325949, PMID: 24190799   \n3            25 - 150                     PMID: 21325949, PMID: 24190799   \n4         10.00-38.00      56.00 -170.00  PMID: 21325949, PMID: 24190799   \n\n         ramedis  \n0                 \n1                 \n2  125, 133, 337  \n3                 \n4                 ",
      "text/html": "<div>\n<style scoped>\n    .dataframe tbody tr th:only-of-type {\n        vertical-align: middle;\n    }\n\n    .dataframe tbody tr th {\n        vertical-align: top;\n    }\n\n    .dataframe thead th {\n        text-align: right;\n    }\n</style>\n<table border=\"1\" class=\"dataframe\">\n  <thead>\n    <tr style=\"text-align: right;\">\n      <th></th>\n      <th>metabolite</th>\n      <th>iem</th>\n      <th>name</th>\n      <th>value</th>\n      <th>normalConcentration</th>\n      <th>rangeConcentration</th>\n      <th>reference</th>\n      <th>ramedis</th>\n    </tr>\n  </thead>\n  <tbody>\n    <tr>\n      <th>0</th>\n      <td>{'met_id': 345, 'abbreviation': 'gly', 'create...</td>\n      <td>{'createdDate': '2018-05-31T15:53:21.702280Z',...</td>\n      <td>None</td>\n      <td>Increased</td>\n      <td>180.00-740.00</td>\n      <td>550.00-1350.00</td>\n      <td>PMID: 21325949, PMID: 24190799</td>\n      <td></td>\n    </tr>\n    <tr>\n      <th>1</th>\n      <td>{'met_id': 928, 'abbreviation': 'pro_L', 'crea...</td>\n      <td>{'createdDate': '2018-05-31T15:53:21.702280Z',...</td>\n      <td>None</td>\n      <td>Increased</td>\n      <td>95.00 - 320.00</td>\n      <td>830-1360</td>\n      <td>PMID: 21325949, PMID: 24190799</td>\n      <td></td>\n    </tr>\n    <tr>\n      <th>2</th>\n      <td>{'met_id': 984, 'abbreviation': 'val_L', 'crea...</td>\n      <td>{'createdDate': '2018-05-31T15:53:21.702280Z',...</td>\n      <td>None</td>\n      <td>Increased</td>\n      <td>65.00-215</td>\n      <td>210.00 - 650.00</td>\n      <td>PMID: 21325949, PMID: 24190799</td>\n      <td>125, 133, 337</td>\n    </tr>\n    <tr>\n      <th>3</th>\n      <td>{'met_id': 370, 'abbreviation': 'thr_L', 'crea...</td>\n      <td>{'createdDate': '2018-05-31T15:53:21.702280Z',...</td>\n      <td>None</td>\n      <td>Increased</td>\n      <td>25 - 150</td>\n      <td></td>\n      <td>PMID: 21325949, PMID: 24190799</td>\n      <td></td>\n    </tr>\n    <tr>\n      <th>4</th>\n      <td>{'met_id': 523, 'abbreviation': 'met_L', 'crea...</td>\n      <td>{'createdDate': '2018-05-31T15:53:21.702280Z',...</td>\n      <td>None</td>\n      <td>Increased</td>\n      <td>10.00-38.00</td>\n      <td>56.00 -170.00</td>\n      <td>PMID: 21325949, PMID: 24190799</td>\n      <td></td>\n    </tr>\n  </tbody>\n</table>\n</div>"
     },
     "execution_count": 23,
     "metadata": {},
     "output_type": "execute_result"
    }
   ],
   "source": [
    "from src.features.vmh import get_raw_biomarkers\n",
    "\n",
    "table = pd.DataFrame(get_raw_biomarkers())\n",
    "table.head()"
   ],
   "metadata": {
    "collapsed": false,
    "ExecuteTime": {
     "end_time": "2023-10-25T09:18:43.768487Z",
     "start_time": "2023-10-25T09:18:43.607414Z"
    }
   },
   "id": "69fab5e721c980d1"
  },
  {
   "cell_type": "code",
   "execution_count": 24,
   "outputs": [
    {
     "data": {
      "text/plain": "                   createdDate                  updatedDate abbreviation  \\\n0  2018-05-31T15:53:21.702280Z  2018-09-24T15:08:53.357771Z          NKH   \n1  2018-05-31T15:53:21.702280Z  2018-09-24T15:08:41.796815Z         GACR   \n2  2018-05-31T15:53:21.702280Z  2018-09-24T15:08:54.985988Z         MSUD   \n3  2018-05-31T15:53:21.702280Z  2018-09-24T15:08:40.857196Z        NICCD   \n4  2018-05-31T15:53:21.702280Z  2018-09-24T15:08:54.536390Z         HMET   \n\n                                                name  \\\n0  Glycine Encephalopathy/ Nonketotic Hyperglycin...   \n1           Gyrate Atrophy of the Choroid And Retina   \n2                          Maple Syrup Urine Disease   \n3  Neonatal Intrahepatic Cholestasis caused by Ci...   \n4                                 Hypermethioninemia   \n\n                          dtype               subtype  \\\n0  Inherited metabolic disorder  Amino acid disorders   \n1  Inherited metabolic disorder  Amino acid disorders   \n2  Inherited metabolic disorder  Amino acid disorders   \n3  Inherited metabolic disorder    Transporter defect   \n4  Inherited metabolic disorder  Amino acid disorders   \n\n                                  inheritance    omim     gtr     mgi  ...  \\\n0                         Autosomal recessive  605899  605899  605899  ...   \n1                         Autosomal recessive  258870  258870  258870  ...   \n2                         Autosomal recessive  248600  248600  248600  ...   \n3                         Autosomal recessive            None    None  ...   \n4  Autosomal recessive and autosomal dominant  613752    None    None  ...   \n\n  clingendosage   igsr1000genoms gwascataloge gwascentral   geno2mp clinvar  \\\n0           AMT  ENSG00000145020          AMT         AMT       AMT  238310   \n1           OAT  ENSG00000065154          OAT         OAT       OAT  613349   \n2           DLD  ENSG00000091140          DLD         DLD       DLD  238331   \n3      SLC25A13  ENSG00000004864     SLC25A13    SLC25A13  SLC25A13  603859   \n4          AHCY  ENSG00000101444         AHCY        AHCY      AHCY  180960   \n\n       lovd                              malacard omim_symptons  \\\n0       AMT                glycine_encephalopathy        605899   \n1       OAT  gyrate_atrophy_of_choroid_and_retina        258870   \n2       DLD             maple_syrup_urine_disease        248600   \n3  SLC25A13  citrullinemia_type_ii_neonatal_onset          None   \n4      AHCY                    hypermethioninemia        613752   \n\n                                               notes  \n0  About 80 percent of cases of glycine encephalo...  \n1  Decreased activity of ornithine-delta-aminotra...  \n2  In plasma increased levels of allo-isoleucine,...  \n3  Blood-elevated acetylcarnitine (C2), palmitoyl...  \n4  A deficiency of any of these enzymes (i.e. MAT...  \n\n[5 rows x 33 columns]",
      "text/html": "<div>\n<style scoped>\n    .dataframe tbody tr th:only-of-type {\n        vertical-align: middle;\n    }\n\n    .dataframe tbody tr th {\n        vertical-align: top;\n    }\n\n    .dataframe thead th {\n        text-align: right;\n    }\n</style>\n<table border=\"1\" class=\"dataframe\">\n  <thead>\n    <tr style=\"text-align: right;\">\n      <th></th>\n      <th>createdDate</th>\n      <th>updatedDate</th>\n      <th>abbreviation</th>\n      <th>name</th>\n      <th>dtype</th>\n      <th>subtype</th>\n      <th>inheritance</th>\n      <th>omim</th>\n      <th>gtr</th>\n      <th>mgi</th>\n      <th>...</th>\n      <th>clingendosage</th>\n      <th>igsr1000genoms</th>\n      <th>gwascataloge</th>\n      <th>gwascentral</th>\n      <th>geno2mp</th>\n      <th>clinvar</th>\n      <th>lovd</th>\n      <th>malacard</th>\n      <th>omim_symptons</th>\n      <th>notes</th>\n    </tr>\n  </thead>\n  <tbody>\n    <tr>\n      <th>0</th>\n      <td>2018-05-31T15:53:21.702280Z</td>\n      <td>2018-09-24T15:08:53.357771Z</td>\n      <td>NKH</td>\n      <td>Glycine Encephalopathy/ Nonketotic Hyperglycin...</td>\n      <td>Inherited metabolic disorder</td>\n      <td>Amino acid disorders</td>\n      <td>Autosomal recessive</td>\n      <td>605899</td>\n      <td>605899</td>\n      <td>605899</td>\n      <td>...</td>\n      <td>AMT</td>\n      <td>ENSG00000145020</td>\n      <td>AMT</td>\n      <td>AMT</td>\n      <td>AMT</td>\n      <td>238310</td>\n      <td>AMT</td>\n      <td>glycine_encephalopathy</td>\n      <td>605899</td>\n      <td>About 80 percent of cases of glycine encephalo...</td>\n    </tr>\n    <tr>\n      <th>1</th>\n      <td>2018-05-31T15:53:21.702280Z</td>\n      <td>2018-09-24T15:08:41.796815Z</td>\n      <td>GACR</td>\n      <td>Gyrate Atrophy of the Choroid And Retina</td>\n      <td>Inherited metabolic disorder</td>\n      <td>Amino acid disorders</td>\n      <td>Autosomal recessive</td>\n      <td>258870</td>\n      <td>258870</td>\n      <td>258870</td>\n      <td>...</td>\n      <td>OAT</td>\n      <td>ENSG00000065154</td>\n      <td>OAT</td>\n      <td>OAT</td>\n      <td>OAT</td>\n      <td>613349</td>\n      <td>OAT</td>\n      <td>gyrate_atrophy_of_choroid_and_retina</td>\n      <td>258870</td>\n      <td>Decreased activity of ornithine-delta-aminotra...</td>\n    </tr>\n    <tr>\n      <th>2</th>\n      <td>2018-05-31T15:53:21.702280Z</td>\n      <td>2018-09-24T15:08:54.985988Z</td>\n      <td>MSUD</td>\n      <td>Maple Syrup Urine Disease</td>\n      <td>Inherited metabolic disorder</td>\n      <td>Amino acid disorders</td>\n      <td>Autosomal recessive</td>\n      <td>248600</td>\n      <td>248600</td>\n      <td>248600</td>\n      <td>...</td>\n      <td>DLD</td>\n      <td>ENSG00000091140</td>\n      <td>DLD</td>\n      <td>DLD</td>\n      <td>DLD</td>\n      <td>238331</td>\n      <td>DLD</td>\n      <td>maple_syrup_urine_disease</td>\n      <td>248600</td>\n      <td>In plasma increased levels of allo-isoleucine,...</td>\n    </tr>\n    <tr>\n      <th>3</th>\n      <td>2018-05-31T15:53:21.702280Z</td>\n      <td>2018-09-24T15:08:40.857196Z</td>\n      <td>NICCD</td>\n      <td>Neonatal Intrahepatic Cholestasis caused by Ci...</td>\n      <td>Inherited metabolic disorder</td>\n      <td>Transporter defect</td>\n      <td>Autosomal recessive</td>\n      <td></td>\n      <td>None</td>\n      <td>None</td>\n      <td>...</td>\n      <td>SLC25A13</td>\n      <td>ENSG00000004864</td>\n      <td>SLC25A13</td>\n      <td>SLC25A13</td>\n      <td>SLC25A13</td>\n      <td>603859</td>\n      <td>SLC25A13</td>\n      <td>citrullinemia_type_ii_neonatal_onset</td>\n      <td>None</td>\n      <td>Blood-elevated acetylcarnitine (C2), palmitoyl...</td>\n    </tr>\n    <tr>\n      <th>4</th>\n      <td>2018-05-31T15:53:21.702280Z</td>\n      <td>2018-09-24T15:08:54.536390Z</td>\n      <td>HMET</td>\n      <td>Hypermethioninemia</td>\n      <td>Inherited metabolic disorder</td>\n      <td>Amino acid disorders</td>\n      <td>Autosomal recessive and autosomal dominant</td>\n      <td>613752</td>\n      <td>None</td>\n      <td>None</td>\n      <td>...</td>\n      <td>AHCY</td>\n      <td>ENSG00000101444</td>\n      <td>AHCY</td>\n      <td>AHCY</td>\n      <td>AHCY</td>\n      <td>180960</td>\n      <td>AHCY</td>\n      <td>hypermethioninemia</td>\n      <td>613752</td>\n      <td>A deficiency of any of these enzymes (i.e. MAT...</td>\n    </tr>\n  </tbody>\n</table>\n<p>5 rows × 33 columns</p>\n</div>"
     },
     "execution_count": 24,
     "metadata": {},
     "output_type": "execute_result"
    }
   ],
   "source": [
    "pd.DataFrame([marker['iem'] for marker in get_raw_biomarkers()]).head()"
   ],
   "metadata": {
    "collapsed": false,
    "ExecuteTime": {
     "end_time": "2023-10-25T09:18:43.904589Z",
     "start_time": "2023-10-25T09:18:43.620923Z"
    }
   },
   "id": "ca03fedd698eaa60"
  },
  {
   "cell_type": "markdown",
   "source": [
    "# List of Biofluid Evidence"
   ],
   "metadata": {
    "collapsed": false
   },
   "id": "3a842c81738f567e"
  },
  {
   "cell_type": "markdown",
   "source": [
    "biofluid evidence for metabolites. Biomarkers connect diseases and metabolites. This endpoint provides information on the biofluid, condition, value of concentration, and the origin of the data provided"
   ],
   "metadata": {
    "collapsed": false
   },
   "id": "1d4e953ca4ea4521"
  },
  {
   "cell_type": "code",
   "execution_count": 25,
   "outputs": [
    {
     "data": {
      "text/plain": "            met                  createdDate                  updatedDate  \\\n0  pcholn204_hs  2018-05-31T15:48:20.577774Z  2018-05-31T15:48:33.756317Z   \n1   pcholn24_hs  2018-05-31T15:48:20.577774Z  2018-05-31T15:48:33.756317Z   \n2   pcholhep_hs  2018-05-31T15:48:20.577774Z  2018-05-31T15:48:33.756317Z   \n3   pcholole_hs  2018-05-31T15:48:20.577774Z  2018-05-31T15:48:33.756317Z   \n4   pcholmyr_hs  2018-05-31T15:48:20.577774Z  2018-05-31T15:48:33.756317Z   \n\n  biofluid condition unit                       origin               value  \n0    Blood    Normal   uM  'manually added, 28.10.2015  11.229999542236328  \n1    Blood    Normal   uM  'manually added, 28.10.2015  0.7699999809265137  \n2    Blood    Normal   uM  'manually added, 28.10.2015   4.710000038146973  \n3    Blood    Normal   uM  'manually added, 28.10.2015   52.93000030517578  \n4    Blood    Normal   uM  'manually added, 28.10.2015   52.29999923706055  ",
      "text/html": "<div>\n<style scoped>\n    .dataframe tbody tr th:only-of-type {\n        vertical-align: middle;\n    }\n\n    .dataframe tbody tr th {\n        vertical-align: top;\n    }\n\n    .dataframe thead th {\n        text-align: right;\n    }\n</style>\n<table border=\"1\" class=\"dataframe\">\n  <thead>\n    <tr style=\"text-align: right;\">\n      <th></th>\n      <th>met</th>\n      <th>createdDate</th>\n      <th>updatedDate</th>\n      <th>biofluid</th>\n      <th>condition</th>\n      <th>unit</th>\n      <th>origin</th>\n      <th>value</th>\n    </tr>\n  </thead>\n  <tbody>\n    <tr>\n      <th>0</th>\n      <td>pcholn204_hs</td>\n      <td>2018-05-31T15:48:20.577774Z</td>\n      <td>2018-05-31T15:48:33.756317Z</td>\n      <td>Blood</td>\n      <td>Normal</td>\n      <td>uM</td>\n      <td>'manually added, 28.10.2015</td>\n      <td>11.229999542236328</td>\n    </tr>\n    <tr>\n      <th>1</th>\n      <td>pcholn24_hs</td>\n      <td>2018-05-31T15:48:20.577774Z</td>\n      <td>2018-05-31T15:48:33.756317Z</td>\n      <td>Blood</td>\n      <td>Normal</td>\n      <td>uM</td>\n      <td>'manually added, 28.10.2015</td>\n      <td>0.7699999809265137</td>\n    </tr>\n    <tr>\n      <th>2</th>\n      <td>pcholhep_hs</td>\n      <td>2018-05-31T15:48:20.577774Z</td>\n      <td>2018-05-31T15:48:33.756317Z</td>\n      <td>Blood</td>\n      <td>Normal</td>\n      <td>uM</td>\n      <td>'manually added, 28.10.2015</td>\n      <td>4.710000038146973</td>\n    </tr>\n    <tr>\n      <th>3</th>\n      <td>pcholole_hs</td>\n      <td>2018-05-31T15:48:20.577774Z</td>\n      <td>2018-05-31T15:48:33.756317Z</td>\n      <td>Blood</td>\n      <td>Normal</td>\n      <td>uM</td>\n      <td>'manually added, 28.10.2015</td>\n      <td>52.93000030517578</td>\n    </tr>\n    <tr>\n      <th>4</th>\n      <td>pcholmyr_hs</td>\n      <td>2018-05-31T15:48:20.577774Z</td>\n      <td>2018-05-31T15:48:33.756317Z</td>\n      <td>Blood</td>\n      <td>Normal</td>\n      <td>uM</td>\n      <td>'manually added, 28.10.2015</td>\n      <td>52.29999923706055</td>\n    </tr>\n  </tbody>\n</table>\n</div>"
     },
     "execution_count": 25,
     "metadata": {},
     "output_type": "execute_result"
    }
   ],
   "source": [
    "from src.features.vmh import get_raw_evidence\n",
    "\n",
    "table = pd.DataFrame(get_raw_evidence())\n",
    "table.head()"
   ],
   "metadata": {
    "collapsed": false,
    "ExecuteTime": {
     "end_time": "2023-10-25T09:18:43.961901Z",
     "start_time": "2023-10-25T09:18:43.634644Z"
    }
   },
   "id": "833843d6465af09f"
  },
  {
   "cell_type": "markdown",
   "source": [
    "# Microbe List"
   ],
   "metadata": {
    "collapsed": false
   },
   "id": "9ffd14a78b4e1bb6"
  },
  {
   "cell_type": "markdown",
   "source": [
    "endpoint to view available microbes in the database. This endpoint is associated with a reconstruction, but provides additional information on the organism, with emphasis on phylogenetic information, allowing users to customise queries to the microbiom resource."
   ],
   "metadata": {
    "collapsed": false
   },
   "id": "f2b6a3daa67a6b82"
  },
  {
   "cell_type": "code",
   "execution_count": 26,
   "outputs": [
    {
     "data": {
      "text/plain": "                          reconstruction                  createdDate  \\\n0       Abiotrophia_defectiva_ATCC_49176  2018-05-31T15:54:50.086322Z   \n1          Achromobacter_xylosoxidans_A8  2018-05-31T15:54:50.086322Z   \n2  Achromobacter_xylosoxidans_NBRC_15126  2018-05-31T15:54:50.086322Z   \n3   Acidaminococcus_fermentans_DSM_20731  2018-05-31T15:54:50.086322Z   \n4     Acidaminococcus_intestini_RyC_MR95  2018-05-31T15:54:50.086322Z   \n\n                   updatedDate  \\\n0  2019-02-08T16:14:50.953084Z   \n1  2019-02-08T16:14:51.176225Z   \n2  2019-02-08T16:14:51.635907Z   \n3  2019-02-08T16:14:51.897149Z   \n4  2019-02-08T16:14:52.231577Z   \n\n                                            organism  \\\n0                   Abiotrophia defectiva ATCC 49176   \n1                      Achromobacter xylosoxidans A8   \n2  Achromobacter xylosoxidans NBRC 15126 = ATCC 2...   \n3               Acidaminococcus fermentans DSM 20731   \n4                 Acidaminococcus intestini RyC-MR95   \n\n                                            seedid   kingdom          phylum  \\\n0      Abiotrophia defectiva ATCC 49176 (592010.4)  Bacteria      Firmicutes   \n1         Achromobacter xylosoxidans A8 (762376.5)  Bacteria  Proteobacteria   \n2                                             None  Bacteria  Proteobacteria   \n3  Acidaminococcus fermentans DSM 20731 (591001.3)  Bacteria      Firmicutes   \n4    Acidaminococcus intestini RyC-MR95 (568816.4)  Bacteria      Firmicutes   \n\n               mclass              order              family  ...     goldId  \\\n0             Bacilli    Lactobacillales       Aerococcaceae  ...  Go0004152   \n1  Betaproteobacteria    Burkholderiales      Alcaligenaceae  ...  Go0007620   \n2  Betaproteobacteria    Burkholderiales      Alcaligenaceae  ...              \n3       Negativicutes  Acidaminococcales  Acidaminococcaceae  ...  Go0001186   \n4       Negativicutes    Selenomonadales  Acidaminococcaceae  ...  Go0004062   \n\n   uniProt                                   ensemblBacteria              ena  \\\n0   592010                  Abiotrophia_defectiva_atcc_49176  GCA_000160075.2   \n1   762376                     Achromobacter_xylosoxidans_a8  GCA_000165835.1   \n2  1216976  Achromobacter_xylosoxidans_nbrc_15126_atcc_27061  GCA_000508285.1   \n3   591001              Acidaminococcus_fermentans_dsm_20731  GCA_000025305.1   \n4   568816                Acidaminococcus_intestini_ryc_mr95  GCA_000230275.1   \n\n             microbeWiki   platform             kbaseid prevRef currRef  \\\n0  Abiotrophia_defectiva  ModelSEED                        None    None   \n1                         ModelSEED  kb_g_3268_model_gf    None    None   \n2                             Kbase         kb|g.208127    None    None   \n3                             Kbase           kb|g.2555    None    None   \n4                             Kbase                        None    None   \n\n  scaffolds  \n0      20.0  \n1       NaN  \n2       NaN  \n3       1.0  \n4       1.0  \n\n[5 rows x 38 columns]",
      "text/html": "<div>\n<style scoped>\n    .dataframe tbody tr th:only-of-type {\n        vertical-align: middle;\n    }\n\n    .dataframe tbody tr th {\n        vertical-align: top;\n    }\n\n    .dataframe thead th {\n        text-align: right;\n    }\n</style>\n<table border=\"1\" class=\"dataframe\">\n  <thead>\n    <tr style=\"text-align: right;\">\n      <th></th>\n      <th>reconstruction</th>\n      <th>createdDate</th>\n      <th>updatedDate</th>\n      <th>organism</th>\n      <th>seedid</th>\n      <th>kingdom</th>\n      <th>phylum</th>\n      <th>mclass</th>\n      <th>order</th>\n      <th>family</th>\n      <th>...</th>\n      <th>goldId</th>\n      <th>uniProt</th>\n      <th>ensemblBacteria</th>\n      <th>ena</th>\n      <th>microbeWiki</th>\n      <th>platform</th>\n      <th>kbaseid</th>\n      <th>prevRef</th>\n      <th>currRef</th>\n      <th>scaffolds</th>\n    </tr>\n  </thead>\n  <tbody>\n    <tr>\n      <th>0</th>\n      <td>Abiotrophia_defectiva_ATCC_49176</td>\n      <td>2018-05-31T15:54:50.086322Z</td>\n      <td>2019-02-08T16:14:50.953084Z</td>\n      <td>Abiotrophia defectiva ATCC 49176</td>\n      <td>Abiotrophia defectiva ATCC 49176 (592010.4)</td>\n      <td>Bacteria</td>\n      <td>Firmicutes</td>\n      <td>Bacilli</td>\n      <td>Lactobacillales</td>\n      <td>Aerococcaceae</td>\n      <td>...</td>\n      <td>Go0004152</td>\n      <td>592010</td>\n      <td>Abiotrophia_defectiva_atcc_49176</td>\n      <td>GCA_000160075.2</td>\n      <td>Abiotrophia_defectiva</td>\n      <td>ModelSEED</td>\n      <td></td>\n      <td>None</td>\n      <td>None</td>\n      <td>20.0</td>\n    </tr>\n    <tr>\n      <th>1</th>\n      <td>Achromobacter_xylosoxidans_A8</td>\n      <td>2018-05-31T15:54:50.086322Z</td>\n      <td>2019-02-08T16:14:51.176225Z</td>\n      <td>Achromobacter xylosoxidans A8</td>\n      <td>Achromobacter xylosoxidans A8 (762376.5)</td>\n      <td>Bacteria</td>\n      <td>Proteobacteria</td>\n      <td>Betaproteobacteria</td>\n      <td>Burkholderiales</td>\n      <td>Alcaligenaceae</td>\n      <td>...</td>\n      <td>Go0007620</td>\n      <td>762376</td>\n      <td>Achromobacter_xylosoxidans_a8</td>\n      <td>GCA_000165835.1</td>\n      <td></td>\n      <td>ModelSEED</td>\n      <td>kb_g_3268_model_gf</td>\n      <td>None</td>\n      <td>None</td>\n      <td>NaN</td>\n    </tr>\n    <tr>\n      <th>2</th>\n      <td>Achromobacter_xylosoxidans_NBRC_15126</td>\n      <td>2018-05-31T15:54:50.086322Z</td>\n      <td>2019-02-08T16:14:51.635907Z</td>\n      <td>Achromobacter xylosoxidans NBRC 15126 = ATCC 2...</td>\n      <td>None</td>\n      <td>Bacteria</td>\n      <td>Proteobacteria</td>\n      <td>Betaproteobacteria</td>\n      <td>Burkholderiales</td>\n      <td>Alcaligenaceae</td>\n      <td>...</td>\n      <td></td>\n      <td>1216976</td>\n      <td>Achromobacter_xylosoxidans_nbrc_15126_atcc_27061</td>\n      <td>GCA_000508285.1</td>\n      <td></td>\n      <td>Kbase</td>\n      <td>kb|g.208127</td>\n      <td>None</td>\n      <td>None</td>\n      <td>NaN</td>\n    </tr>\n    <tr>\n      <th>3</th>\n      <td>Acidaminococcus_fermentans_DSM_20731</td>\n      <td>2018-05-31T15:54:50.086322Z</td>\n      <td>2019-02-08T16:14:51.897149Z</td>\n      <td>Acidaminococcus fermentans DSM 20731</td>\n      <td>Acidaminococcus fermentans DSM 20731 (591001.3)</td>\n      <td>Bacteria</td>\n      <td>Firmicutes</td>\n      <td>Negativicutes</td>\n      <td>Acidaminococcales</td>\n      <td>Acidaminococcaceae</td>\n      <td>...</td>\n      <td>Go0001186</td>\n      <td>591001</td>\n      <td>Acidaminococcus_fermentans_dsm_20731</td>\n      <td>GCA_000025305.1</td>\n      <td></td>\n      <td>Kbase</td>\n      <td>kb|g.2555</td>\n      <td>None</td>\n      <td>None</td>\n      <td>1.0</td>\n    </tr>\n    <tr>\n      <th>4</th>\n      <td>Acidaminococcus_intestini_RyC_MR95</td>\n      <td>2018-05-31T15:54:50.086322Z</td>\n      <td>2019-02-08T16:14:52.231577Z</td>\n      <td>Acidaminococcus intestini RyC-MR95</td>\n      <td>Acidaminococcus intestini RyC-MR95 (568816.4)</td>\n      <td>Bacteria</td>\n      <td>Firmicutes</td>\n      <td>Negativicutes</td>\n      <td>Selenomonadales</td>\n      <td>Acidaminococcaceae</td>\n      <td>...</td>\n      <td>Go0004062</td>\n      <td>568816</td>\n      <td>Acidaminococcus_intestini_ryc_mr95</td>\n      <td>GCA_000230275.1</td>\n      <td></td>\n      <td>Kbase</td>\n      <td></td>\n      <td>None</td>\n      <td>None</td>\n      <td>1.0</td>\n    </tr>\n  </tbody>\n</table>\n<p>5 rows × 38 columns</p>\n</div>"
     },
     "execution_count": 26,
     "metadata": {},
     "output_type": "execute_result"
    }
   ],
   "source": [
    "from src.features.vmh import get_raw_microbes\n",
    "\n",
    "table = pd.DataFrame(get_raw_microbes())\n",
    "table.head()"
   ],
   "metadata": {
    "collapsed": false,
    "ExecuteTime": {
     "end_time": "2023-10-25T09:18:43.998712Z",
     "start_time": "2023-10-25T09:18:43.643656Z"
    }
   },
   "id": "a0c895201681afc4"
  },
  {
   "cell_type": "markdown",
   "source": [
    "# Microbe Location in Body"
   ],
   "metadata": {
    "collapsed": false
   },
   "id": "e50e9b4277604d5c"
  },
  {
   "cell_type": "code",
   "execution_count": 27,
   "outputs": [
    {
     "data": {
      "text/plain": "   id                                            microbe  \\\n0   1  {'reconstruction': 'Helicobacter_pylori_26695'...   \n1   2  {'reconstruction': 'Lactobacillus_acidophilus_...   \n2   3  {'reconstruction': 'Lactobacillus_acidophilus_...   \n3   4  {'reconstruction': 'Lactobacillus_amylolyticus...   \n4   5  {'reconstruction': 'Lactobacillus_antri_DSM_16...   \n\n                   createdDate                  updatedDate bodyLocation  \\\n0  2018-05-31T15:42:11.630250Z  2018-05-31T15:42:16.210702Z      Stomach   \n1  2018-05-31T15:42:11.630250Z  2018-05-31T15:42:16.210702Z      Stomach   \n2  2018-05-31T15:42:11.630250Z  2018-05-31T15:42:16.210702Z      Stomach   \n3  2018-05-31T15:42:11.630250Z  2018-05-31T15:42:16.210702Z      Stomach   \n4  2018-05-31T15:42:11.630250Z  2018-05-31T15:42:16.210702Z      Stomach   \n\n                                    references       comments  \n0  PMID:22355685, PMID:23790154, PMID:23962822  Species level  \n1  PMID:22355685, PMID:23790154, PMID:23962822    Genus level  \n2  PMID:22355685, PMID:23790154, PMID:23962823    Genus level  \n3  PMID:22355685, PMID:23790154, PMID:23962824    Genus level  \n4  PMID:22355685, PMID:23790154, PMID:23962825  Species level  ",
      "text/html": "<div>\n<style scoped>\n    .dataframe tbody tr th:only-of-type {\n        vertical-align: middle;\n    }\n\n    .dataframe tbody tr th {\n        vertical-align: top;\n    }\n\n    .dataframe thead th {\n        text-align: right;\n    }\n</style>\n<table border=\"1\" class=\"dataframe\">\n  <thead>\n    <tr style=\"text-align: right;\">\n      <th></th>\n      <th>id</th>\n      <th>microbe</th>\n      <th>createdDate</th>\n      <th>updatedDate</th>\n      <th>bodyLocation</th>\n      <th>references</th>\n      <th>comments</th>\n    </tr>\n  </thead>\n  <tbody>\n    <tr>\n      <th>0</th>\n      <td>1</td>\n      <td>{'reconstruction': 'Helicobacter_pylori_26695'...</td>\n      <td>2018-05-31T15:42:11.630250Z</td>\n      <td>2018-05-31T15:42:16.210702Z</td>\n      <td>Stomach</td>\n      <td>PMID:22355685, PMID:23790154, PMID:23962822</td>\n      <td>Species level</td>\n    </tr>\n    <tr>\n      <th>1</th>\n      <td>2</td>\n      <td>{'reconstruction': 'Lactobacillus_acidophilus_...</td>\n      <td>2018-05-31T15:42:11.630250Z</td>\n      <td>2018-05-31T15:42:16.210702Z</td>\n      <td>Stomach</td>\n      <td>PMID:22355685, PMID:23790154, PMID:23962822</td>\n      <td>Genus level</td>\n    </tr>\n    <tr>\n      <th>2</th>\n      <td>3</td>\n      <td>{'reconstruction': 'Lactobacillus_acidophilus_...</td>\n      <td>2018-05-31T15:42:11.630250Z</td>\n      <td>2018-05-31T15:42:16.210702Z</td>\n      <td>Stomach</td>\n      <td>PMID:22355685, PMID:23790154, PMID:23962823</td>\n      <td>Genus level</td>\n    </tr>\n    <tr>\n      <th>3</th>\n      <td>4</td>\n      <td>{'reconstruction': 'Lactobacillus_amylolyticus...</td>\n      <td>2018-05-31T15:42:11.630250Z</td>\n      <td>2018-05-31T15:42:16.210702Z</td>\n      <td>Stomach</td>\n      <td>PMID:22355685, PMID:23790154, PMID:23962824</td>\n      <td>Genus level</td>\n    </tr>\n    <tr>\n      <th>4</th>\n      <td>5</td>\n      <td>{'reconstruction': 'Lactobacillus_antri_DSM_16...</td>\n      <td>2018-05-31T15:42:11.630250Z</td>\n      <td>2018-05-31T15:42:16.210702Z</td>\n      <td>Stomach</td>\n      <td>PMID:22355685, PMID:23790154, PMID:23962825</td>\n      <td>Species level</td>\n    </tr>\n  </tbody>\n</table>\n</div>"
     },
     "execution_count": 27,
     "metadata": {},
     "output_type": "execute_result"
    }
   ],
   "source": [
    "from src.features.vmh import get_raw_body_loc_of_microbes as get_data\n",
    "\n",
    "table = pd.DataFrame(get_data())\n",
    "table.head()"
   ],
   "metadata": {
    "collapsed": false,
    "ExecuteTime": {
     "end_time": "2023-10-25T09:18:44.051991Z",
     "start_time": "2023-10-25T09:18:43.661993Z"
    }
   },
   "id": "5944963e17c1ef8e"
  },
  {
   "cell_type": "markdown",
   "source": [
    "# Thermodynamic Information on Metabolites"
   ],
   "metadata": {
    "collapsed": false
   },
   "id": "ffd799b42614c786"
  },
  {
   "cell_type": "markdown",
   "source": [
    "## Delta GS of Metabolites"
   ],
   "metadata": {
    "collapsed": false
   },
   "id": "73c88c7c97e16567"
  },
  {
   "cell_type": "code",
   "execution_count": 28,
   "outputs": [
    {
     "data": {
      "text/plain": "                   createdDate                  updatedDate standardEnergy  \\\n0  2018-05-31T15:54:35.282999Z  2018-05-31T15:54:41.762409Z         -53.33   \n1  2018-05-31T15:54:35.282999Z  2018-05-31T15:54:41.762409Z        -238.68   \n2  2018-05-31T15:54:35.282999Z  2018-05-31T15:54:41.762409Z          16.40   \n3  2018-05-31T15:54:35.282999Z  2018-05-31T15:54:41.762409Z        -153.55   \n4  2018-05-31T15:54:35.282999Z  2018-05-31T15:54:41.762409Z        -134.03   \n\n  uncertainty transformedEnergy minimumTransformed maximumTransformed  \\\n0        5.02            465.57             414.16             463.54   \n1        1.27           -151.69            -154.18            -149.20   \n2        4.73             16.40             -34.44              13.80   \n3        5.02            193.64             142.23             191.61   \n4        4.73            -47.05             -97.88             -49.65   \n\n  maximumConcentration minimumConcentration compartment  met  \n0             1.00e-02             1.00e-07     Cytosol    7  \n1             1.00e+00             1.00e+00     Cytosol    8  \n2             1.00e-02             1.00e-07     Cytosol    9  \n3             1.00e-02             1.00e-07     Cytosol   10  \n4             1.00e-02             1.00e-07     Cytosol   11  ",
      "text/html": "<div>\n<style scoped>\n    .dataframe tbody tr th:only-of-type {\n        vertical-align: middle;\n    }\n\n    .dataframe tbody tr th {\n        vertical-align: top;\n    }\n\n    .dataframe thead th {\n        text-align: right;\n    }\n</style>\n<table border=\"1\" class=\"dataframe\">\n  <thead>\n    <tr style=\"text-align: right;\">\n      <th></th>\n      <th>createdDate</th>\n      <th>updatedDate</th>\n      <th>standardEnergy</th>\n      <th>uncertainty</th>\n      <th>transformedEnergy</th>\n      <th>minimumTransformed</th>\n      <th>maximumTransformed</th>\n      <th>maximumConcentration</th>\n      <th>minimumConcentration</th>\n      <th>compartment</th>\n      <th>met</th>\n    </tr>\n  </thead>\n  <tbody>\n    <tr>\n      <th>0</th>\n      <td>2018-05-31T15:54:35.282999Z</td>\n      <td>2018-05-31T15:54:41.762409Z</td>\n      <td>-53.33</td>\n      <td>5.02</td>\n      <td>465.57</td>\n      <td>414.16</td>\n      <td>463.54</td>\n      <td>1.00e-02</td>\n      <td>1.00e-07</td>\n      <td>Cytosol</td>\n      <td>7</td>\n    </tr>\n    <tr>\n      <th>1</th>\n      <td>2018-05-31T15:54:35.282999Z</td>\n      <td>2018-05-31T15:54:41.762409Z</td>\n      <td>-238.68</td>\n      <td>1.27</td>\n      <td>-151.69</td>\n      <td>-154.18</td>\n      <td>-149.20</td>\n      <td>1.00e+00</td>\n      <td>1.00e+00</td>\n      <td>Cytosol</td>\n      <td>8</td>\n    </tr>\n    <tr>\n      <th>2</th>\n      <td>2018-05-31T15:54:35.282999Z</td>\n      <td>2018-05-31T15:54:41.762409Z</td>\n      <td>16.40</td>\n      <td>4.73</td>\n      <td>16.40</td>\n      <td>-34.44</td>\n      <td>13.80</td>\n      <td>1.00e-02</td>\n      <td>1.00e-07</td>\n      <td>Cytosol</td>\n      <td>9</td>\n    </tr>\n    <tr>\n      <th>3</th>\n      <td>2018-05-31T15:54:35.282999Z</td>\n      <td>2018-05-31T15:54:41.762409Z</td>\n      <td>-153.55</td>\n      <td>5.02</td>\n      <td>193.64</td>\n      <td>142.23</td>\n      <td>191.61</td>\n      <td>1.00e-02</td>\n      <td>1.00e-07</td>\n      <td>Cytosol</td>\n      <td>10</td>\n    </tr>\n    <tr>\n      <th>4</th>\n      <td>2018-05-31T15:54:35.282999Z</td>\n      <td>2018-05-31T15:54:41.762409Z</td>\n      <td>-134.03</td>\n      <td>4.73</td>\n      <td>-47.05</td>\n      <td>-97.88</td>\n      <td>-49.65</td>\n      <td>1.00e-02</td>\n      <td>1.00e-07</td>\n      <td>Cytosol</td>\n      <td>11</td>\n    </tr>\n  </tbody>\n</table>\n</div>"
     },
     "execution_count": 28,
     "metadata": {},
     "output_type": "execute_result"
    }
   ],
   "source": [
    "from src.features.vmh import get_raw_delta_gs_of_metabolites as get_data\n",
    "\n",
    "table = pd.DataFrame(get_data())\n",
    "table.head()"
   ],
   "metadata": {
    "collapsed": false,
    "ExecuteTime": {
     "end_time": "2023-10-25T09:18:44.152120Z",
     "start_time": "2023-10-25T09:18:43.683888Z"
    }
   },
   "id": "e094e21d4c29c42c"
  },
  {
   "cell_type": "markdown",
   "source": [
    "# Thermodynamic Information on Reactions"
   ],
   "metadata": {
    "collapsed": false
   },
   "id": "c4ea6dad94f5c1a8"
  },
  {
   "cell_type": "markdown",
   "source": [
    "## Delta GS of Reactions"
   ],
   "metadata": {
    "collapsed": false
   },
   "id": "f7e943b10a1aeefa"
  },
  {
   "cell_type": "code",
   "execution_count": 29,
   "outputs": [
    {
     "data": {
      "text/plain": "                   createdDate                  updatedDate standardEnergy  \\\n0  2018-05-31T16:06:25.520950Z  2018-05-31T16:06:48.969497Z           0.00   \n1  2018-05-31T16:06:25.520950Z  2018-05-31T16:06:48.969497Z           0.00   \n2  2018-05-31T16:06:25.520950Z  2018-05-31T16:06:48.969497Z           0.00   \n3  2018-05-31T16:06:25.520950Z  2018-05-31T16:06:48.969497Z           0.00   \n4  2018-05-31T16:06:25.520950Z  2018-05-31T16:06:48.969497Z           0.00   \n\n  uncertainty transformedEnergy minimumTransformed maximumTransformed  rxn  \n0        0.00            -11.00             -40.69              18.69    1  \n1        0.00            -89.73            -119.42             -60.04    2  \n2        0.00            -12.83             -42.52              16.86    3  \n3        0.00           -104.69            -134.38             -75.00    4  \n4        0.00            -14.67             -44.35              15.02    5  ",
      "text/html": "<div>\n<style scoped>\n    .dataframe tbody tr th:only-of-type {\n        vertical-align: middle;\n    }\n\n    .dataframe tbody tr th {\n        vertical-align: top;\n    }\n\n    .dataframe thead th {\n        text-align: right;\n    }\n</style>\n<table border=\"1\" class=\"dataframe\">\n  <thead>\n    <tr style=\"text-align: right;\">\n      <th></th>\n      <th>createdDate</th>\n      <th>updatedDate</th>\n      <th>standardEnergy</th>\n      <th>uncertainty</th>\n      <th>transformedEnergy</th>\n      <th>minimumTransformed</th>\n      <th>maximumTransformed</th>\n      <th>rxn</th>\n    </tr>\n  </thead>\n  <tbody>\n    <tr>\n      <th>0</th>\n      <td>2018-05-31T16:06:25.520950Z</td>\n      <td>2018-05-31T16:06:48.969497Z</td>\n      <td>0.00</td>\n      <td>0.00</td>\n      <td>-11.00</td>\n      <td>-40.69</td>\n      <td>18.69</td>\n      <td>1</td>\n    </tr>\n    <tr>\n      <th>1</th>\n      <td>2018-05-31T16:06:25.520950Z</td>\n      <td>2018-05-31T16:06:48.969497Z</td>\n      <td>0.00</td>\n      <td>0.00</td>\n      <td>-89.73</td>\n      <td>-119.42</td>\n      <td>-60.04</td>\n      <td>2</td>\n    </tr>\n    <tr>\n      <th>2</th>\n      <td>2018-05-31T16:06:25.520950Z</td>\n      <td>2018-05-31T16:06:48.969497Z</td>\n      <td>0.00</td>\n      <td>0.00</td>\n      <td>-12.83</td>\n      <td>-42.52</td>\n      <td>16.86</td>\n      <td>3</td>\n    </tr>\n    <tr>\n      <th>3</th>\n      <td>2018-05-31T16:06:25.520950Z</td>\n      <td>2018-05-31T16:06:48.969497Z</td>\n      <td>0.00</td>\n      <td>0.00</td>\n      <td>-104.69</td>\n      <td>-134.38</td>\n      <td>-75.00</td>\n      <td>4</td>\n    </tr>\n    <tr>\n      <th>4</th>\n      <td>2018-05-31T16:06:25.520950Z</td>\n      <td>2018-05-31T16:06:48.969497Z</td>\n      <td>0.00</td>\n      <td>0.00</td>\n      <td>-14.67</td>\n      <td>-44.35</td>\n      <td>15.02</td>\n      <td>5</td>\n    </tr>\n  </tbody>\n</table>\n</div>"
     },
     "execution_count": 29,
     "metadata": {},
     "output_type": "execute_result"
    }
   ],
   "source": [
    "from src.features.vmh import get_raw_delta_gs_of_reactions as get_data\n",
    "\n",
    "table = pd.DataFrame(get_data())\n",
    "table.head()"
   ],
   "metadata": {
    "collapsed": false,
    "ExecuteTime": {
     "end_time": "2023-10-25T09:18:44.245824Z",
     "start_time": "2023-10-25T09:18:43.696318Z"
    }
   },
   "id": "afaf46157b31acd0"
  },
  {
   "cell_type": "markdown",
   "source": [
    "## Fermentation Carbon of Reactions"
   ],
   "metadata": {
    "collapsed": false
   },
   "id": "487badcd10e32e72"
  },
  {
   "cell_type": "code",
   "execution_count": 30,
   "outputs": [
    {
     "data": {
      "text/plain": "                                             microbe  \\\n0  {'reconstruction': 'Abiotrophia_defectiva_ATCC...   \n1  {'reconstruction': 'Abiotrophia_defectiva_ATCC...   \n2  {'reconstruction': 'Achromobacter_xylosoxidans...   \n3  {'reconstruction': 'Achromobacter_xylosoxidans...   \n4  {'reconstruction': 'Acidaminococcus_fermentans...   \n\n                                            mets                  createdDate  \\\n0                                 [lac_D, lac_L]  2018-05-31T15:48:46.790325Z   \n1   [glc_D, lcts, malt, pullulan1200, sucr, tre]  2018-06-28T10:13:45.944037Z   \n2  [arab_D, cit, glc_D, glcn, mal_L, pac, xyl_D]  2018-06-28T10:14:06.794473Z   \n3  [arab_D, cit, glc_D, glcn, mal_L, pac, xyl_D]  2018-06-28T10:16:17.042906Z   \n4                                  [ac, but, h2]  2018-05-31T15:48:46.790325Z   \n\n                   updatedDate      sourcetype  \\\n0  2019-02-04T15:34:36.356518Z    Fermentation   \n1  2019-02-04T15:43:19.341332Z  Carbon sources   \n2  2019-02-04T15:43:24.826464Z  Carbon sources   \n3  2019-02-04T15:44:04.918583Z  Carbon sources   \n4  2019-02-04T15:33:12.568684Z    Fermentation   \n\n                                          references  \n0  Krieg NR. Bergey's manual of systematic bacter...  \n1  PMID: 11574566; Krieg NR. Bergey's manual of s...  \n2  Krieg NR. Bergey's manual of systematic bacter...  \n3  Krieg NR. Bergey's manual of systematic bacter...  \n4  Krieg NR. Bergey's manual of systematic bacter...  ",
      "text/html": "<div>\n<style scoped>\n    .dataframe tbody tr th:only-of-type {\n        vertical-align: middle;\n    }\n\n    .dataframe tbody tr th {\n        vertical-align: top;\n    }\n\n    .dataframe thead th {\n        text-align: right;\n    }\n</style>\n<table border=\"1\" class=\"dataframe\">\n  <thead>\n    <tr style=\"text-align: right;\">\n      <th></th>\n      <th>microbe</th>\n      <th>mets</th>\n      <th>createdDate</th>\n      <th>updatedDate</th>\n      <th>sourcetype</th>\n      <th>references</th>\n    </tr>\n  </thead>\n  <tbody>\n    <tr>\n      <th>0</th>\n      <td>{'reconstruction': 'Abiotrophia_defectiva_ATCC...</td>\n      <td>[lac_D, lac_L]</td>\n      <td>2018-05-31T15:48:46.790325Z</td>\n      <td>2019-02-04T15:34:36.356518Z</td>\n      <td>Fermentation</td>\n      <td>Krieg NR. Bergey's manual of systematic bacter...</td>\n    </tr>\n    <tr>\n      <th>1</th>\n      <td>{'reconstruction': 'Abiotrophia_defectiva_ATCC...</td>\n      <td>[glc_D, lcts, malt, pullulan1200, sucr, tre]</td>\n      <td>2018-06-28T10:13:45.944037Z</td>\n      <td>2019-02-04T15:43:19.341332Z</td>\n      <td>Carbon sources</td>\n      <td>PMID: 11574566; Krieg NR. Bergey's manual of s...</td>\n    </tr>\n    <tr>\n      <th>2</th>\n      <td>{'reconstruction': 'Achromobacter_xylosoxidans...</td>\n      <td>[arab_D, cit, glc_D, glcn, mal_L, pac, xyl_D]</td>\n      <td>2018-06-28T10:14:06.794473Z</td>\n      <td>2019-02-04T15:43:24.826464Z</td>\n      <td>Carbon sources</td>\n      <td>Krieg NR. Bergey's manual of systematic bacter...</td>\n    </tr>\n    <tr>\n      <th>3</th>\n      <td>{'reconstruction': 'Achromobacter_xylosoxidans...</td>\n      <td>[arab_D, cit, glc_D, glcn, mal_L, pac, xyl_D]</td>\n      <td>2018-06-28T10:16:17.042906Z</td>\n      <td>2019-02-04T15:44:04.918583Z</td>\n      <td>Carbon sources</td>\n      <td>Krieg NR. Bergey's manual of systematic bacter...</td>\n    </tr>\n    <tr>\n      <th>4</th>\n      <td>{'reconstruction': 'Acidaminococcus_fermentans...</td>\n      <td>[ac, but, h2]</td>\n      <td>2018-05-31T15:48:46.790325Z</td>\n      <td>2019-02-04T15:33:12.568684Z</td>\n      <td>Fermentation</td>\n      <td>Krieg NR. Bergey's manual of systematic bacter...</td>\n    </tr>\n  </tbody>\n</table>\n</div>"
     },
     "execution_count": 30,
     "metadata": {},
     "output_type": "execute_result"
    }
   ],
   "source": [
    "from src.features.vmh import get_raw_fermentation_carbon_of_reactions as get_data\n",
    "\n",
    "table = pd.DataFrame(get_data())\n",
    "table.head()"
   ],
   "metadata": {
    "collapsed": false,
    "ExecuteTime": {
     "end_time": "2023-10-25T09:18:44.246156Z",
     "start_time": "2023-10-25T09:18:43.704819Z"
    }
   },
   "id": "802af9069233c0f3"
  },
  {
   "cell_type": "markdown",
   "source": [
    "# Compartment List"
   ],
   "metadata": {
    "collapsed": false
   },
   "id": "bd01f29ccdd38643"
  },
  {
   "cell_type": "code",
   "execution_count": 31,
   "outputs": [
    {
     "data": {
      "text/plain": "                   createdDate                  updatedDate abbreviation  \\\n0  2018-05-31T15:42:20.524831Z  2019-05-27T09:43:44.242531Z            c   \n1  2018-05-31T15:42:20.524831Z  2019-05-27T09:43:44.227521Z            e   \n2  2018-05-31T15:42:20.524831Z  2018-05-31T15:42:21.534809Z            g   \n3  2018-05-31T15:42:20.524831Z  2019-05-27T09:43:18.337127Z            m   \n4  2018-05-31T15:42:20.524831Z  2018-05-31T15:42:21.534809Z            l   \n\n              name                                               mets  \n0          Cytosol  [4, 1, 2, 3, 2937, 2938, 2939, 2940, 2941, 294...  \n1    Extracellular  [4, 1, 2, 3, 825, 5, 6, 2208, 2950, 5682, 1379...  \n2  Golgi Apparatus  [2208, 1244, 63, 210, 105, 198, 199, 166, 168,...  \n3     Mitochondria  [4, 1, 2, 3, 5, 6, 2208, 386, 1244, 1245, 16, ...  \n4         Lysosome  [4, 1, 2, 3, 1244, 92, 190, 102, 120, 119, 122...  ",
      "text/html": "<div>\n<style scoped>\n    .dataframe tbody tr th:only-of-type {\n        vertical-align: middle;\n    }\n\n    .dataframe tbody tr th {\n        vertical-align: top;\n    }\n\n    .dataframe thead th {\n        text-align: right;\n    }\n</style>\n<table border=\"1\" class=\"dataframe\">\n  <thead>\n    <tr style=\"text-align: right;\">\n      <th></th>\n      <th>createdDate</th>\n      <th>updatedDate</th>\n      <th>abbreviation</th>\n      <th>name</th>\n      <th>mets</th>\n    </tr>\n  </thead>\n  <tbody>\n    <tr>\n      <th>0</th>\n      <td>2018-05-31T15:42:20.524831Z</td>\n      <td>2019-05-27T09:43:44.242531Z</td>\n      <td>c</td>\n      <td>Cytosol</td>\n      <td>[4, 1, 2, 3, 2937, 2938, 2939, 2940, 2941, 294...</td>\n    </tr>\n    <tr>\n      <th>1</th>\n      <td>2018-05-31T15:42:20.524831Z</td>\n      <td>2019-05-27T09:43:44.227521Z</td>\n      <td>e</td>\n      <td>Extracellular</td>\n      <td>[4, 1, 2, 3, 825, 5, 6, 2208, 2950, 5682, 1379...</td>\n    </tr>\n    <tr>\n      <th>2</th>\n      <td>2018-05-31T15:42:20.524831Z</td>\n      <td>2018-05-31T15:42:21.534809Z</td>\n      <td>g</td>\n      <td>Golgi Apparatus</td>\n      <td>[2208, 1244, 63, 210, 105, 198, 199, 166, 168,...</td>\n    </tr>\n    <tr>\n      <th>3</th>\n      <td>2018-05-31T15:42:20.524831Z</td>\n      <td>2019-05-27T09:43:18.337127Z</td>\n      <td>m</td>\n      <td>Mitochondria</td>\n      <td>[4, 1, 2, 3, 5, 6, 2208, 386, 1244, 1245, 16, ...</td>\n    </tr>\n    <tr>\n      <th>4</th>\n      <td>2018-05-31T15:42:20.524831Z</td>\n      <td>2018-05-31T15:42:21.534809Z</td>\n      <td>l</td>\n      <td>Lysosome</td>\n      <td>[4, 1, 2, 3, 1244, 92, 190, 102, 120, 119, 122...</td>\n    </tr>\n  </tbody>\n</table>\n</div>"
     },
     "execution_count": 31,
     "metadata": {},
     "output_type": "execute_result"
    }
   ],
   "source": [
    "from src.features.vmh import get_raw_compartments as get_data\n",
    "\n",
    "table = pd.DataFrame(get_data())\n",
    "table.head()"
   ],
   "metadata": {
    "collapsed": false,
    "ExecuteTime": {
     "end_time": "2023-10-25T09:18:44.246334Z",
     "start_time": "2023-10-25T09:18:43.723243Z"
    }
   },
   "id": "5b2cb43f96245cf1"
  },
  {
   "cell_type": "markdown",
   "source": [
    "# Related to Foods"
   ],
   "metadata": {
    "collapsed": false
   },
   "id": "925adb6f993568bf"
  },
  {
   "cell_type": "markdown",
   "source": [
    "## Foods"
   ],
   "metadata": {
    "collapsed": false
   },
   "id": "a90694ffdfef8869"
  },
  {
   "cell_type": "code",
   "execution_count": 32,
   "outputs": [
    {
     "data": {
      "text/plain": "                   createdDate                  updatedDate    food_id  \\\n0  2018-05-31T15:48:58.585948Z  2018-05-31T15:49:15.742624Z  USDA01001   \n1  2018-05-31T15:48:58.585948Z  2018-05-31T15:49:15.742624Z  USDA01002   \n2  2018-05-31T15:48:58.585948Z  2018-05-31T15:49:15.742624Z  USDA01003   \n3  2018-05-31T15:48:58.585948Z  2018-05-31T15:49:15.742624Z  USDA01004   \n4  2018-05-31T15:48:58.585948Z  2018-05-31T15:49:15.742624Z  USDA01005   \n\n                         name            product_type              short_desc  \\\n0              Butter, salted  Dairy and Egg Products        BUTTER,WITH SALT   \n1  Butter, whipped, with salt  Dairy and Egg Products  BUTTER,WHIPPED,W/ SALT   \n2       Butter oil, anhydrous  Dairy and Egg Products    BUTTER OIL,ANHYDROUS   \n3                Cheese, blue  Dairy and Egg Products             CHEESE,BLUE   \n4               Cheese, brick  Dairy and Egg Products            CHEESE,BRICK   \n\n  common_name  survey manufactor refuse_desc  refuse_perc scientific_name  \\\n0                True                                 0.0                   \n1                True                                 0.0                   \n2                True                                 0.0                   \n3                True                                 0.0                   \n4                True                                 0.0                   \n\n   n_factor  pro_factor  fat_factor  cho_factor  \\\n0      6.38        4.27        8.79        3.87   \n1      6.38         NaN         NaN         NaN   \n2      6.38        4.27        8.79        3.87   \n3      6.38        4.27        8.79        3.87   \n4      6.38        4.27        8.79        3.87   \n\n                                             sources  food_group langual  \n0  US Department of Agriculture, Agricultural Res...           1      []  \n1  US Department of Agriculture, Agricultural Res...           1      []  \n2  US Department of Agriculture, Agricultural Res...           1      []  \n3  US Department of Agriculture, Agricultural Res...           1      []  \n4  US Department of Agriculture, Agricultural Res...           1      []  ",
      "text/html": "<div>\n<style scoped>\n    .dataframe tbody tr th:only-of-type {\n        vertical-align: middle;\n    }\n\n    .dataframe tbody tr th {\n        vertical-align: top;\n    }\n\n    .dataframe thead th {\n        text-align: right;\n    }\n</style>\n<table border=\"1\" class=\"dataframe\">\n  <thead>\n    <tr style=\"text-align: right;\">\n      <th></th>\n      <th>createdDate</th>\n      <th>updatedDate</th>\n      <th>food_id</th>\n      <th>name</th>\n      <th>product_type</th>\n      <th>short_desc</th>\n      <th>common_name</th>\n      <th>survey</th>\n      <th>manufactor</th>\n      <th>refuse_desc</th>\n      <th>refuse_perc</th>\n      <th>scientific_name</th>\n      <th>n_factor</th>\n      <th>pro_factor</th>\n      <th>fat_factor</th>\n      <th>cho_factor</th>\n      <th>sources</th>\n      <th>food_group</th>\n      <th>langual</th>\n    </tr>\n  </thead>\n  <tbody>\n    <tr>\n      <th>0</th>\n      <td>2018-05-31T15:48:58.585948Z</td>\n      <td>2018-05-31T15:49:15.742624Z</td>\n      <td>USDA01001</td>\n      <td>Butter, salted</td>\n      <td>Dairy and Egg Products</td>\n      <td>BUTTER,WITH SALT</td>\n      <td></td>\n      <td>True</td>\n      <td></td>\n      <td></td>\n      <td>0.0</td>\n      <td></td>\n      <td>6.38</td>\n      <td>4.27</td>\n      <td>8.79</td>\n      <td>3.87</td>\n      <td>US Department of Agriculture, Agricultural Res...</td>\n      <td>1</td>\n      <td>[]</td>\n    </tr>\n    <tr>\n      <th>1</th>\n      <td>2018-05-31T15:48:58.585948Z</td>\n      <td>2018-05-31T15:49:15.742624Z</td>\n      <td>USDA01002</td>\n      <td>Butter, whipped, with salt</td>\n      <td>Dairy and Egg Products</td>\n      <td>BUTTER,WHIPPED,W/ SALT</td>\n      <td></td>\n      <td>True</td>\n      <td></td>\n      <td></td>\n      <td>0.0</td>\n      <td></td>\n      <td>6.38</td>\n      <td>NaN</td>\n      <td>NaN</td>\n      <td>NaN</td>\n      <td>US Department of Agriculture, Agricultural Res...</td>\n      <td>1</td>\n      <td>[]</td>\n    </tr>\n    <tr>\n      <th>2</th>\n      <td>2018-05-31T15:48:58.585948Z</td>\n      <td>2018-05-31T15:49:15.742624Z</td>\n      <td>USDA01003</td>\n      <td>Butter oil, anhydrous</td>\n      <td>Dairy and Egg Products</td>\n      <td>BUTTER OIL,ANHYDROUS</td>\n      <td></td>\n      <td>True</td>\n      <td></td>\n      <td></td>\n      <td>0.0</td>\n      <td></td>\n      <td>6.38</td>\n      <td>4.27</td>\n      <td>8.79</td>\n      <td>3.87</td>\n      <td>US Department of Agriculture, Agricultural Res...</td>\n      <td>1</td>\n      <td>[]</td>\n    </tr>\n    <tr>\n      <th>3</th>\n      <td>2018-05-31T15:48:58.585948Z</td>\n      <td>2018-05-31T15:49:15.742624Z</td>\n      <td>USDA01004</td>\n      <td>Cheese, blue</td>\n      <td>Dairy and Egg Products</td>\n      <td>CHEESE,BLUE</td>\n      <td></td>\n      <td>True</td>\n      <td></td>\n      <td></td>\n      <td>0.0</td>\n      <td></td>\n      <td>6.38</td>\n      <td>4.27</td>\n      <td>8.79</td>\n      <td>3.87</td>\n      <td>US Department of Agriculture, Agricultural Res...</td>\n      <td>1</td>\n      <td>[]</td>\n    </tr>\n    <tr>\n      <th>4</th>\n      <td>2018-05-31T15:48:58.585948Z</td>\n      <td>2018-05-31T15:49:15.742624Z</td>\n      <td>USDA01005</td>\n      <td>Cheese, brick</td>\n      <td>Dairy and Egg Products</td>\n      <td>CHEESE,BRICK</td>\n      <td></td>\n      <td>True</td>\n      <td></td>\n      <td></td>\n      <td>0.0</td>\n      <td></td>\n      <td>6.38</td>\n      <td>4.27</td>\n      <td>8.79</td>\n      <td>3.87</td>\n      <td>US Department of Agriculture, Agricultural Res...</td>\n      <td>1</td>\n      <td>[]</td>\n    </tr>\n  </tbody>\n</table>\n</div>"
     },
     "execution_count": 32,
     "metadata": {},
     "output_type": "execute_result"
    }
   ],
   "source": [
    "from src.features.vmh import get_raw_foods as get_data\n",
    "\n",
    "table = pd.DataFrame(get_data())\n",
    "table.head()"
   ],
   "metadata": {
    "collapsed": false,
    "ExecuteTime": {
     "end_time": "2023-10-25T09:18:44.246793Z",
     "start_time": "2023-10-25T09:18:43.732037Z"
    }
   },
   "id": "d2b8deaff2879e1c"
  },
  {
   "cell_type": "markdown",
   "source": [
    "## Diet List"
   ],
   "metadata": {
    "collapsed": false
   },
   "id": "8f74c43381377f36"
  },
  {
   "cell_type": "code",
   "execution_count": 33,
   "outputs": [
    {
     "data": {
      "text/plain": "                   createdDate                  updatedDate           name  \\\n0  2018-05-31T15:48:04.089219Z  2018-05-31T15:48:08.054046Z     Vegetarian   \n1  2018-05-31T15:48:04.089219Z  2018-05-31T15:48:08.054046Z          Vegan   \n2  2018-05-31T15:48:04.089219Z  2018-05-31T15:48:08.054046Z     EU average   \n3  2018-05-31T15:48:04.089219Z  2018-05-31T15:48:08.054046Z  Mediterranean   \n4  2018-05-31T15:48:04.089219Z  2018-05-31T15:48:08.054046Z           DACH   \n\n                                               notes  \\\n0  The vegetarian diets are based on a survey con...   \n1  A vegan diet is a plant based diet. This type ...   \n2  The \"EU diet\" was designed based on informatio...   \n3  According to Walter C. Willet (Willett, Sacks ...   \n4  This diet is based on the recommended amount o...   \n\n                                          references  totalEnergyKcal  \\\n0  Leblanc, J. C., H. Yoon, A. Kombadjian and P. ...          1888.29   \n1  Elmadfa, I. and C. Leitzmann (2004). Ernaehrun...          1991.21   \n2  Elmadfa, I. (2012). Oesterreichischer Ernaehru...          2371.90   \n3  Willett, W. C., F. Sacks, A. Trichopoulou, G. ...          2647.45   \n4  Elmadfa, I. and C. Leitzmann (2004). Ernaehrun...          2148.36   \n\n    lipids  lipids_kcal  lipids_perc  carbohydrates  ...  carbohydrates_perc  \\\n0   72.095      641.646      33.9803        242.340  ...             51.3355   \n1   78.560      699.184      35.1134        237.130  ...             47.6352   \n2  107.825      959.643      40.4589        244.195  ...             41.1814   \n3  100.270      892.403      33.7080        246.240  ...             37.2041   \n4   78.940      702.566      32.7024        222.025  ...             41.3385   \n\n   proteins  proteins_kcal  proteins_perc  alcohol  alcohol_kcal  \\\n0    53.370        202.806        10.7402    1.235        8.7685   \n1    58.630        222.794        11.1888    0.000        0.0000   \n2    74.545        283.271        11.9428   10.800       76.6800   \n3   121.555        461.909        17.4473   16.400      116.4400   \n4   104.940        398.772        18.5617    0.000        0.0000   \n\n   alcohol_perc  dietFibers_mg  cholesterol_mg  sucrose_mg  \n0      0.464363         31.315           40.26      88.795  \n1      0.000000         52.530            1.42     120.465  \n2      3.232860         21.515          476.43     115.695  \n3      4.398190         47.140          266.00      93.340  \n4      0.000000         43.740          198.50      84.835  \n\n[5 rows x 21 columns]",
      "text/html": "<div>\n<style scoped>\n    .dataframe tbody tr th:only-of-type {\n        vertical-align: middle;\n    }\n\n    .dataframe tbody tr th {\n        vertical-align: top;\n    }\n\n    .dataframe thead th {\n        text-align: right;\n    }\n</style>\n<table border=\"1\" class=\"dataframe\">\n  <thead>\n    <tr style=\"text-align: right;\">\n      <th></th>\n      <th>createdDate</th>\n      <th>updatedDate</th>\n      <th>name</th>\n      <th>notes</th>\n      <th>references</th>\n      <th>totalEnergyKcal</th>\n      <th>lipids</th>\n      <th>lipids_kcal</th>\n      <th>lipids_perc</th>\n      <th>carbohydrates</th>\n      <th>...</th>\n      <th>carbohydrates_perc</th>\n      <th>proteins</th>\n      <th>proteins_kcal</th>\n      <th>proteins_perc</th>\n      <th>alcohol</th>\n      <th>alcohol_kcal</th>\n      <th>alcohol_perc</th>\n      <th>dietFibers_mg</th>\n      <th>cholesterol_mg</th>\n      <th>sucrose_mg</th>\n    </tr>\n  </thead>\n  <tbody>\n    <tr>\n      <th>0</th>\n      <td>2018-05-31T15:48:04.089219Z</td>\n      <td>2018-05-31T15:48:08.054046Z</td>\n      <td>Vegetarian</td>\n      <td>The vegetarian diets are based on a survey con...</td>\n      <td>Leblanc, J. C., H. Yoon, A. Kombadjian and P. ...</td>\n      <td>1888.29</td>\n      <td>72.095</td>\n      <td>641.646</td>\n      <td>33.9803</td>\n      <td>242.340</td>\n      <td>...</td>\n      <td>51.3355</td>\n      <td>53.370</td>\n      <td>202.806</td>\n      <td>10.7402</td>\n      <td>1.235</td>\n      <td>8.7685</td>\n      <td>0.464363</td>\n      <td>31.315</td>\n      <td>40.26</td>\n      <td>88.795</td>\n    </tr>\n    <tr>\n      <th>1</th>\n      <td>2018-05-31T15:48:04.089219Z</td>\n      <td>2018-05-31T15:48:08.054046Z</td>\n      <td>Vegan</td>\n      <td>A vegan diet is a plant based diet. This type ...</td>\n      <td>Elmadfa, I. and C. Leitzmann (2004). Ernaehrun...</td>\n      <td>1991.21</td>\n      <td>78.560</td>\n      <td>699.184</td>\n      <td>35.1134</td>\n      <td>237.130</td>\n      <td>...</td>\n      <td>47.6352</td>\n      <td>58.630</td>\n      <td>222.794</td>\n      <td>11.1888</td>\n      <td>0.000</td>\n      <td>0.0000</td>\n      <td>0.000000</td>\n      <td>52.530</td>\n      <td>1.42</td>\n      <td>120.465</td>\n    </tr>\n    <tr>\n      <th>2</th>\n      <td>2018-05-31T15:48:04.089219Z</td>\n      <td>2018-05-31T15:48:08.054046Z</td>\n      <td>EU average</td>\n      <td>The \"EU diet\" was designed based on informatio...</td>\n      <td>Elmadfa, I. (2012). Oesterreichischer Ernaehru...</td>\n      <td>2371.90</td>\n      <td>107.825</td>\n      <td>959.643</td>\n      <td>40.4589</td>\n      <td>244.195</td>\n      <td>...</td>\n      <td>41.1814</td>\n      <td>74.545</td>\n      <td>283.271</td>\n      <td>11.9428</td>\n      <td>10.800</td>\n      <td>76.6800</td>\n      <td>3.232860</td>\n      <td>21.515</td>\n      <td>476.43</td>\n      <td>115.695</td>\n    </tr>\n    <tr>\n      <th>3</th>\n      <td>2018-05-31T15:48:04.089219Z</td>\n      <td>2018-05-31T15:48:08.054046Z</td>\n      <td>Mediterranean</td>\n      <td>According to Walter C. Willet (Willett, Sacks ...</td>\n      <td>Willett, W. C., F. Sacks, A. Trichopoulou, G. ...</td>\n      <td>2647.45</td>\n      <td>100.270</td>\n      <td>892.403</td>\n      <td>33.7080</td>\n      <td>246.240</td>\n      <td>...</td>\n      <td>37.2041</td>\n      <td>121.555</td>\n      <td>461.909</td>\n      <td>17.4473</td>\n      <td>16.400</td>\n      <td>116.4400</td>\n      <td>4.398190</td>\n      <td>47.140</td>\n      <td>266.00</td>\n      <td>93.340</td>\n    </tr>\n    <tr>\n      <th>4</th>\n      <td>2018-05-31T15:48:04.089219Z</td>\n      <td>2018-05-31T15:48:08.054046Z</td>\n      <td>DACH</td>\n      <td>This diet is based on the recommended amount o...</td>\n      <td>Elmadfa, I. and C. Leitzmann (2004). Ernaehrun...</td>\n      <td>2148.36</td>\n      <td>78.940</td>\n      <td>702.566</td>\n      <td>32.7024</td>\n      <td>222.025</td>\n      <td>...</td>\n      <td>41.3385</td>\n      <td>104.940</td>\n      <td>398.772</td>\n      <td>18.5617</td>\n      <td>0.000</td>\n      <td>0.0000</td>\n      <td>0.000000</td>\n      <td>43.740</td>\n      <td>198.50</td>\n      <td>84.835</td>\n    </tr>\n  </tbody>\n</table>\n<p>5 rows × 21 columns</p>\n</div>"
     },
     "execution_count": 33,
     "metadata": {},
     "output_type": "execute_result"
    }
   ],
   "source": [
    "from src.features.vmh import get_raw_diet_list as get_data\n",
    "\n",
    "table = pd.DataFrame(get_data())\n",
    "table.head()"
   ],
   "metadata": {
    "collapsed": false,
    "ExecuteTime": {
     "end_time": "2023-10-25T09:18:44.247054Z",
     "start_time": "2023-10-25T09:18:43.752597Z"
    }
   },
   "id": "b52ee7b85b7d75df"
  },
  {
   "cell_type": "markdown",
   "source": [
    "## Diet Flux List"
   ],
   "metadata": {
    "collapsed": false
   },
   "id": "ba727a1c5c75fb97"
  },
  {
   "cell_type": "code",
   "execution_count": 34,
   "outputs": [
    {
     "data": {
      "text/plain": "   diet       reaction metabolite                  createdDate  \\\n0  DACH     EX_etoh[e]       etoh  2018-05-31T15:48:11.460268Z   \n1  DACH      EX_h2o[e]        h2o  2018-05-31T15:48:11.460268Z   \n2  DACH     EX_caro[e]       caro  2018-05-31T15:48:11.460268Z   \n3  DACH  EX_retinol[e]    retinol  2018-05-31T15:48:11.460268Z   \n4  DACH      EX_thm[e]        thm  2018-05-31T15:48:11.460268Z   \n\n                   updatedDate      fluxValue       g_day         mw  \n0  2018-05-31T15:48:17.338067Z       0.000000     0.00000   46.06840  \n1  2018-05-31T15:48:17.338067Z  197316.500215  3554.71200   18.01528  \n2  2018-05-31T15:48:17.338067Z       0.024810     0.01332  536.87260  \n3  2018-05-31T15:48:17.338067Z       0.907658     0.26000  286.45160  \n4  2018-05-31T15:48:17.338067Z       5.351330     1.42000  265.35460  ",
      "text/html": "<div>\n<style scoped>\n    .dataframe tbody tr th:only-of-type {\n        vertical-align: middle;\n    }\n\n    .dataframe tbody tr th {\n        vertical-align: top;\n    }\n\n    .dataframe thead th {\n        text-align: right;\n    }\n</style>\n<table border=\"1\" class=\"dataframe\">\n  <thead>\n    <tr style=\"text-align: right;\">\n      <th></th>\n      <th>diet</th>\n      <th>reaction</th>\n      <th>metabolite</th>\n      <th>createdDate</th>\n      <th>updatedDate</th>\n      <th>fluxValue</th>\n      <th>g_day</th>\n      <th>mw</th>\n    </tr>\n  </thead>\n  <tbody>\n    <tr>\n      <th>0</th>\n      <td>DACH</td>\n      <td>EX_etoh[e]</td>\n      <td>etoh</td>\n      <td>2018-05-31T15:48:11.460268Z</td>\n      <td>2018-05-31T15:48:17.338067Z</td>\n      <td>0.000000</td>\n      <td>0.00000</td>\n      <td>46.06840</td>\n    </tr>\n    <tr>\n      <th>1</th>\n      <td>DACH</td>\n      <td>EX_h2o[e]</td>\n      <td>h2o</td>\n      <td>2018-05-31T15:48:11.460268Z</td>\n      <td>2018-05-31T15:48:17.338067Z</td>\n      <td>197316.500215</td>\n      <td>3554.71200</td>\n      <td>18.01528</td>\n    </tr>\n    <tr>\n      <th>2</th>\n      <td>DACH</td>\n      <td>EX_caro[e]</td>\n      <td>caro</td>\n      <td>2018-05-31T15:48:11.460268Z</td>\n      <td>2018-05-31T15:48:17.338067Z</td>\n      <td>0.024810</td>\n      <td>0.01332</td>\n      <td>536.87260</td>\n    </tr>\n    <tr>\n      <th>3</th>\n      <td>DACH</td>\n      <td>EX_retinol[e]</td>\n      <td>retinol</td>\n      <td>2018-05-31T15:48:11.460268Z</td>\n      <td>2018-05-31T15:48:17.338067Z</td>\n      <td>0.907658</td>\n      <td>0.26000</td>\n      <td>286.45160</td>\n    </tr>\n    <tr>\n      <th>4</th>\n      <td>DACH</td>\n      <td>EX_thm[e]</td>\n      <td>thm</td>\n      <td>2018-05-31T15:48:11.460268Z</td>\n      <td>2018-05-31T15:48:17.338067Z</td>\n      <td>5.351330</td>\n      <td>1.42000</td>\n      <td>265.35460</td>\n    </tr>\n  </tbody>\n</table>\n</div>"
     },
     "execution_count": 34,
     "metadata": {},
     "output_type": "execute_result"
    }
   ],
   "source": [
    "from src.features.vmh import get_raw_diet_flux_list as get_data\n",
    "\n",
    "table = pd.DataFrame(get_data())\n",
    "table.head()"
   ],
   "metadata": {
    "collapsed": false,
    "ExecuteTime": {
     "end_time": "2023-10-25T09:18:44.324687Z",
     "start_time": "2023-10-25T09:18:43.764313Z"
    }
   },
   "id": "e19eb5be69c900e4"
  },
  {
   "cell_type": "markdown",
   "source": [
    "## Molecular Mass List"
   ],
   "metadata": {
    "collapsed": false
   },
   "id": "35cda6cbd79e74ad"
  },
  {
   "cell_type": "markdown",
   "source": [
    "endpoint to view molecular mass of specific metabolites. This information is used to calculate the fluxes associated with designed diets. They have an associated component name (nutrient) and which metabolite and exchange reaction they are associated with"
   ],
   "metadata": {
    "collapsed": false
   },
   "id": "2ad9488e495468b"
  },
  {
   "cell_type": "code",
   "execution_count": 35,
   "outputs": [
    {
     "data": {
      "text/plain": "  metabolite      reaction                  createdDate  \\\n0      5mthf   EX_5mthf(e)  2018-05-31T16:00:00.552969Z   \n1     adocbl  EX_adpcbl(e)  2018-05-31T16:00:00.552969Z   \n2       adrn    EX_adrn(e)  2018-05-31T16:00:00.552969Z   \n3      ala_L   EX_ala_L(e)  2018-05-31T16:00:00.552969Z   \n4     arachd  EX_arachd(e)  2018-05-31T16:00:00.552969Z   \n\n                   updatedDate  \\\n0  2018-05-31T16:00:04.437861Z   \n1  2018-05-31T16:00:04.437861Z   \n2  2018-05-31T16:00:04.437861Z   \n3  2018-05-31T16:00:04.437861Z   \n4  2018-05-31T16:00:04.437861Z   \n\n                                       componentname  molecularmass  \n0                               Whole folate content       458.4479  \n1                            Vitamin B12 - Cobalamin      1579.5818  \n2  Adrenic acid (all-cis-7,10,13,16-Docosatetraen...       331.5121  \n3                                            Alanine        89.0932  \n4  Arachidonic acid (all-cis-5,8,11,14-Eicosatetr...       303.4589  ",
      "text/html": "<div>\n<style scoped>\n    .dataframe tbody tr th:only-of-type {\n        vertical-align: middle;\n    }\n\n    .dataframe tbody tr th {\n        vertical-align: top;\n    }\n\n    .dataframe thead th {\n        text-align: right;\n    }\n</style>\n<table border=\"1\" class=\"dataframe\">\n  <thead>\n    <tr style=\"text-align: right;\">\n      <th></th>\n      <th>metabolite</th>\n      <th>reaction</th>\n      <th>createdDate</th>\n      <th>updatedDate</th>\n      <th>componentname</th>\n      <th>molecularmass</th>\n    </tr>\n  </thead>\n  <tbody>\n    <tr>\n      <th>0</th>\n      <td>5mthf</td>\n      <td>EX_5mthf(e)</td>\n      <td>2018-05-31T16:00:00.552969Z</td>\n      <td>2018-05-31T16:00:04.437861Z</td>\n      <td>Whole folate content</td>\n      <td>458.4479</td>\n    </tr>\n    <tr>\n      <th>1</th>\n      <td>adocbl</td>\n      <td>EX_adpcbl(e)</td>\n      <td>2018-05-31T16:00:00.552969Z</td>\n      <td>2018-05-31T16:00:04.437861Z</td>\n      <td>Vitamin B12 - Cobalamin</td>\n      <td>1579.5818</td>\n    </tr>\n    <tr>\n      <th>2</th>\n      <td>adrn</td>\n      <td>EX_adrn(e)</td>\n      <td>2018-05-31T16:00:00.552969Z</td>\n      <td>2018-05-31T16:00:04.437861Z</td>\n      <td>Adrenic acid (all-cis-7,10,13,16-Docosatetraen...</td>\n      <td>331.5121</td>\n    </tr>\n    <tr>\n      <th>3</th>\n      <td>ala_L</td>\n      <td>EX_ala_L(e)</td>\n      <td>2018-05-31T16:00:00.552969Z</td>\n      <td>2018-05-31T16:00:04.437861Z</td>\n      <td>Alanine</td>\n      <td>89.0932</td>\n    </tr>\n    <tr>\n      <th>4</th>\n      <td>arachd</td>\n      <td>EX_arachd(e)</td>\n      <td>2018-05-31T16:00:00.552969Z</td>\n      <td>2018-05-31T16:00:04.437861Z</td>\n      <td>Arachidonic acid (all-cis-5,8,11,14-Eicosatetr...</td>\n      <td>303.4589</td>\n    </tr>\n  </tbody>\n</table>\n</div>"
     },
     "execution_count": 35,
     "metadata": {},
     "output_type": "execute_result"
    }
   ],
   "source": [
    "from src.features.vmh import get_raw_mass_of_metabolites as get_data\n",
    "\n",
    "table = pd.DataFrame(get_data())\n",
    "table.head()"
   ],
   "metadata": {
    "collapsed": false,
    "ExecuteTime": {
     "end_time": "2023-10-25T09:18:44.328925Z",
     "start_time": "2023-10-25T09:18:43.775252Z"
    }
   },
   "id": "31fbba44ece874dd"
  },
  {
   "cell_type": "markdown",
   "source": [
    "## Food Groups"
   ],
   "metadata": {
    "collapsed": false
   },
   "id": "e99e4fdda57ab731"
  },
  {
   "cell_type": "code",
   "execution_count": 36,
   "outputs": [
    {
     "data": {
      "text/plain": "                   createdDate                  updatedDate  code  \\\n0  2018-05-31T15:49:39.052705Z  2018-05-31T15:49:44.119635Z  0100   \n1  2018-05-31T15:49:39.052705Z  2018-05-31T15:49:44.119635Z  0200   \n2  2018-05-31T15:49:39.052705Z  2018-05-31T15:49:44.119635Z  0300   \n3  2018-05-31T15:49:39.052705Z  2018-05-31T15:49:44.119635Z  0400   \n4  2018-05-31T15:49:39.052705Z  2018-05-31T15:49:44.119635Z  0500   \n\n              description  \n0  Dairy and Egg Products  \n1        Spices and Herbs  \n2              Baby Foods  \n3           Fats and Oils  \n4        Poultry Products  ",
      "text/html": "<div>\n<style scoped>\n    .dataframe tbody tr th:only-of-type {\n        vertical-align: middle;\n    }\n\n    .dataframe tbody tr th {\n        vertical-align: top;\n    }\n\n    .dataframe thead th {\n        text-align: right;\n    }\n</style>\n<table border=\"1\" class=\"dataframe\">\n  <thead>\n    <tr style=\"text-align: right;\">\n      <th></th>\n      <th>createdDate</th>\n      <th>updatedDate</th>\n      <th>code</th>\n      <th>description</th>\n    </tr>\n  </thead>\n  <tbody>\n    <tr>\n      <th>0</th>\n      <td>2018-05-31T15:49:39.052705Z</td>\n      <td>2018-05-31T15:49:44.119635Z</td>\n      <td>0100</td>\n      <td>Dairy and Egg Products</td>\n    </tr>\n    <tr>\n      <th>1</th>\n      <td>2018-05-31T15:49:39.052705Z</td>\n      <td>2018-05-31T15:49:44.119635Z</td>\n      <td>0200</td>\n      <td>Spices and Herbs</td>\n    </tr>\n    <tr>\n      <th>2</th>\n      <td>2018-05-31T15:49:39.052705Z</td>\n      <td>2018-05-31T15:49:44.119635Z</td>\n      <td>0300</td>\n      <td>Baby Foods</td>\n    </tr>\n    <tr>\n      <th>3</th>\n      <td>2018-05-31T15:49:39.052705Z</td>\n      <td>2018-05-31T15:49:44.119635Z</td>\n      <td>0400</td>\n      <td>Fats and Oils</td>\n    </tr>\n    <tr>\n      <th>4</th>\n      <td>2018-05-31T15:49:39.052705Z</td>\n      <td>2018-05-31T15:49:44.119635Z</td>\n      <td>0500</td>\n      <td>Poultry Products</td>\n    </tr>\n  </tbody>\n</table>\n</div>"
     },
     "execution_count": 36,
     "metadata": {},
     "output_type": "execute_result"
    }
   ],
   "source": [
    "from src.features.vmh import get_raw_food_groups as get_data\n",
    "\n",
    "table = pd.DataFrame(get_data())\n",
    "table.head()"
   ],
   "metadata": {
    "collapsed": false,
    "ExecuteTime": {
     "end_time": "2023-10-25T09:18:44.341733Z",
     "start_time": "2023-10-25T09:18:43.784141Z"
    }
   },
   "id": "178ff59a12968e6"
  },
  {
   "cell_type": "markdown",
   "source": [
    "## Nutrients"
   ],
   "metadata": {
    "collapsed": false
   },
   "id": "6b43c6f54955e653"
  },
  {
   "cell_type": "code",
   "execution_count": 37,
   "outputs": [
    {
     "data": {
      "text/plain": "           mets                  createdDate                  updatedDate  \\\n0            []  2018-05-31T16:00:18.573911Z  2018-05-31T16:00:22.751416Z   \n1  [eidi1114ac]  2018-05-31T16:00:18.573911Z  2018-05-31T16:00:22.751416Z   \n2            []  2018-05-31T16:00:18.573911Z  2018-05-31T16:00:22.751416Z   \n3         [fru]  2018-05-31T16:00:18.573911Z  2018-05-31T16:00:22.751416Z   \n4            []  2018-05-31T16:00:18.573911Z  2018-05-31T16:00:22.751416Z   \n\n       nut_no unit tag_name                  description  \\\n0  BLSNUT0001   mg     None     Medium-chain fatty acids   \n1  BLSNUT0002   mg     None           Eicosadienoic acid   \n2  BLSNUT0003    g     None  Monounsaturated fatty acids   \n3  BLSNUT0004   mg     None                     Fructose   \n4  BLSNUT0005   mg     None                 Disaccharide   \n\n                   common_name  num_dec  sr_order       category  \\\n0     Medium-chain fatty acids      NaN       NaN         Lipids   \n1           Eicosadienoic acid      NaN       NaN         Lipids   \n2  Monounsaturated fatty acids      NaN       NaN         Lipids   \n3                     Fructose      NaN       NaN  Carbohydrates   \n4                 Disaccharide      NaN       NaN  Carbohydrates   \n\n                         subcategory  \n0     Total medium-chain fatty acids  \n1                         Fatty acid  \n2  Total monounsaturated fatty acids  \n3                     Monosaccharide  \n4                 Total disaccharide  ",
      "text/html": "<div>\n<style scoped>\n    .dataframe tbody tr th:only-of-type {\n        vertical-align: middle;\n    }\n\n    .dataframe tbody tr th {\n        vertical-align: top;\n    }\n\n    .dataframe thead th {\n        text-align: right;\n    }\n</style>\n<table border=\"1\" class=\"dataframe\">\n  <thead>\n    <tr style=\"text-align: right;\">\n      <th></th>\n      <th>mets</th>\n      <th>createdDate</th>\n      <th>updatedDate</th>\n      <th>nut_no</th>\n      <th>unit</th>\n      <th>tag_name</th>\n      <th>description</th>\n      <th>common_name</th>\n      <th>num_dec</th>\n      <th>sr_order</th>\n      <th>category</th>\n      <th>subcategory</th>\n    </tr>\n  </thead>\n  <tbody>\n    <tr>\n      <th>0</th>\n      <td>[]</td>\n      <td>2018-05-31T16:00:18.573911Z</td>\n      <td>2018-05-31T16:00:22.751416Z</td>\n      <td>BLSNUT0001</td>\n      <td>mg</td>\n      <td>None</td>\n      <td>Medium-chain fatty acids</td>\n      <td>Medium-chain fatty acids</td>\n      <td>NaN</td>\n      <td>NaN</td>\n      <td>Lipids</td>\n      <td>Total medium-chain fatty acids</td>\n    </tr>\n    <tr>\n      <th>1</th>\n      <td>[eidi1114ac]</td>\n      <td>2018-05-31T16:00:18.573911Z</td>\n      <td>2018-05-31T16:00:22.751416Z</td>\n      <td>BLSNUT0002</td>\n      <td>mg</td>\n      <td>None</td>\n      <td>Eicosadienoic acid</td>\n      <td>Eicosadienoic acid</td>\n      <td>NaN</td>\n      <td>NaN</td>\n      <td>Lipids</td>\n      <td>Fatty acid</td>\n    </tr>\n    <tr>\n      <th>2</th>\n      <td>[]</td>\n      <td>2018-05-31T16:00:18.573911Z</td>\n      <td>2018-05-31T16:00:22.751416Z</td>\n      <td>BLSNUT0003</td>\n      <td>g</td>\n      <td>None</td>\n      <td>Monounsaturated fatty acids</td>\n      <td>Monounsaturated fatty acids</td>\n      <td>NaN</td>\n      <td>NaN</td>\n      <td>Lipids</td>\n      <td>Total monounsaturated fatty acids</td>\n    </tr>\n    <tr>\n      <th>3</th>\n      <td>[fru]</td>\n      <td>2018-05-31T16:00:18.573911Z</td>\n      <td>2018-05-31T16:00:22.751416Z</td>\n      <td>BLSNUT0004</td>\n      <td>mg</td>\n      <td>None</td>\n      <td>Fructose</td>\n      <td>Fructose</td>\n      <td>NaN</td>\n      <td>NaN</td>\n      <td>Carbohydrates</td>\n      <td>Monosaccharide</td>\n    </tr>\n    <tr>\n      <th>4</th>\n      <td>[]</td>\n      <td>2018-05-31T16:00:18.573911Z</td>\n      <td>2018-05-31T16:00:22.751416Z</td>\n      <td>BLSNUT0005</td>\n      <td>mg</td>\n      <td>None</td>\n      <td>Disaccharide</td>\n      <td>Disaccharide</td>\n      <td>NaN</td>\n      <td>NaN</td>\n      <td>Carbohydrates</td>\n      <td>Total disaccharide</td>\n    </tr>\n  </tbody>\n</table>\n</div>"
     },
     "execution_count": 37,
     "metadata": {},
     "output_type": "execute_result"
    }
   ],
   "source": [
    "from src.features.vmh import get_raw_nutrients as get_data\n",
    "\n",
    "table = pd.DataFrame(get_data())\n",
    "table.head()"
   ],
   "metadata": {
    "collapsed": false,
    "ExecuteTime": {
     "end_time": "2023-10-25T09:18:44.427996Z",
     "start_time": "2023-10-25T09:18:43.790376Z"
    }
   },
   "id": "e6f16fdda898bf2d"
  },
  {
   "cell_type": "markdown",
   "source": [
    "## Nutrients to Foods"
   ],
   "metadata": {
    "collapsed": false
   },
   "id": "879c9ef7ad6cbfa4"
  },
  {
   "cell_type": "code",
   "execution_count": 38,
   "outputs": [
    {
     "data": {
      "text/plain": "        food                                           nutrient source deriv  \\\n0  USDA01001  {'mets': [], 'createdDate': '2018-05-31T16:00:...      1  None   \n1  USDA01001  {'mets': [], 'createdDate': '2018-05-31T16:00:...      1  None   \n2  USDA01001  {'mets': [], 'createdDate': '2018-05-31T16:00:...      4    NC   \n3  USDA01001  {'mets': [], 'createdDate': '2018-05-31T16:00:...      1  None   \n4  USDA01001  {'mets': [], 'createdDate': '2018-05-31T16:00:...      4    NC   \n\n                   createdDate                  updatedDate  nutr_value  \\\n0  2018-05-31T16:00:38.699404Z  2018-05-31T16:03:27.923196Z        0.85   \n1  2018-05-31T16:00:38.699404Z  2018-05-31T16:03:27.923196Z       81.11   \n2  2018-05-31T16:00:38.699404Z  2018-05-31T16:03:27.923196Z        0.06   \n3  2018-05-31T16:00:38.699404Z  2018-05-31T16:03:27.923196Z        2.11   \n4  2018-05-31T16:00:38.699404Z  2018-05-31T16:03:27.923196Z      717.00   \n\n  num_data_points  std_error add_nutr_mark  ...  min_nutr_value  \\\n0            None      0.074          None  ...             NaN   \n1            None      0.065          None  ...             NaN   \n2            None        NaN          None  ...             NaN   \n3            None      0.054          None  ...             NaN   \n4            None        NaN          None  ...             NaN   \n\n   max_nutr_value  df  low_eb  up_eb  stat_cmt addmod_date    cc ref_food  \\\n0            None NaN     NaN    NaN      None     11/1976  None      NaN   \n1            None NaN     NaN    NaN      None     11/1976  None      NaN   \n2            None NaN     NaN    NaN      None     11/1976  None      NaN   \n3            None NaN     NaN    NaN      None     11/1976  None      NaN   \n4            None NaN     NaN    NaN      None     08/2010  None      NaN   \n\n   lit_sources  \n0           []  \n1           []  \n2           []  \n3           []  \n4           []  \n\n[5 rows x 21 columns]",
      "text/html": "<div>\n<style scoped>\n    .dataframe tbody tr th:only-of-type {\n        vertical-align: middle;\n    }\n\n    .dataframe tbody tr th {\n        vertical-align: top;\n    }\n\n    .dataframe thead th {\n        text-align: right;\n    }\n</style>\n<table border=\"1\" class=\"dataframe\">\n  <thead>\n    <tr style=\"text-align: right;\">\n      <th></th>\n      <th>food</th>\n      <th>nutrient</th>\n      <th>source</th>\n      <th>deriv</th>\n      <th>createdDate</th>\n      <th>updatedDate</th>\n      <th>nutr_value</th>\n      <th>num_data_points</th>\n      <th>std_error</th>\n      <th>add_nutr_mark</th>\n      <th>...</th>\n      <th>min_nutr_value</th>\n      <th>max_nutr_value</th>\n      <th>df</th>\n      <th>low_eb</th>\n      <th>up_eb</th>\n      <th>stat_cmt</th>\n      <th>addmod_date</th>\n      <th>cc</th>\n      <th>ref_food</th>\n      <th>lit_sources</th>\n    </tr>\n  </thead>\n  <tbody>\n    <tr>\n      <th>0</th>\n      <td>USDA01001</td>\n      <td>{'mets': [], 'createdDate': '2018-05-31T16:00:...</td>\n      <td>1</td>\n      <td>None</td>\n      <td>2018-05-31T16:00:38.699404Z</td>\n      <td>2018-05-31T16:03:27.923196Z</td>\n      <td>0.85</td>\n      <td>None</td>\n      <td>0.074</td>\n      <td>None</td>\n      <td>...</td>\n      <td>NaN</td>\n      <td>None</td>\n      <td>NaN</td>\n      <td>NaN</td>\n      <td>NaN</td>\n      <td>None</td>\n      <td>11/1976</td>\n      <td>None</td>\n      <td>NaN</td>\n      <td>[]</td>\n    </tr>\n    <tr>\n      <th>1</th>\n      <td>USDA01001</td>\n      <td>{'mets': [], 'createdDate': '2018-05-31T16:00:...</td>\n      <td>1</td>\n      <td>None</td>\n      <td>2018-05-31T16:00:38.699404Z</td>\n      <td>2018-05-31T16:03:27.923196Z</td>\n      <td>81.11</td>\n      <td>None</td>\n      <td>0.065</td>\n      <td>None</td>\n      <td>...</td>\n      <td>NaN</td>\n      <td>None</td>\n      <td>NaN</td>\n      <td>NaN</td>\n      <td>NaN</td>\n      <td>None</td>\n      <td>11/1976</td>\n      <td>None</td>\n      <td>NaN</td>\n      <td>[]</td>\n    </tr>\n    <tr>\n      <th>2</th>\n      <td>USDA01001</td>\n      <td>{'mets': [], 'createdDate': '2018-05-31T16:00:...</td>\n      <td>4</td>\n      <td>NC</td>\n      <td>2018-05-31T16:00:38.699404Z</td>\n      <td>2018-05-31T16:03:27.923196Z</td>\n      <td>0.06</td>\n      <td>None</td>\n      <td>NaN</td>\n      <td>None</td>\n      <td>...</td>\n      <td>NaN</td>\n      <td>None</td>\n      <td>NaN</td>\n      <td>NaN</td>\n      <td>NaN</td>\n      <td>None</td>\n      <td>11/1976</td>\n      <td>None</td>\n      <td>NaN</td>\n      <td>[]</td>\n    </tr>\n    <tr>\n      <th>3</th>\n      <td>USDA01001</td>\n      <td>{'mets': [], 'createdDate': '2018-05-31T16:00:...</td>\n      <td>1</td>\n      <td>None</td>\n      <td>2018-05-31T16:00:38.699404Z</td>\n      <td>2018-05-31T16:03:27.923196Z</td>\n      <td>2.11</td>\n      <td>None</td>\n      <td>0.054</td>\n      <td>None</td>\n      <td>...</td>\n      <td>NaN</td>\n      <td>None</td>\n      <td>NaN</td>\n      <td>NaN</td>\n      <td>NaN</td>\n      <td>None</td>\n      <td>11/1976</td>\n      <td>None</td>\n      <td>NaN</td>\n      <td>[]</td>\n    </tr>\n    <tr>\n      <th>4</th>\n      <td>USDA01001</td>\n      <td>{'mets': [], 'createdDate': '2018-05-31T16:00:...</td>\n      <td>4</td>\n      <td>NC</td>\n      <td>2018-05-31T16:00:38.699404Z</td>\n      <td>2018-05-31T16:03:27.923196Z</td>\n      <td>717.00</td>\n      <td>None</td>\n      <td>NaN</td>\n      <td>None</td>\n      <td>...</td>\n      <td>NaN</td>\n      <td>None</td>\n      <td>NaN</td>\n      <td>NaN</td>\n      <td>NaN</td>\n      <td>None</td>\n      <td>08/2010</td>\n      <td>None</td>\n      <td>NaN</td>\n      <td>[]</td>\n    </tr>\n  </tbody>\n</table>\n<p>5 rows × 21 columns</p>\n</div>"
     },
     "execution_count": 38,
     "metadata": {},
     "output_type": "execute_result"
    }
   ],
   "source": [
    "from src.features.vmh import get_raw_nutrients_to_food as get_data\n",
    "\n",
    "table = pd.DataFrame(get_data())\n",
    "table.head()"
   ],
   "metadata": {
    "collapsed": false,
    "ExecuteTime": {
     "end_time": "2023-10-25T09:18:44.433901Z",
     "start_time": "2023-10-25T09:18:43.798707Z"
    }
   },
   "id": "659f81a042e4c54d"
  },
  {
   "cell_type": "markdown",
   "source": [
    "# Subsystem Reactions"
   ],
   "metadata": {
    "collapsed": false
   },
   "id": "37c452f7bcc698f"
  },
  {
   "cell_type": "code",
   "execution_count": 39,
   "outputs": [
    {
     "data": {
      "text/plain": "                   createdDate                  updatedDate  \\\n0  2018-05-31T16:17:46.619628Z  2018-05-31T16:17:49.621478Z   \n1  2018-05-31T16:17:46.619628Z  2018-05-31T16:17:49.621478Z   \n2  2018-05-31T16:17:46.619628Z  2018-05-31T16:17:49.621478Z   \n3  2018-05-31T16:17:46.619628Z  2018-05-31T16:17:49.621478Z   \n4  2018-05-31T16:17:46.619628Z  2018-05-31T16:17:49.621478Z   \n\n                          name  \\\n0           Alkaloid synthesis   \n1        Vitamin B2 metabolism   \n2         Protein modification   \n3           Peptide metabolism   \n4  Nucleotide sugar metabolism   \n\n                                                rxns  \n0                      [711, 1135, 1140, 2728, 2919]  \n1  [242, 1639, 6348, 7269, 10629, 12262, 12322, 1...  \n2  [19667, 19668, 19669, 19670, 19672, 19673, 196...  \n3  [8664, 8665, 8666, 8667, 8668, 8669, 8670, 867...  \n4                  [3467, 3595, 13082, 13280, 13282]  ",
      "text/html": "<div>\n<style scoped>\n    .dataframe tbody tr th:only-of-type {\n        vertical-align: middle;\n    }\n\n    .dataframe tbody tr th {\n        vertical-align: top;\n    }\n\n    .dataframe thead th {\n        text-align: right;\n    }\n</style>\n<table border=\"1\" class=\"dataframe\">\n  <thead>\n    <tr style=\"text-align: right;\">\n      <th></th>\n      <th>createdDate</th>\n      <th>updatedDate</th>\n      <th>name</th>\n      <th>rxns</th>\n    </tr>\n  </thead>\n  <tbody>\n    <tr>\n      <th>0</th>\n      <td>2018-05-31T16:17:46.619628Z</td>\n      <td>2018-05-31T16:17:49.621478Z</td>\n      <td>Alkaloid synthesis</td>\n      <td>[711, 1135, 1140, 2728, 2919]</td>\n    </tr>\n    <tr>\n      <th>1</th>\n      <td>2018-05-31T16:17:46.619628Z</td>\n      <td>2018-05-31T16:17:49.621478Z</td>\n      <td>Vitamin B2 metabolism</td>\n      <td>[242, 1639, 6348, 7269, 10629, 12262, 12322, 1...</td>\n    </tr>\n    <tr>\n      <th>2</th>\n      <td>2018-05-31T16:17:46.619628Z</td>\n      <td>2018-05-31T16:17:49.621478Z</td>\n      <td>Protein modification</td>\n      <td>[19667, 19668, 19669, 19670, 19672, 19673, 196...</td>\n    </tr>\n    <tr>\n      <th>3</th>\n      <td>2018-05-31T16:17:46.619628Z</td>\n      <td>2018-05-31T16:17:49.621478Z</td>\n      <td>Peptide metabolism</td>\n      <td>[8664, 8665, 8666, 8667, 8668, 8669, 8670, 867...</td>\n    </tr>\n    <tr>\n      <th>4</th>\n      <td>2018-05-31T16:17:46.619628Z</td>\n      <td>2018-05-31T16:17:49.621478Z</td>\n      <td>Nucleotide sugar metabolism</td>\n      <td>[3467, 3595, 13082, 13280, 13282]</td>\n    </tr>\n  </tbody>\n</table>\n</div>"
     },
     "execution_count": 39,
     "metadata": {},
     "output_type": "execute_result"
    }
   ],
   "source": [
    "from src.features.vmh import get_raw_subsystem_reactions as get_data\n",
    "\n",
    "table = pd.DataFrame(get_data())\n",
    "table.head()"
   ],
   "metadata": {
    "collapsed": false,
    "ExecuteTime": {
     "end_time": "2023-10-25T09:18:44.434080Z",
     "start_time": "2023-10-25T09:18:43.820280Z"
    }
   },
   "id": "b1ed5aede3c2b6b5"
  },
  {
   "cell_type": "markdown",
   "source": [
    "# Comp Gen Status List"
   ],
   "metadata": {
    "collapsed": false
   },
   "id": "fbefa5bc000f0d51"
  },
  {
   "cell_type": "markdown",
   "source": [
    "endpoint to view the information on comparative genomic analysis performed for microbe reconstructions"
   ],
   "metadata": {
    "collapsed": false
   },
   "id": "adc4002efce80ac"
  },
  {
   "cell_type": "code",
   "execution_count": 40,
   "outputs": [
    {
     "data": {
      "text/plain": "   id                                            microbe  \\\n0   1  {'reconstruction': 'Abiotrophia_defectiva_ATCC...   \n1   2  {'reconstruction': 'Abiotrophia_defectiva_ATCC...   \n2   3  {'reconstruction': 'Abiotrophia_defectiva_ATCC...   \n3   4  {'reconstruction': 'Abiotrophia_defectiva_ATCC...   \n4   5  {'reconstruction': 'Abiotrophia_defectiva_ATCC...   \n\n                   createdDate                  updatedDate  \\\n0  2018-05-31T15:42:22.477428Z  2018-05-31T15:42:35.779976Z   \n1  2018-05-31T15:42:22.477428Z  2018-05-31T15:42:35.779976Z   \n2  2018-05-31T15:42:22.477428Z  2018-05-31T15:42:35.779976Z   \n3  2018-05-31T15:42:22.477428Z  2018-05-31T15:42:35.779976Z   \n4  2018-05-31T15:42:22.477428Z  2018-05-31T15:42:35.779976Z   \n\n                                pathway      status  \n0     Amino acids biosynthesis: Glycine    Complete  \n1    Amino acids biosynthesis: Tyrosine    Complete  \n2  B-vitamin biosynthesis: Pantothenate  Fragmented  \n3  Amino acids biosynthesis: Methionine    Complete  \n4      Amino acids biosynthesis: Valine    Complete  ",
      "text/html": "<div>\n<style scoped>\n    .dataframe tbody tr th:only-of-type {\n        vertical-align: middle;\n    }\n\n    .dataframe tbody tr th {\n        vertical-align: top;\n    }\n\n    .dataframe thead th {\n        text-align: right;\n    }\n</style>\n<table border=\"1\" class=\"dataframe\">\n  <thead>\n    <tr style=\"text-align: right;\">\n      <th></th>\n      <th>id</th>\n      <th>microbe</th>\n      <th>createdDate</th>\n      <th>updatedDate</th>\n      <th>pathway</th>\n      <th>status</th>\n    </tr>\n  </thead>\n  <tbody>\n    <tr>\n      <th>0</th>\n      <td>1</td>\n      <td>{'reconstruction': 'Abiotrophia_defectiva_ATCC...</td>\n      <td>2018-05-31T15:42:22.477428Z</td>\n      <td>2018-05-31T15:42:35.779976Z</td>\n      <td>Amino acids biosynthesis: Glycine</td>\n      <td>Complete</td>\n    </tr>\n    <tr>\n      <th>1</th>\n      <td>2</td>\n      <td>{'reconstruction': 'Abiotrophia_defectiva_ATCC...</td>\n      <td>2018-05-31T15:42:22.477428Z</td>\n      <td>2018-05-31T15:42:35.779976Z</td>\n      <td>Amino acids biosynthesis: Tyrosine</td>\n      <td>Complete</td>\n    </tr>\n    <tr>\n      <th>2</th>\n      <td>3</td>\n      <td>{'reconstruction': 'Abiotrophia_defectiva_ATCC...</td>\n      <td>2018-05-31T15:42:22.477428Z</td>\n      <td>2018-05-31T15:42:35.779976Z</td>\n      <td>B-vitamin biosynthesis: Pantothenate</td>\n      <td>Fragmented</td>\n    </tr>\n    <tr>\n      <th>3</th>\n      <td>4</td>\n      <td>{'reconstruction': 'Abiotrophia_defectiva_ATCC...</td>\n      <td>2018-05-31T15:42:22.477428Z</td>\n      <td>2018-05-31T15:42:35.779976Z</td>\n      <td>Amino acids biosynthesis: Methionine</td>\n      <td>Complete</td>\n    </tr>\n    <tr>\n      <th>4</th>\n      <td>5</td>\n      <td>{'reconstruction': 'Abiotrophia_defectiva_ATCC...</td>\n      <td>2018-05-31T15:42:22.477428Z</td>\n      <td>2018-05-31T15:42:35.779976Z</td>\n      <td>Amino acids biosynthesis: Valine</td>\n      <td>Complete</td>\n    </tr>\n  </tbody>\n</table>\n</div>"
     },
     "execution_count": 40,
     "metadata": {},
     "output_type": "execute_result"
    }
   ],
   "source": [
    "from src.features.vmh import get_raw_comparative_genomic_analysis as get_data\n",
    "\n",
    "table = pd.DataFrame(get_data())\n",
    "table.head()"
   ],
   "metadata": {
    "collapsed": false,
    "ExecuteTime": {
     "end_time": "2023-10-25T09:18:44.434344Z",
     "start_time": "2023-10-25T09:18:43.829142Z"
    }
   },
   "id": "e8e1c82dae9904b3"
  }
 ],
 "metadata": {
  "kernelspec": {
   "display_name": "Python 3",
   "language": "python",
   "name": "python3"
  },
  "language_info": {
   "codemirror_mode": {
    "name": "ipython",
    "version": 2
   },
   "file_extension": ".py",
   "mimetype": "text/x-python",
   "name": "python",
   "nbconvert_exporter": "python",
   "pygments_lexer": "ipython2",
   "version": "2.7.6"
  }
 },
 "nbformat": 4,
 "nbformat_minor": 5
}
