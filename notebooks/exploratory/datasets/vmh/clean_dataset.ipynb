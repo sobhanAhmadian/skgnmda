{
 "cells": [
  {
   "cell_type": "code",
   "execution_count": 4,
   "outputs": [
    {
     "name": "stdout",
     "output_type": "stream",
     "text": [
      "/home/user/Documents/Students/Sobhan Ahmadian/Projects/SKGNMDA\n"
     ]
    }
   ],
   "source": [
    "cd .."
   ],
   "metadata": {
    "collapsed": false,
    "ExecuteTime": {
     "end_time": "2023-12-07T09:38:00.493068175Z",
     "start_time": "2023-12-07T09:38:00.475811231Z"
    }
   },
   "id": "f3dc66a324073e59"
  },
  {
   "cell_type": "markdown",
   "source": [
    "# Requirements"
   ],
   "metadata": {
    "collapsed": false
   },
   "id": "5b7ad88ec2c60307"
  },
  {
   "cell_type": "code",
   "execution_count": 5,
   "outputs": [],
   "source": [
    "import pandas as pd\n",
    "import networkx as nx"
   ],
   "metadata": {
    "collapsed": false,
    "ExecuteTime": {
     "end_time": "2023-12-07T09:38:03.196374877Z",
     "start_time": "2023-12-07T09:38:02.767568303Z"
    }
   },
   "id": "b38cc98d3f2badd4"
  },
  {
   "cell_type": "code",
   "execution_count": null,
   "outputs": [],
   "source": [],
   "metadata": {
    "collapsed": false
   },
   "id": "c8c16b69fa607cd3"
  },
  {
   "cell_type": "code",
   "execution_count": 8,
   "outputs": [],
   "source": [
    "def reset_vars_except(*var_names):\n",
    "    globals_ = globals()\n",
    "    to_save = {v: globals_[v] for v in var_names}\n",
    "    to_save['reset_vars_except'] = reset_vars_except  # let's keep this function by default\n",
    "    to_save['pd'] = pd\n",
    "    del globals_\n",
    "    get_ipython().magic(\"reset\")\n",
    "    globals().update(to_save)\n",
    "    \n",
    "    import ctypes\n",
    "    ctypes.CDLL(\"libc.so.6\").malloc_trim(0) \n",
    "    \n",
    "    import gc\n",
    "    gc.collect()"
   ],
   "metadata": {
    "collapsed": false,
    "ExecuteTime": {
     "end_time": "2023-12-07T09:17:25.128699957Z",
     "start_time": "2023-12-07T09:17:25.120224258Z"
    }
   },
   "id": "5aefdb879cf8409"
  },
  {
   "cell_type": "markdown",
   "source": [
    "# Raw Data"
   ],
   "metadata": {
    "collapsed": false
   },
   "id": "5608eda0841ea4be"
  },
  {
   "cell_type": "markdown",
   "source": [
    "## Microbes"
   ],
   "metadata": {
    "collapsed": false
   },
   "id": "23ced6a7ec9176cb"
  },
  {
   "cell_type": "code",
   "execution_count": 6,
   "outputs": [
    {
     "data": {
      "text/plain": "                          reconstruction                  createdDate  \\\n0       Abiotrophia_defectiva_ATCC_49176  2018-05-31T15:54:50.086322Z   \n1          Achromobacter_xylosoxidans_A8  2018-05-31T15:54:50.086322Z   \n2  Achromobacter_xylosoxidans_NBRC_15126  2018-05-31T15:54:50.086322Z   \n3   Acidaminococcus_fermentans_DSM_20731  2018-05-31T15:54:50.086322Z   \n4     Acidaminococcus_intestini_RyC_MR95  2018-05-31T15:54:50.086322Z   \n\n                   updatedDate  \\\n0  2019-02-08T16:14:50.953084Z   \n1  2019-02-08T16:14:51.176225Z   \n2  2019-02-08T16:14:51.635907Z   \n3  2019-02-08T16:14:51.897149Z   \n4  2019-02-08T16:14:52.231577Z   \n\n                                            organism  \\\n0                   Abiotrophia defectiva ATCC 49176   \n1                      Achromobacter xylosoxidans A8   \n2  Achromobacter xylosoxidans NBRC 15126 = ATCC 2...   \n3               Acidaminococcus fermentans DSM 20731   \n4                 Acidaminococcus intestini RyC-MR95   \n\n                                            seedid   kingdom          phylum  \\\n0      Abiotrophia defectiva ATCC 49176 (592010.4)  Bacteria      Firmicutes   \n1         Achromobacter xylosoxidans A8 (762376.5)  Bacteria  Proteobacteria   \n2                                             None  Bacteria  Proteobacteria   \n3  Acidaminococcus fermentans DSM 20731 (591001.3)  Bacteria      Firmicutes   \n4    Acidaminococcus intestini RyC-MR95 (568816.4)  Bacteria      Firmicutes   \n\n               mclass              order              family  ...     goldId  \\\n0             Bacilli    Lactobacillales       Aerococcaceae  ...  Go0004152   \n1  Betaproteobacteria    Burkholderiales      Alcaligenaceae  ...  Go0007620   \n2  Betaproteobacteria    Burkholderiales      Alcaligenaceae  ...              \n3       Negativicutes  Acidaminococcales  Acidaminococcaceae  ...  Go0001186   \n4       Negativicutes    Selenomonadales  Acidaminococcaceae  ...  Go0004062   \n\n   uniProt                                   ensemblBacteria              ena  \\\n0   592010                  Abiotrophia_defectiva_atcc_49176  GCA_000160075.2   \n1   762376                     Achromobacter_xylosoxidans_a8  GCA_000165835.1   \n2  1216976  Achromobacter_xylosoxidans_nbrc_15126_atcc_27061  GCA_000508285.1   \n3   591001              Acidaminococcus_fermentans_dsm_20731  GCA_000025305.1   \n4   568816                Acidaminococcus_intestini_ryc_mr95  GCA_000230275.1   \n\n             microbeWiki   platform             kbaseid prevRef currRef  \\\n0  Abiotrophia_defectiva  ModelSEED                        None    None   \n1                         ModelSEED  kb_g_3268_model_gf    None    None   \n2                             Kbase         kb|g.208127    None    None   \n3                             Kbase           kb|g.2555    None    None   \n4                             Kbase                        None    None   \n\n  scaffolds  \n0      20.0  \n1       NaN  \n2       NaN  \n3       1.0  \n4       1.0  \n\n[5 rows x 38 columns]",
      "text/html": "<div>\n<style scoped>\n    .dataframe tbody tr th:only-of-type {\n        vertical-align: middle;\n    }\n\n    .dataframe tbody tr th {\n        vertical-align: top;\n    }\n\n    .dataframe thead th {\n        text-align: right;\n    }\n</style>\n<table border=\"1\" class=\"dataframe\">\n  <thead>\n    <tr style=\"text-align: right;\">\n      <th></th>\n      <th>reconstruction</th>\n      <th>createdDate</th>\n      <th>updatedDate</th>\n      <th>organism</th>\n      <th>seedid</th>\n      <th>kingdom</th>\n      <th>phylum</th>\n      <th>mclass</th>\n      <th>order</th>\n      <th>family</th>\n      <th>...</th>\n      <th>goldId</th>\n      <th>uniProt</th>\n      <th>ensemblBacteria</th>\n      <th>ena</th>\n      <th>microbeWiki</th>\n      <th>platform</th>\n      <th>kbaseid</th>\n      <th>prevRef</th>\n      <th>currRef</th>\n      <th>scaffolds</th>\n    </tr>\n  </thead>\n  <tbody>\n    <tr>\n      <th>0</th>\n      <td>Abiotrophia_defectiva_ATCC_49176</td>\n      <td>2018-05-31T15:54:50.086322Z</td>\n      <td>2019-02-08T16:14:50.953084Z</td>\n      <td>Abiotrophia defectiva ATCC 49176</td>\n      <td>Abiotrophia defectiva ATCC 49176 (592010.4)</td>\n      <td>Bacteria</td>\n      <td>Firmicutes</td>\n      <td>Bacilli</td>\n      <td>Lactobacillales</td>\n      <td>Aerococcaceae</td>\n      <td>...</td>\n      <td>Go0004152</td>\n      <td>592010</td>\n      <td>Abiotrophia_defectiva_atcc_49176</td>\n      <td>GCA_000160075.2</td>\n      <td>Abiotrophia_defectiva</td>\n      <td>ModelSEED</td>\n      <td></td>\n      <td>None</td>\n      <td>None</td>\n      <td>20.0</td>\n    </tr>\n    <tr>\n      <th>1</th>\n      <td>Achromobacter_xylosoxidans_A8</td>\n      <td>2018-05-31T15:54:50.086322Z</td>\n      <td>2019-02-08T16:14:51.176225Z</td>\n      <td>Achromobacter xylosoxidans A8</td>\n      <td>Achromobacter xylosoxidans A8 (762376.5)</td>\n      <td>Bacteria</td>\n      <td>Proteobacteria</td>\n      <td>Betaproteobacteria</td>\n      <td>Burkholderiales</td>\n      <td>Alcaligenaceae</td>\n      <td>...</td>\n      <td>Go0007620</td>\n      <td>762376</td>\n      <td>Achromobacter_xylosoxidans_a8</td>\n      <td>GCA_000165835.1</td>\n      <td></td>\n      <td>ModelSEED</td>\n      <td>kb_g_3268_model_gf</td>\n      <td>None</td>\n      <td>None</td>\n      <td>NaN</td>\n    </tr>\n    <tr>\n      <th>2</th>\n      <td>Achromobacter_xylosoxidans_NBRC_15126</td>\n      <td>2018-05-31T15:54:50.086322Z</td>\n      <td>2019-02-08T16:14:51.635907Z</td>\n      <td>Achromobacter xylosoxidans NBRC 15126 = ATCC 2...</td>\n      <td>None</td>\n      <td>Bacteria</td>\n      <td>Proteobacteria</td>\n      <td>Betaproteobacteria</td>\n      <td>Burkholderiales</td>\n      <td>Alcaligenaceae</td>\n      <td>...</td>\n      <td></td>\n      <td>1216976</td>\n      <td>Achromobacter_xylosoxidans_nbrc_15126_atcc_27061</td>\n      <td>GCA_000508285.1</td>\n      <td></td>\n      <td>Kbase</td>\n      <td>kb|g.208127</td>\n      <td>None</td>\n      <td>None</td>\n      <td>NaN</td>\n    </tr>\n    <tr>\n      <th>3</th>\n      <td>Acidaminococcus_fermentans_DSM_20731</td>\n      <td>2018-05-31T15:54:50.086322Z</td>\n      <td>2019-02-08T16:14:51.897149Z</td>\n      <td>Acidaminococcus fermentans DSM 20731</td>\n      <td>Acidaminococcus fermentans DSM 20731 (591001.3)</td>\n      <td>Bacteria</td>\n      <td>Firmicutes</td>\n      <td>Negativicutes</td>\n      <td>Acidaminococcales</td>\n      <td>Acidaminococcaceae</td>\n      <td>...</td>\n      <td>Go0001186</td>\n      <td>591001</td>\n      <td>Acidaminococcus_fermentans_dsm_20731</td>\n      <td>GCA_000025305.1</td>\n      <td></td>\n      <td>Kbase</td>\n      <td>kb|g.2555</td>\n      <td>None</td>\n      <td>None</td>\n      <td>1.0</td>\n    </tr>\n    <tr>\n      <th>4</th>\n      <td>Acidaminococcus_intestini_RyC_MR95</td>\n      <td>2018-05-31T15:54:50.086322Z</td>\n      <td>2019-02-08T16:14:52.231577Z</td>\n      <td>Acidaminococcus intestini RyC-MR95</td>\n      <td>Acidaminococcus intestini RyC-MR95 (568816.4)</td>\n      <td>Bacteria</td>\n      <td>Firmicutes</td>\n      <td>Negativicutes</td>\n      <td>Selenomonadales</td>\n      <td>Acidaminococcaceae</td>\n      <td>...</td>\n      <td>Go0004062</td>\n      <td>568816</td>\n      <td>Acidaminococcus_intestini_ryc_mr95</td>\n      <td>GCA_000230275.1</td>\n      <td></td>\n      <td>Kbase</td>\n      <td></td>\n      <td>None</td>\n      <td>None</td>\n      <td>1.0</td>\n    </tr>\n  </tbody>\n</table>\n<p>5 rows × 38 columns</p>\n</div>"
     },
     "execution_count": 6,
     "metadata": {},
     "output_type": "execute_result"
    }
   ],
   "source": [
    "from src.features.vmh import get_raw_microbes\n",
    "\n",
    "raw_microbes_df = pd.DataFrame(get_raw_microbes())\n",
    "raw_microbes_df.head()"
   ],
   "metadata": {
    "collapsed": false,
    "ExecuteTime": {
     "end_time": "2023-12-07T09:38:07.797749469Z",
     "start_time": "2023-12-07T09:38:07.723490318Z"
    }
   },
   "id": "f577dcc5a23e8a8a"
  },
  {
   "cell_type": "code",
   "execution_count": 13,
   "outputs": [
    {
     "data": {
      "text/plain": "0"
     },
     "execution_count": 13,
     "metadata": {},
     "output_type": "execute_result"
    }
   ],
   "source": [
    "sum(raw_microbes_df['organism'].isna())"
   ],
   "metadata": {
    "collapsed": false,
    "ExecuteTime": {
     "end_time": "2023-12-07T09:42:17.991115193Z",
     "start_time": "2023-12-07T09:42:17.979385823Z"
    }
   },
   "id": "1c004cc710629dd7"
  },
  {
   "cell_type": "code",
   "execution_count": 7,
   "outputs": [
    {
     "name": "stdout",
     "output_type": "stream",
     "text": [
      "shape of microbe table (818, 38)\n"
     ]
    }
   ],
   "source": [
    "print(f'shape of microbe table {raw_microbes_df.shape}')"
   ],
   "metadata": {
    "collapsed": false,
    "ExecuteTime": {
     "end_time": "2023-12-07T09:38:09.850242377Z",
     "start_time": "2023-12-07T09:38:09.830839838Z"
    }
   },
   "id": "6f04e5fec7d36cc"
  },
  {
   "cell_type": "code",
   "execution_count": 11,
   "outputs": [
    {
     "name": "stderr",
     "output_type": "stream",
     "text": [
      "/tmp/ipykernel_12006/995731039.py:7: DeprecationWarning: `magic(...)` is deprecated since IPython 0.13 (warning added in 8.1), use run_line_magic(magic_name, parameter_s).\n",
      "  get_ipython().magic(\"reset\")\n"
     ]
    }
   ],
   "source": [
    "reset_vars_except()"
   ],
   "metadata": {
    "collapsed": false,
    "ExecuteTime": {
     "end_time": "2023-12-07T09:18:06.499883328Z",
     "start_time": "2023-12-07T09:18:03.996200922Z"
    }
   },
   "id": "8f21427453ac1b59"
  },
  {
   "cell_type": "markdown",
   "source": [
    "## Diseases"
   ],
   "metadata": {
    "collapsed": false
   },
   "id": "86fdcdbe4a415369"
  },
  {
   "cell_type": "code",
   "execution_count": 12,
   "outputs": [
    {
     "data": {
      "text/plain": "                   createdDate                  updatedDate abbreviation  \\\n0  2018-05-31T15:53:21.702280Z  2018-09-24T15:08:08.256544Z          BS1   \n1  2018-05-31T15:53:21.702280Z  2018-09-24T15:08:08.379909Z         3MGA   \n2  2018-05-31T15:53:21.702280Z  2018-09-24T15:08:08.625385Z        FLIPO   \n3  2018-05-31T15:53:21.702280Z  2018-09-24T15:08:09.902427Z         ACAD   \n4  2018-05-31T15:53:21.702280Z  2018-09-24T15:08:10.069961Z         PALD   \n\n                                  name                         dtype  \\\n0             Bartter Syndrome, Type 1  Inherited metabolic disorder   \n1   3-Methylglutaconic Aciduria Type I  Inherited metabolic disorder   \n2            Farber Lipogranulomatosis  Inherited metabolic disorder   \n3    Acetyl-Coa Carboxylase Deficiency  Inherited metabolic disorder   \n4  Pseudoneonatal Adrenoleukodystrophy  Inherited metabolic disorder   \n\n                                   subtype          inheritance    omim  \\\n0  Sodium-potassium-chloride cotransporter  Autosomal recessive  601678   \n1                   Organic acid disorders  Autosomal recessive  250950   \n2                       Lysosomal disorder  Autosomal recessive  228000   \n3                           Lipid disorder                 None  200350   \n4            Beta oxidation of fatty acids  Autosomal recessive  264470   \n\n      gtr     mgi  ... clingendosage   igsr1000genoms gwascataloge  \\\n0  601678  601678  ...       SLC12A1  ENSG00000074803      SLC12A1   \n1  250950  250950  ...           AUH  ENSG00000148090          AUH   \n2  228000  228000  ...         ASAH1  ENSG00000104763        ASAH1   \n3  200350          ...         ACACA  ENSG00000275176        ACACA   \n4  264470  264470  ...         ACOX1  ENSG00000161533        ACOX1   \n\n  gwascentral  geno2mp clinvar     lovd                              malacard  \\\n0     SLC12A1  SLC12A1  600839  SLC12A1     bartter_syndrome_type_1_antenatal   \n1         AUH      AUH  600529      AUH  3_methylglutaconic_aciduria_type_i_2   \n2       ASAH1    ASAH1  613468    ASAH1             farber_lipogranulomatosis   \n3       ACACA    ACACA  200350    ACACA     acetyl_coa_carboxylase_deficiency   \n4       ACOX1    ACOX1  609751    ACOX1                                  None   \n\n  omim_symptons                                              notes  \n0        601678  Amniotic fluid contains high chloride, moderat...  \n1        250950  In urine-elevated 3-hydroxyisovaleric acid, 3-...  \n2        228000  Acid ceramidase activity decreases in fibroblast.  \n3          None  Hypotonic myopathy and neurologic damage, excr...  \n4        264470  Increased very long chain fatty acids and decr...  \n\n[5 rows x 33 columns]",
      "text/html": "<div>\n<style scoped>\n    .dataframe tbody tr th:only-of-type {\n        vertical-align: middle;\n    }\n\n    .dataframe tbody tr th {\n        vertical-align: top;\n    }\n\n    .dataframe thead th {\n        text-align: right;\n    }\n</style>\n<table border=\"1\" class=\"dataframe\">\n  <thead>\n    <tr style=\"text-align: right;\">\n      <th></th>\n      <th>createdDate</th>\n      <th>updatedDate</th>\n      <th>abbreviation</th>\n      <th>name</th>\n      <th>dtype</th>\n      <th>subtype</th>\n      <th>inheritance</th>\n      <th>omim</th>\n      <th>gtr</th>\n      <th>mgi</th>\n      <th>...</th>\n      <th>clingendosage</th>\n      <th>igsr1000genoms</th>\n      <th>gwascataloge</th>\n      <th>gwascentral</th>\n      <th>geno2mp</th>\n      <th>clinvar</th>\n      <th>lovd</th>\n      <th>malacard</th>\n      <th>omim_symptons</th>\n      <th>notes</th>\n    </tr>\n  </thead>\n  <tbody>\n    <tr>\n      <th>0</th>\n      <td>2018-05-31T15:53:21.702280Z</td>\n      <td>2018-09-24T15:08:08.256544Z</td>\n      <td>BS1</td>\n      <td>Bartter Syndrome, Type 1</td>\n      <td>Inherited metabolic disorder</td>\n      <td>Sodium-potassium-chloride cotransporter</td>\n      <td>Autosomal recessive</td>\n      <td>601678</td>\n      <td>601678</td>\n      <td>601678</td>\n      <td>...</td>\n      <td>SLC12A1</td>\n      <td>ENSG00000074803</td>\n      <td>SLC12A1</td>\n      <td>SLC12A1</td>\n      <td>SLC12A1</td>\n      <td>600839</td>\n      <td>SLC12A1</td>\n      <td>bartter_syndrome_type_1_antenatal</td>\n      <td>601678</td>\n      <td>Amniotic fluid contains high chloride, moderat...</td>\n    </tr>\n    <tr>\n      <th>1</th>\n      <td>2018-05-31T15:53:21.702280Z</td>\n      <td>2018-09-24T15:08:08.379909Z</td>\n      <td>3MGA</td>\n      <td>3-Methylglutaconic Aciduria Type I</td>\n      <td>Inherited metabolic disorder</td>\n      <td>Organic acid disorders</td>\n      <td>Autosomal recessive</td>\n      <td>250950</td>\n      <td>250950</td>\n      <td>250950</td>\n      <td>...</td>\n      <td>AUH</td>\n      <td>ENSG00000148090</td>\n      <td>AUH</td>\n      <td>AUH</td>\n      <td>AUH</td>\n      <td>600529</td>\n      <td>AUH</td>\n      <td>3_methylglutaconic_aciduria_type_i_2</td>\n      <td>250950</td>\n      <td>In urine-elevated 3-hydroxyisovaleric acid, 3-...</td>\n    </tr>\n    <tr>\n      <th>2</th>\n      <td>2018-05-31T15:53:21.702280Z</td>\n      <td>2018-09-24T15:08:08.625385Z</td>\n      <td>FLIPO</td>\n      <td>Farber Lipogranulomatosis</td>\n      <td>Inherited metabolic disorder</td>\n      <td>Lysosomal disorder</td>\n      <td>Autosomal recessive</td>\n      <td>228000</td>\n      <td>228000</td>\n      <td>228000</td>\n      <td>...</td>\n      <td>ASAH1</td>\n      <td>ENSG00000104763</td>\n      <td>ASAH1</td>\n      <td>ASAH1</td>\n      <td>ASAH1</td>\n      <td>613468</td>\n      <td>ASAH1</td>\n      <td>farber_lipogranulomatosis</td>\n      <td>228000</td>\n      <td>Acid ceramidase activity decreases in fibroblast.</td>\n    </tr>\n    <tr>\n      <th>3</th>\n      <td>2018-05-31T15:53:21.702280Z</td>\n      <td>2018-09-24T15:08:09.902427Z</td>\n      <td>ACAD</td>\n      <td>Acetyl-Coa Carboxylase Deficiency</td>\n      <td>Inherited metabolic disorder</td>\n      <td>Lipid disorder</td>\n      <td>None</td>\n      <td>200350</td>\n      <td>200350</td>\n      <td></td>\n      <td>...</td>\n      <td>ACACA</td>\n      <td>ENSG00000275176</td>\n      <td>ACACA</td>\n      <td>ACACA</td>\n      <td>ACACA</td>\n      <td>200350</td>\n      <td>ACACA</td>\n      <td>acetyl_coa_carboxylase_deficiency</td>\n      <td>None</td>\n      <td>Hypotonic myopathy and neurologic damage, excr...</td>\n    </tr>\n    <tr>\n      <th>4</th>\n      <td>2018-05-31T15:53:21.702280Z</td>\n      <td>2018-09-24T15:08:10.069961Z</td>\n      <td>PALD</td>\n      <td>Pseudoneonatal Adrenoleukodystrophy</td>\n      <td>Inherited metabolic disorder</td>\n      <td>Beta oxidation of fatty acids</td>\n      <td>Autosomal recessive</td>\n      <td>264470</td>\n      <td>264470</td>\n      <td>264470</td>\n      <td>...</td>\n      <td>ACOX1</td>\n      <td>ENSG00000161533</td>\n      <td>ACOX1</td>\n      <td>ACOX1</td>\n      <td>ACOX1</td>\n      <td>609751</td>\n      <td>ACOX1</td>\n      <td>None</td>\n      <td>264470</td>\n      <td>Increased very long chain fatty acids and decr...</td>\n    </tr>\n  </tbody>\n</table>\n<p>5 rows × 33 columns</p>\n</div>"
     },
     "execution_count": 12,
     "metadata": {},
     "output_type": "execute_result"
    }
   ],
   "source": [
    "from src.features.vmh import get_raw_diseases\n",
    "\n",
    "raw_diseases_df = pd.DataFrame(get_raw_diseases())\n",
    "raw_diseases_df.head()"
   ],
   "metadata": {
    "collapsed": false,
    "ExecuteTime": {
     "end_time": "2023-12-07T09:18:35.658339568Z",
     "start_time": "2023-12-07T09:18:35.606092095Z"
    }
   },
   "id": "352e45c3a48b6af8"
  },
  {
   "cell_type": "code",
   "execution_count": 13,
   "outputs": [
    {
     "name": "stdout",
     "output_type": "stream",
     "text": [
      "shape of diseases table (255, 33)\n"
     ]
    }
   ],
   "source": [
    "print(f'shape of diseases table {raw_diseases_df.shape}')"
   ],
   "metadata": {
    "collapsed": false,
    "ExecuteTime": {
     "end_time": "2023-12-07T09:18:38.652241797Z",
     "start_time": "2023-12-07T09:18:38.610580313Z"
    }
   },
   "id": "f708b1af8e28e43e"
  },
  {
   "cell_type": "code",
   "execution_count": 15,
   "outputs": [
    {
     "name": "stderr",
     "output_type": "stream",
     "text": [
      "/tmp/ipykernel_12006/995731039.py:7: DeprecationWarning: `magic(...)` is deprecated since IPython 0.13 (warning added in 8.1), use run_line_magic(magic_name, parameter_s).\n",
      "  get_ipython().magic(\"reset\")\n"
     ]
    }
   ],
   "source": [
    "reset_vars_except()"
   ],
   "metadata": {
    "collapsed": false,
    "ExecuteTime": {
     "end_time": "2023-12-07T09:19:18.264171883Z",
     "start_time": "2023-12-07T09:19:16.292228846Z"
    }
   },
   "id": "50056bf41ca5e470"
  },
  {
   "cell_type": "markdown",
   "source": [
    "## Metabolites"
   ],
   "metadata": {
    "collapsed": false
   },
   "id": "acfef13395d0adf"
  },
  {
   "cell_type": "code",
   "execution_count": 16,
   "outputs": [
    {
     "data": {
      "text/plain": "   met_id  abbreviation                  createdDate  \\\n0       4        10fthf  2018-05-31T15:54:08.170242Z   \n1       1    10fthf5glu  2018-05-31T15:54:08.170242Z   \n2       2    10fthf6glu  2018-05-31T15:54:08.170242Z   \n3       3    10fthf7glu  2018-05-31T15:54:08.170242Z   \n4    2937  10m3hddcaACP  2018-05-31T15:54:08.170242Z   \n\n                   updatedDate                            fullName  \\\n0  2019-02-08T16:20:18.422023Z           10-Formyltetrahydrofolate   \n1  2019-02-01T14:33:17.460050Z  10-Formyltetrahydrofolate-[Glu](5)   \n2  2018-12-03T15:29:15.338860Z  10-Formyltetrahydrofolate-[Glu](6)   \n3  2018-12-03T15:29:15.079598Z  10-Formyltetrahydrofolate-[Glu](7)   \n4  2019-02-01T14:33:17.730885Z  10-methyl-3-hydroxy-dodecanoyl-ACP   \n\n                                         description  \\\n0  Human Metabolome Database (HMDB): 10-Formyltet...   \n1                                                      \n2                                                      \n3                                                      \n4                                                      \n\n                                            synonyms  \\\n0  10-Formyl-THF***10-Formyltetrahydrofolic acid*...   \n1                                               None   \n2                                               None   \n3                                               None   \n4                                               None   \n\n                                               iupac neutralFormula  \\\n0  (2S)-2-[(4-{N-[(2-amino-4-oxo-1,4,5,6,7,8-hexa...                  \n1                                               None                  \n2                                               None                  \n3                                               None                  \n4                                               None                  \n\n  chargedFormula  ...  metlin  casRegistry  epa_id echa_id iuphar_id fda_id  \\\n0     C20H21N7O7  ...    5912    2800-34-2    None    None      None   None   \n1   C40H45N11O19  ...    None         None    None    None      None   None   \n2   C45H51N12O22  ...    None         None    None    None      None   None   \n3   C50H57N13O25  ...    None         None    None    None      None   None   \n4  C24H45N2O9PRS  ...    None         None    None    None      None   None   \n\n  mesh_id    chodb_id isHuman isMicrobe  \n0    None      10fthf    True      True  \n1    None  10fthf5glu    True      True  \n2    None  10fthf6glu    True     False  \n3    None  10fthf7glu    True     False  \n4    None        None   False      True  \n\n[5 rows x 54 columns]",
      "text/html": "<div>\n<style scoped>\n    .dataframe tbody tr th:only-of-type {\n        vertical-align: middle;\n    }\n\n    .dataframe tbody tr th {\n        vertical-align: top;\n    }\n\n    .dataframe thead th {\n        text-align: right;\n    }\n</style>\n<table border=\"1\" class=\"dataframe\">\n  <thead>\n    <tr style=\"text-align: right;\">\n      <th></th>\n      <th>met_id</th>\n      <th>abbreviation</th>\n      <th>createdDate</th>\n      <th>updatedDate</th>\n      <th>fullName</th>\n      <th>description</th>\n      <th>synonyms</th>\n      <th>iupac</th>\n      <th>neutralFormula</th>\n      <th>chargedFormula</th>\n      <th>...</th>\n      <th>metlin</th>\n      <th>casRegistry</th>\n      <th>epa_id</th>\n      <th>echa_id</th>\n      <th>iuphar_id</th>\n      <th>fda_id</th>\n      <th>mesh_id</th>\n      <th>chodb_id</th>\n      <th>isHuman</th>\n      <th>isMicrobe</th>\n    </tr>\n  </thead>\n  <tbody>\n    <tr>\n      <th>0</th>\n      <td>4</td>\n      <td>10fthf</td>\n      <td>2018-05-31T15:54:08.170242Z</td>\n      <td>2019-02-08T16:20:18.422023Z</td>\n      <td>10-Formyltetrahydrofolate</td>\n      <td>Human Metabolome Database (HMDB): 10-Formyltet...</td>\n      <td>10-Formyl-THF***10-Formyltetrahydrofolic acid*...</td>\n      <td>(2S)-2-[(4-{N-[(2-amino-4-oxo-1,4,5,6,7,8-hexa...</td>\n      <td></td>\n      <td>C20H21N7O7</td>\n      <td>...</td>\n      <td>5912</td>\n      <td>2800-34-2</td>\n      <td>None</td>\n      <td>None</td>\n      <td>None</td>\n      <td>None</td>\n      <td>None</td>\n      <td>10fthf</td>\n      <td>True</td>\n      <td>True</td>\n    </tr>\n    <tr>\n      <th>1</th>\n      <td>1</td>\n      <td>10fthf5glu</td>\n      <td>2018-05-31T15:54:08.170242Z</td>\n      <td>2019-02-01T14:33:17.460050Z</td>\n      <td>10-Formyltetrahydrofolate-[Glu](5)</td>\n      <td></td>\n      <td>None</td>\n      <td>None</td>\n      <td></td>\n      <td>C40H45N11O19</td>\n      <td>...</td>\n      <td>None</td>\n      <td>None</td>\n      <td>None</td>\n      <td>None</td>\n      <td>None</td>\n      <td>None</td>\n      <td>None</td>\n      <td>10fthf5glu</td>\n      <td>True</td>\n      <td>True</td>\n    </tr>\n    <tr>\n      <th>2</th>\n      <td>2</td>\n      <td>10fthf6glu</td>\n      <td>2018-05-31T15:54:08.170242Z</td>\n      <td>2018-12-03T15:29:15.338860Z</td>\n      <td>10-Formyltetrahydrofolate-[Glu](6)</td>\n      <td></td>\n      <td>None</td>\n      <td>None</td>\n      <td></td>\n      <td>C45H51N12O22</td>\n      <td>...</td>\n      <td>None</td>\n      <td>None</td>\n      <td>None</td>\n      <td>None</td>\n      <td>None</td>\n      <td>None</td>\n      <td>None</td>\n      <td>10fthf6glu</td>\n      <td>True</td>\n      <td>False</td>\n    </tr>\n    <tr>\n      <th>3</th>\n      <td>3</td>\n      <td>10fthf7glu</td>\n      <td>2018-05-31T15:54:08.170242Z</td>\n      <td>2018-12-03T15:29:15.079598Z</td>\n      <td>10-Formyltetrahydrofolate-[Glu](7)</td>\n      <td></td>\n      <td>None</td>\n      <td>None</td>\n      <td></td>\n      <td>C50H57N13O25</td>\n      <td>...</td>\n      <td>None</td>\n      <td>None</td>\n      <td>None</td>\n      <td>None</td>\n      <td>None</td>\n      <td>None</td>\n      <td>None</td>\n      <td>10fthf7glu</td>\n      <td>True</td>\n      <td>False</td>\n    </tr>\n    <tr>\n      <th>4</th>\n      <td>2937</td>\n      <td>10m3hddcaACP</td>\n      <td>2018-05-31T15:54:08.170242Z</td>\n      <td>2019-02-01T14:33:17.730885Z</td>\n      <td>10-methyl-3-hydroxy-dodecanoyl-ACP</td>\n      <td></td>\n      <td>None</td>\n      <td>None</td>\n      <td></td>\n      <td>C24H45N2O9PRS</td>\n      <td>...</td>\n      <td>None</td>\n      <td>None</td>\n      <td>None</td>\n      <td>None</td>\n      <td>None</td>\n      <td>None</td>\n      <td>None</td>\n      <td>None</td>\n      <td>False</td>\n      <td>True</td>\n    </tr>\n  </tbody>\n</table>\n<p>5 rows × 54 columns</p>\n</div>"
     },
     "execution_count": 16,
     "metadata": {},
     "output_type": "execute_result"
    }
   ],
   "source": [
    "from src.features.vmh import get_raw_metabolites\n",
    "\n",
    "raw_metabolites_df = pd.DataFrame(get_raw_metabolites())\n",
    "raw_metabolites_df.head()"
   ],
   "metadata": {
    "collapsed": false,
    "ExecuteTime": {
     "end_time": "2023-12-07T09:19:29.934665618Z",
     "start_time": "2023-12-07T09:19:29.769204838Z"
    }
   },
   "id": "e4a1e21044fcdb10"
  },
  {
   "cell_type": "code",
   "execution_count": 17,
   "outputs": [
    {
     "name": "stdout",
     "output_type": "stream",
     "text": [
      "shape of metabolites table (5607, 54)\n"
     ]
    }
   ],
   "source": [
    "print(f'shape of metabolites table {raw_metabolites_df.shape}')"
   ],
   "metadata": {
    "collapsed": false,
    "ExecuteTime": {
     "end_time": "2023-12-07T09:19:32.435281755Z",
     "start_time": "2023-12-07T09:19:32.422755761Z"
    }
   },
   "id": "8eb3aa74d69eacd7"
  },
  {
   "cell_type": "code",
   "execution_count": 18,
   "outputs": [
    {
     "name": "stderr",
     "output_type": "stream",
     "text": [
      "/tmp/ipykernel_12006/995731039.py:7: DeprecationWarning: `magic(...)` is deprecated since IPython 0.13 (warning added in 8.1), use run_line_magic(magic_name, parameter_s).\n",
      "  get_ipython().magic(\"reset\")\n"
     ]
    }
   ],
   "source": [
    "reset_vars_except()"
   ],
   "metadata": {
    "collapsed": false,
    "ExecuteTime": {
     "end_time": "2023-12-07T09:19:39.775215124Z",
     "start_time": "2023-12-07T09:19:37.628626629Z"
    }
   },
   "id": "e524c2515f538277"
  },
  {
   "cell_type": "markdown",
   "source": [
    "## Reactions\n"
   ],
   "metadata": {
    "collapsed": false
   },
   "id": "cc31463f5ebae91d"
  },
  {
   "cell_type": "code",
   "execution_count": 19,
   "outputs": [
    {
     "data": {
      "text/plain": "   rxn_id                  createdDate                  updatedDate  \\\n0       1  2018-05-31T16:06:56.524774Z  2018-12-03T14:46:36.681235Z   \n1       2  2018-05-31T16:06:56.524774Z  2018-12-03T14:54:14.812757Z   \n2       3  2018-05-31T16:06:56.524774Z  2018-12-03T14:46:36.962656Z   \n3       4  2018-05-31T16:06:56.524774Z  2018-12-03T14:48:45.499964Z   \n4       5  2018-05-31T16:06:56.524774Z  2018-12-03T14:46:37.186742Z   \n\n   abbreviation                                 description  \\\n0  10FTHF5GLUtl      5-Glutamyl-10Fthf Transport, Lysosomal   \n1  10FTHF5GLUtm  5-Glutamyl-10Fthf Transport, Mitochondrial   \n2  10FTHF6GLUtl      6-Glutamyl-10Fthf Transport, Lysosomal   \n3  10FTHF6GLUtm  6-Glutamyl-10Fthf Transport, Mitochondrial   \n4  10FTHF7GLUtl      7-Glutamyl-10Fthf Transport, Lysosomal   \n\n                           formula  reversible  mcs   csecoida  \\\n0  10fthf5glu[c] -> 10fthf5glu[l]            0  2.0  3A0000000   \n1  10fthf5glu[m] -> 10fthf5glu[c]            0  2.0  3A0000000   \n2  10fthf6glu[c] -> 10fthf6glu[l]            0  2.0  3A0000000   \n3  10fthf6glu[m] -> 10fthf6glu[c]            0  2.0  3A0000000   \n4  10fthf7glu[c] -> 10fthf7glu[l]            0  2.0  3A0000000   \n\n                                               notes  ... cog reconMap  \\\n0  carrier-mediated transport - but which and how...  ...         None   \n1                            mechanism is unknown IT  ...         None   \n2  carrier-mediated transport - but which and how...  ...         None   \n3                            mechanism is unknown IT  ...         None   \n4  carrier-mediated transport - but which and how...  ...         None   \n\n        reconMap3                  organellemap wikipedia      chodb_id  \\\n0  R_10FTHF5GLUtl       lysosome;R_10FTHF5GLUtl      None  10FTHF5GLUtl   \n1  R_10FTHF5GLUtm  mitochondrion;R_10FTHF5GLUtm      None  10FTHF5GLUtm   \n2  R_10FTHF6GLUtl       lysosome;R_10FTHF6GLUtl      None  10FTHF6GLUtl   \n3  R_10FTHF6GLUtm  mitochondrion;R_10FTHF6GLUtm      None  10FTHF6GLUtm   \n4  R_10FTHF7GLUtl       lysosome;R_10FTHF7GLUtl      None  10FTHF7GLUtl   \n\n                  subsystem massbalance isHuman isMicrobe  \n0      Transport, lysosomal         1.0    True     False  \n1  Transport, mitochondrial         1.0    True     False  \n2      Transport, lysosomal         1.0    True     False  \n3  Transport, mitochondrial         1.0    True     False  \n4      Transport, lysosomal         1.0    True     False  \n\n[5 rows x 28 columns]",
      "text/html": "<div>\n<style scoped>\n    .dataframe tbody tr th:only-of-type {\n        vertical-align: middle;\n    }\n\n    .dataframe tbody tr th {\n        vertical-align: top;\n    }\n\n    .dataframe thead th {\n        text-align: right;\n    }\n</style>\n<table border=\"1\" class=\"dataframe\">\n  <thead>\n    <tr style=\"text-align: right;\">\n      <th></th>\n      <th>rxn_id</th>\n      <th>createdDate</th>\n      <th>updatedDate</th>\n      <th>abbreviation</th>\n      <th>description</th>\n      <th>formula</th>\n      <th>reversible</th>\n      <th>mcs</th>\n      <th>csecoida</th>\n      <th>notes</th>\n      <th>...</th>\n      <th>cog</th>\n      <th>reconMap</th>\n      <th>reconMap3</th>\n      <th>organellemap</th>\n      <th>wikipedia</th>\n      <th>chodb_id</th>\n      <th>subsystem</th>\n      <th>massbalance</th>\n      <th>isHuman</th>\n      <th>isMicrobe</th>\n    </tr>\n  </thead>\n  <tbody>\n    <tr>\n      <th>0</th>\n      <td>1</td>\n      <td>2018-05-31T16:06:56.524774Z</td>\n      <td>2018-12-03T14:46:36.681235Z</td>\n      <td>10FTHF5GLUtl</td>\n      <td>5-Glutamyl-10Fthf Transport, Lysosomal</td>\n      <td>10fthf5glu[c] -&gt; 10fthf5glu[l]</td>\n      <td>0</td>\n      <td>2.0</td>\n      <td>3A0000000</td>\n      <td>carrier-mediated transport - but which and how...</td>\n      <td>...</td>\n      <td></td>\n      <td>None</td>\n      <td>R_10FTHF5GLUtl</td>\n      <td>lysosome;R_10FTHF5GLUtl</td>\n      <td>None</td>\n      <td>10FTHF5GLUtl</td>\n      <td>Transport, lysosomal</td>\n      <td>1.0</td>\n      <td>True</td>\n      <td>False</td>\n    </tr>\n    <tr>\n      <th>1</th>\n      <td>2</td>\n      <td>2018-05-31T16:06:56.524774Z</td>\n      <td>2018-12-03T14:54:14.812757Z</td>\n      <td>10FTHF5GLUtm</td>\n      <td>5-Glutamyl-10Fthf Transport, Mitochondrial</td>\n      <td>10fthf5glu[m] -&gt; 10fthf5glu[c]</td>\n      <td>0</td>\n      <td>2.0</td>\n      <td>3A0000000</td>\n      <td>mechanism is unknown IT</td>\n      <td>...</td>\n      <td></td>\n      <td>None</td>\n      <td>R_10FTHF5GLUtm</td>\n      <td>mitochondrion;R_10FTHF5GLUtm</td>\n      <td>None</td>\n      <td>10FTHF5GLUtm</td>\n      <td>Transport, mitochondrial</td>\n      <td>1.0</td>\n      <td>True</td>\n      <td>False</td>\n    </tr>\n    <tr>\n      <th>2</th>\n      <td>3</td>\n      <td>2018-05-31T16:06:56.524774Z</td>\n      <td>2018-12-03T14:46:36.962656Z</td>\n      <td>10FTHF6GLUtl</td>\n      <td>6-Glutamyl-10Fthf Transport, Lysosomal</td>\n      <td>10fthf6glu[c] -&gt; 10fthf6glu[l]</td>\n      <td>0</td>\n      <td>2.0</td>\n      <td>3A0000000</td>\n      <td>carrier-mediated transport - but which and how...</td>\n      <td>...</td>\n      <td></td>\n      <td>None</td>\n      <td>R_10FTHF6GLUtl</td>\n      <td>lysosome;R_10FTHF6GLUtl</td>\n      <td>None</td>\n      <td>10FTHF6GLUtl</td>\n      <td>Transport, lysosomal</td>\n      <td>1.0</td>\n      <td>True</td>\n      <td>False</td>\n    </tr>\n    <tr>\n      <th>3</th>\n      <td>4</td>\n      <td>2018-05-31T16:06:56.524774Z</td>\n      <td>2018-12-03T14:48:45.499964Z</td>\n      <td>10FTHF6GLUtm</td>\n      <td>6-Glutamyl-10Fthf Transport, Mitochondrial</td>\n      <td>10fthf6glu[m] -&gt; 10fthf6glu[c]</td>\n      <td>0</td>\n      <td>2.0</td>\n      <td>3A0000000</td>\n      <td>mechanism is unknown IT</td>\n      <td>...</td>\n      <td></td>\n      <td>None</td>\n      <td>R_10FTHF6GLUtm</td>\n      <td>mitochondrion;R_10FTHF6GLUtm</td>\n      <td>None</td>\n      <td>10FTHF6GLUtm</td>\n      <td>Transport, mitochondrial</td>\n      <td>1.0</td>\n      <td>True</td>\n      <td>False</td>\n    </tr>\n    <tr>\n      <th>4</th>\n      <td>5</td>\n      <td>2018-05-31T16:06:56.524774Z</td>\n      <td>2018-12-03T14:46:37.186742Z</td>\n      <td>10FTHF7GLUtl</td>\n      <td>7-Glutamyl-10Fthf Transport, Lysosomal</td>\n      <td>10fthf7glu[c] -&gt; 10fthf7glu[l]</td>\n      <td>0</td>\n      <td>2.0</td>\n      <td>3A0000000</td>\n      <td>carrier-mediated transport - but which and how...</td>\n      <td>...</td>\n      <td></td>\n      <td>None</td>\n      <td>R_10FTHF7GLUtl</td>\n      <td>lysosome;R_10FTHF7GLUtl</td>\n      <td>None</td>\n      <td>10FTHF7GLUtl</td>\n      <td>Transport, lysosomal</td>\n      <td>1.0</td>\n      <td>True</td>\n      <td>False</td>\n    </tr>\n  </tbody>\n</table>\n<p>5 rows × 28 columns</p>\n</div>"
     },
     "execution_count": 19,
     "metadata": {},
     "output_type": "execute_result"
    }
   ],
   "source": [
    "from src.features.vmh import get_raw_reactions\n",
    "\n",
    "raw_reactions_df = pd.DataFrame(get_raw_reactions())\n",
    "raw_reactions_df.head()"
   ],
   "metadata": {
    "collapsed": false,
    "ExecuteTime": {
     "end_time": "2023-12-07T09:20:00.142404650Z",
     "start_time": "2023-12-07T09:19:59.916099564Z"
    }
   },
   "id": "63b407296de09cc7"
  },
  {
   "cell_type": "code",
   "execution_count": 20,
   "outputs": [
    {
     "name": "stdout",
     "output_type": "stream",
     "text": [
      "shape of reactions table (19313, 28)\n"
     ]
    }
   ],
   "source": [
    "print(f'shape of reactions table {raw_reactions_df.shape}')"
   ],
   "metadata": {
    "collapsed": false,
    "ExecuteTime": {
     "end_time": "2023-12-07T09:20:02.592248945Z",
     "start_time": "2023-12-07T09:20:02.581084376Z"
    }
   },
   "id": "7487f6438209be38"
  },
  {
   "cell_type": "code",
   "execution_count": 36,
   "outputs": [
    {
     "data": {
      "text/plain": "0"
     },
     "execution_count": 36,
     "metadata": {},
     "output_type": "execute_result"
    }
   ],
   "source": [
    "reset_vars_except()"
   ],
   "metadata": {
    "collapsed": false,
    "ExecuteTime": {
     "end_time": "2023-12-06T10:08:08.315620080Z",
     "start_time": "2023-12-06T10:08:08.311552148Z"
    }
   },
   "id": "dab6b89626c4e90c"
  },
  {
   "cell_type": "markdown",
   "source": [
    "## Metabolites to Reactions"
   ],
   "metadata": {
    "collapsed": false
   },
   "id": "544f520a32387f35"
  },
  {
   "cell_type": "code",
   "execution_count": 21,
   "outputs": [
    {
     "data": {
      "text/plain": "                                                 rxn  \\\n0  {'rxn_id': 508, 'createdDate': '2018-05-31T16:...   \n1  {'rxn_id': 508, 'createdDate': '2018-05-31T16:...   \n2  {'rxn_id': 508, 'createdDate': '2018-05-31T16:...   \n3  {'rxn_id': 508, 'createdDate': '2018-05-31T16:...   \n4  {'rxn_id': 508, 'createdDate': '2018-05-31T16:...   \n\n                                                 met  value comp  \n0  {'met_id': 8, 'abbreviation': 'h2o', 'createdD...    1.0    m  \n1  {'met_id': 14, 'abbreviation': 'h', 'createdDa...    3.0    m  \n2  {'met_id': 14, 'abbreviation': 'h', 'createdDa...   -4.0    c  \n3  {'met_id': 23, 'abbreviation': 'atp', 'created...    1.0    m  \n4  {'met_id': 24, 'abbreviation': 'adp', 'created...   -1.0    m  ",
      "text/html": "<div>\n<style scoped>\n    .dataframe tbody tr th:only-of-type {\n        vertical-align: middle;\n    }\n\n    .dataframe tbody tr th {\n        vertical-align: top;\n    }\n\n    .dataframe thead th {\n        text-align: right;\n    }\n</style>\n<table border=\"1\" class=\"dataframe\">\n  <thead>\n    <tr style=\"text-align: right;\">\n      <th></th>\n      <th>rxn</th>\n      <th>met</th>\n      <th>value</th>\n      <th>comp</th>\n    </tr>\n  </thead>\n  <tbody>\n    <tr>\n      <th>0</th>\n      <td>{'rxn_id': 508, 'createdDate': '2018-05-31T16:...</td>\n      <td>{'met_id': 8, 'abbreviation': 'h2o', 'createdD...</td>\n      <td>1.0</td>\n      <td>m</td>\n    </tr>\n    <tr>\n      <th>1</th>\n      <td>{'rxn_id': 508, 'createdDate': '2018-05-31T16:...</td>\n      <td>{'met_id': 14, 'abbreviation': 'h', 'createdDa...</td>\n      <td>3.0</td>\n      <td>m</td>\n    </tr>\n    <tr>\n      <th>2</th>\n      <td>{'rxn_id': 508, 'createdDate': '2018-05-31T16:...</td>\n      <td>{'met_id': 14, 'abbreviation': 'h', 'createdDa...</td>\n      <td>-4.0</td>\n      <td>c</td>\n    </tr>\n    <tr>\n      <th>3</th>\n      <td>{'rxn_id': 508, 'createdDate': '2018-05-31T16:...</td>\n      <td>{'met_id': 23, 'abbreviation': 'atp', 'created...</td>\n      <td>1.0</td>\n      <td>m</td>\n    </tr>\n    <tr>\n      <th>4</th>\n      <td>{'rxn_id': 508, 'createdDate': '2018-05-31T16:...</td>\n      <td>{'met_id': 24, 'abbreviation': 'adp', 'created...</td>\n      <td>-1.0</td>\n      <td>m</td>\n    </tr>\n  </tbody>\n</table>\n</div>"
     },
     "execution_count": 21,
     "metadata": {},
     "output_type": "execute_result"
    }
   ],
   "source": [
    "from src.features.vmh import get_raw_metabolite_to_reaction_matrix\n",
    "\n",
    "raw_met_to_reaction_df = pd.DataFrame(get_raw_metabolite_to_reaction_matrix())\n",
    "raw_met_to_reaction_df.head()"
   ],
   "metadata": {
    "collapsed": false,
    "ExecuteTime": {
     "end_time": "2023-12-07T09:20:26.692182857Z",
     "start_time": "2023-12-07T09:20:23.689142665Z"
    }
   },
   "id": "8d7f23f30a1fbbc4"
  },
  {
   "cell_type": "code",
   "execution_count": 22,
   "outputs": [
    {
     "name": "stdout",
     "output_type": "stream",
     "text": [
      "shape of metabolite to reaction table (122560, 4)\n"
     ]
    }
   ],
   "source": [
    "print(f'shape of metabolite to reaction table {raw_met_to_reaction_df.shape}')"
   ],
   "metadata": {
    "collapsed": false,
    "ExecuteTime": {
     "end_time": "2023-12-07T09:20:28.517225058Z",
     "start_time": "2023-12-07T09:20:28.508744717Z"
    }
   },
   "id": "5084e9ed7145e996"
  },
  {
   "cell_type": "code",
   "execution_count": 23,
   "outputs": [
    {
     "name": "stderr",
     "output_type": "stream",
     "text": [
      "/tmp/ipykernel_12006/995731039.py:7: DeprecationWarning: `magic(...)` is deprecated since IPython 0.13 (warning added in 8.1), use run_line_magic(magic_name, parameter_s).\n",
      "  get_ipython().magic(\"reset\")\n"
     ]
    }
   ],
   "source": [
    "reset_vars_except()"
   ],
   "metadata": {
    "collapsed": false,
    "ExecuteTime": {
     "end_time": "2023-12-07T09:20:50.781692134Z",
     "start_time": "2023-12-07T09:20:48.371499820Z"
    }
   },
   "id": "3291ad364898ffa9"
  },
  {
   "cell_type": "markdown",
   "source": [
    "## Biomarkers"
   ],
   "metadata": {
    "collapsed": false
   },
   "id": "23a9de8ab0bc4e6"
  },
  {
   "cell_type": "code",
   "execution_count": 24,
   "outputs": [
    {
     "data": {
      "text/plain": "                                          metabolite  \\\n0  {'met_id': 345, 'abbreviation': 'gly', 'create...   \n1  {'met_id': 928, 'abbreviation': 'pro_L', 'crea...   \n2  {'met_id': 984, 'abbreviation': 'val_L', 'crea...   \n3  {'met_id': 370, 'abbreviation': 'thr_L', 'crea...   \n4  {'met_id': 523, 'abbreviation': 'met_L', 'crea...   \n\n                                                 iem  name      value  \\\n0  {'createdDate': '2018-05-31T15:53:21.702280Z',...  None  Increased   \n1  {'createdDate': '2018-05-31T15:53:21.702280Z',...  None  Increased   \n2  {'createdDate': '2018-05-31T15:53:21.702280Z',...  None  Increased   \n3  {'createdDate': '2018-05-31T15:53:21.702280Z',...  None  Increased   \n4  {'createdDate': '2018-05-31T15:53:21.702280Z',...  None  Increased   \n\n  normalConcentration rangeConcentration                       reference  \\\n0       180.00-740.00     550.00-1350.00  PMID: 21325949, PMID: 24190799   \n1      95.00 - 320.00           830-1360  PMID: 21325949, PMID: 24190799   \n2           65.00-215    210.00 - 650.00  PMID: 21325949, PMID: 24190799   \n3            25 - 150                     PMID: 21325949, PMID: 24190799   \n4         10.00-38.00      56.00 -170.00  PMID: 21325949, PMID: 24190799   \n\n         ramedis  \n0                 \n1                 \n2  125, 133, 337  \n3                 \n4                 ",
      "text/html": "<div>\n<style scoped>\n    .dataframe tbody tr th:only-of-type {\n        vertical-align: middle;\n    }\n\n    .dataframe tbody tr th {\n        vertical-align: top;\n    }\n\n    .dataframe thead th {\n        text-align: right;\n    }\n</style>\n<table border=\"1\" class=\"dataframe\">\n  <thead>\n    <tr style=\"text-align: right;\">\n      <th></th>\n      <th>metabolite</th>\n      <th>iem</th>\n      <th>name</th>\n      <th>value</th>\n      <th>normalConcentration</th>\n      <th>rangeConcentration</th>\n      <th>reference</th>\n      <th>ramedis</th>\n    </tr>\n  </thead>\n  <tbody>\n    <tr>\n      <th>0</th>\n      <td>{'met_id': 345, 'abbreviation': 'gly', 'create...</td>\n      <td>{'createdDate': '2018-05-31T15:53:21.702280Z',...</td>\n      <td>None</td>\n      <td>Increased</td>\n      <td>180.00-740.00</td>\n      <td>550.00-1350.00</td>\n      <td>PMID: 21325949, PMID: 24190799</td>\n      <td></td>\n    </tr>\n    <tr>\n      <th>1</th>\n      <td>{'met_id': 928, 'abbreviation': 'pro_L', 'crea...</td>\n      <td>{'createdDate': '2018-05-31T15:53:21.702280Z',...</td>\n      <td>None</td>\n      <td>Increased</td>\n      <td>95.00 - 320.00</td>\n      <td>830-1360</td>\n      <td>PMID: 21325949, PMID: 24190799</td>\n      <td></td>\n    </tr>\n    <tr>\n      <th>2</th>\n      <td>{'met_id': 984, 'abbreviation': 'val_L', 'crea...</td>\n      <td>{'createdDate': '2018-05-31T15:53:21.702280Z',...</td>\n      <td>None</td>\n      <td>Increased</td>\n      <td>65.00-215</td>\n      <td>210.00 - 650.00</td>\n      <td>PMID: 21325949, PMID: 24190799</td>\n      <td>125, 133, 337</td>\n    </tr>\n    <tr>\n      <th>3</th>\n      <td>{'met_id': 370, 'abbreviation': 'thr_L', 'crea...</td>\n      <td>{'createdDate': '2018-05-31T15:53:21.702280Z',...</td>\n      <td>None</td>\n      <td>Increased</td>\n      <td>25 - 150</td>\n      <td></td>\n      <td>PMID: 21325949, PMID: 24190799</td>\n      <td></td>\n    </tr>\n    <tr>\n      <th>4</th>\n      <td>{'met_id': 523, 'abbreviation': 'met_L', 'crea...</td>\n      <td>{'createdDate': '2018-05-31T15:53:21.702280Z',...</td>\n      <td>None</td>\n      <td>Increased</td>\n      <td>10.00-38.00</td>\n      <td>56.00 -170.00</td>\n      <td>PMID: 21325949, PMID: 24190799</td>\n      <td></td>\n    </tr>\n  </tbody>\n</table>\n</div>"
     },
     "execution_count": 24,
     "metadata": {},
     "output_type": "execute_result"
    }
   ],
   "source": [
    "from src.features.vmh import get_raw_biomarkers\n",
    "\n",
    "raw_biomarkers_df = pd.DataFrame(get_raw_biomarkers())\n",
    "raw_biomarkers_df.head()"
   ],
   "metadata": {
    "collapsed": false,
    "ExecuteTime": {
     "end_time": "2023-12-07T09:21:22.355351591Z",
     "start_time": "2023-12-07T09:21:22.299493321Z"
    }
   },
   "id": "4d077d8ebcb29993"
  },
  {
   "cell_type": "code",
   "execution_count": 25,
   "outputs": [
    {
     "name": "stdout",
     "output_type": "stream",
     "text": [
      "shape of metabolite to reaction table (115, 8)\n"
     ]
    }
   ],
   "source": [
    "print(f'shape of metabolite to reaction table {raw_biomarkers_df.shape}')"
   ],
   "metadata": {
    "collapsed": false,
    "ExecuteTime": {
     "end_time": "2023-12-07T09:21:24.372479605Z",
     "start_time": "2023-12-07T09:21:24.355825615Z"
    }
   },
   "id": "d427dfc3b99342e5"
  },
  {
   "cell_type": "code",
   "execution_count": 26,
   "outputs": [
    {
     "name": "stderr",
     "output_type": "stream",
     "text": [
      "/tmp/ipykernel_12006/995731039.py:7: DeprecationWarning: `magic(...)` is deprecated since IPython 0.13 (warning added in 8.1), use run_line_magic(magic_name, parameter_s).\n",
      "  get_ipython().magic(\"reset\")\n"
     ]
    }
   ],
   "source": [
    "reset_vars_except()"
   ],
   "metadata": {
    "collapsed": false,
    "ExecuteTime": {
     "end_time": "2023-12-07T09:21:32.164488968Z",
     "start_time": "2023-12-07T09:21:30.067588225Z"
    }
   },
   "id": "2d0ccc8c1a33a21a"
  }
 ],
 "metadata": {
  "kernelspec": {
   "display_name": "Python 3",
   "language": "python",
   "name": "python3"
  },
  "language_info": {
   "codemirror_mode": {
    "name": "ipython",
    "version": 2
   },
   "file_extension": ".py",
   "mimetype": "text/x-python",
   "name": "python",
   "nbconvert_exporter": "python",
   "pygments_lexer": "ipython2",
   "version": "2.7.6"
  }
 },
 "nbformat": 4,
 "nbformat_minor": 5
}
