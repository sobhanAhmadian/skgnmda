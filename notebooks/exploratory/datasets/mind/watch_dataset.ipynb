{
 "cells": [
  {
   "cell_type": "code",
   "execution_count": 1,
   "id": "initial_id",
   "metadata": {
    "collapsed": true,
    "ExecuteTime": {
     "end_time": "2023-11-12T15:32:35.041841Z",
     "start_time": "2023-11-12T15:32:35.031808Z"
    }
   },
   "outputs": [
    {
     "name": "stdout",
     "output_type": "stream",
     "text": [
      "/Users/sobhan.ahmadian.moghadam/Documents/Academic/Bioinformatics/Projects/Microbiome Disease Association/New Works/PowerMDA\n"
     ]
    }
   ],
   "source": [
    "cd /Users/sobhan.ahmadian.moghadam/Documents/Academic/Bioinformatics/Projects/Microbiome Disease Association/New Works/PowerMDA"
   ]
  },
  {
   "cell_type": "code",
   "execution_count": 2,
   "outputs": [],
   "source": [
    "import pandas as pd"
   ],
   "metadata": {
    "collapsed": false,
    "ExecuteTime": {
     "end_time": "2023-11-12T15:32:41.926379Z",
     "start_time": "2023-11-12T15:32:41.580952Z"
    }
   },
   "id": "cf1999020763309f"
  },
  {
   "cell_type": "code",
   "execution_count": 7,
   "outputs": [
    {
     "data": {
      "text/plain": "   source target    weight  context_index\n0  201174   1239  0.556485              0\n1     976   1239  0.467812              0\n2   32066   1224  0.367135              0\n3  201174   1224  0.351669              0\n4  201174    976  0.333900              0",
      "text/html": "<div>\n<style scoped>\n    .dataframe tbody tr th:only-of-type {\n        vertical-align: middle;\n    }\n\n    .dataframe tbody tr th {\n        vertical-align: top;\n    }\n\n    .dataframe thead th {\n        text-align: right;\n    }\n</style>\n<table border=\"1\" class=\"dataframe\">\n  <thead>\n    <tr style=\"text-align: right;\">\n      <th></th>\n      <th>source</th>\n      <th>target</th>\n      <th>weight</th>\n      <th>context_index</th>\n    </tr>\n  </thead>\n  <tbody>\n    <tr>\n      <th>0</th>\n      <td>201174</td>\n      <td>1239</td>\n      <td>0.556485</td>\n      <td>0</td>\n    </tr>\n    <tr>\n      <th>1</th>\n      <td>976</td>\n      <td>1239</td>\n      <td>0.467812</td>\n      <td>0</td>\n    </tr>\n    <tr>\n      <th>2</th>\n      <td>32066</td>\n      <td>1224</td>\n      <td>0.367135</td>\n      <td>0</td>\n    </tr>\n    <tr>\n      <th>3</th>\n      <td>201174</td>\n      <td>1224</td>\n      <td>0.351669</td>\n      <td>0</td>\n    </tr>\n    <tr>\n      <th>4</th>\n      <td>201174</td>\n      <td>976</td>\n      <td>0.333900</td>\n      <td>0</td>\n    </tr>\n  </tbody>\n</table>\n</div>"
     },
     "execution_count": 7,
     "metadata": {},
     "output_type": "execute_result"
    }
   ],
   "source": [
    "from src.features.mind import get_raw_network, NETWORKS\n",
    "\n",
    "pd.DataFrame(get_raw_network('C0310')['nodes']).head()"
   ],
   "metadata": {
    "collapsed": false,
    "ExecuteTime": {
     "end_time": "2023-11-12T15:36:49.025045Z",
     "start_time": "2023-11-12T15:36:48.960841Z"
    }
   },
   "id": "839ea4bd42c3255f"
  },
  {
   "cell_type": "code",
   "execution_count": 8,
   "outputs": [
    {
     "data": {
      "text/plain": "   source target    weight  context_index\n0  201174   1239  0.556485              0\n1     976   1239  0.467812              0\n2   32066   1224  0.367135              0\n3  201174   1224  0.351669              0\n4  201174    976  0.333900              0",
      "text/html": "<div>\n<style scoped>\n    .dataframe tbody tr th:only-of-type {\n        vertical-align: middle;\n    }\n\n    .dataframe tbody tr th {\n        vertical-align: top;\n    }\n\n    .dataframe thead th {\n        text-align: right;\n    }\n</style>\n<table border=\"1\" class=\"dataframe\">\n  <thead>\n    <tr style=\"text-align: right;\">\n      <th></th>\n      <th>source</th>\n      <th>target</th>\n      <th>weight</th>\n      <th>context_index</th>\n    </tr>\n  </thead>\n  <tbody>\n    <tr>\n      <th>0</th>\n      <td>201174</td>\n      <td>1239</td>\n      <td>0.556485</td>\n      <td>0</td>\n    </tr>\n    <tr>\n      <th>1</th>\n      <td>976</td>\n      <td>1239</td>\n      <td>0.467812</td>\n      <td>0</td>\n    </tr>\n    <tr>\n      <th>2</th>\n      <td>32066</td>\n      <td>1224</td>\n      <td>0.367135</td>\n      <td>0</td>\n    </tr>\n    <tr>\n      <th>3</th>\n      <td>201174</td>\n      <td>1224</td>\n      <td>0.351669</td>\n      <td>0</td>\n    </tr>\n    <tr>\n      <th>4</th>\n      <td>201174</td>\n      <td>976</td>\n      <td>0.333900</td>\n      <td>0</td>\n    </tr>\n  </tbody>\n</table>\n</div>"
     },
     "execution_count": 8,
     "metadata": {},
     "output_type": "execute_result"
    }
   ],
   "source": [
    "pd.DataFrame(get_raw_network('C0310')['links']).head()"
   ],
   "metadata": {
    "collapsed": false,
    "ExecuteTime": {
     "end_time": "2023-11-12T15:37:35.187632Z",
     "start_time": "2023-11-12T15:37:35.159163Z"
    }
   },
   "id": "811d0ee564d5f2a8"
  },
  {
   "cell_type": "code",
   "execution_count": 11,
   "outputs": [
    {
     "data": {
      "text/plain": "[{'cid': 'C0310',\n  'host': 'Homo Sapiens',\n  'interaction_type': 'correlation',\n  'condition': \"Crohn's disease\",\n  'location': 'Gut',\n  'total_link': 486,\n  'description': 'Biopsy of 187 CD samples from the Swiss IBD cohort (Cohort 1), mean age at enrolment is 37, mean disease duration is 11 years, 32% responses to Anti-TNF therapy, complete remission 87%',\n  'publication': {'pubmed_id': '30664783',\n   'date': '2019-01-31T20:30:00.000Z',\n   'authors': [{'name': 'Macpherson AJ',\n     'email': 'macpherson@dbmr.unibe.ch'}]},\n  'computational_metadata': {'network_inference': 'Spearman',\n   'taxonomy_db': 'greengenes',\n   'directionality': 'undirected',\n   'Weak correlation': '0.25',\n   'Strong correlation': '0.5'},\n  'experimental_metadata': {'data-type': '16S rRNA',\n   'platform': 'Invitrogen Platinum Taq DNA polymerase',\n   'region': 'V5/V6'},\n  'has_abundance': True}]"
     },
     "execution_count": 11,
     "metadata": {},
     "output_type": "execute_result"
    }
   ],
   "source": [
    "get_raw_network('C0310')['contexts']"
   ],
   "metadata": {
    "collapsed": false,
    "ExecuteTime": {
     "end_time": "2023-11-12T15:38:37.532467Z",
     "start_time": "2023-11-12T15:38:37.479686Z"
    }
   },
   "id": "a625899167a3a589"
  }
 ],
 "metadata": {
  "kernelspec": {
   "display_name": "Python 3",
   "language": "python",
   "name": "python3"
  },
  "language_info": {
   "codemirror_mode": {
    "name": "ipython",
    "version": 2
   },
   "file_extension": ".py",
   "mimetype": "text/x-python",
   "name": "python",
   "nbconvert_exporter": "python",
   "pygments_lexer": "ipython2",
   "version": "2.7.6"
  }
 },
 "nbformat": 4,
 "nbformat_minor": 5
}
